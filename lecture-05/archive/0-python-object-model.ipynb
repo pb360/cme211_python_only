{
 "cells": [
  {
   "cell_type": "markdown",
   "metadata": {},
   "source": [
    "# CME 211: Lecture 5\n",
    "\n",
    "## Topics\n",
    "\n",
    "* Python object model\n",
    "\n",
    "* Python modules\n",
    "\n",
    "* Python exceptions\n",
    "\n",
    "* Introduction to object oriented programming\n",
    "\n",
    "\n",
    "## Python object model\n",
    "\n",
    "Let's review and elaborate on Python's object model.  Key things to always keep\n",
    "in mind:\n",
    "\n",
    "* everything in Python is an object\n",
    "\n",
    "* variables in Python are references to objects\n",
    "\n",
    "### Starting example"
   ]
  },
  {
   "cell_type": "code",
   "execution_count": 1,
   "metadata": {},
   "outputs": [
    {
     "name": "stdout",
     "output_type": "stream",
     "text": [
      "[42, 19, 73]\n",
      "[42, 19, 73]\n"
     ]
    }
   ],
   "source": [
    "a = [42, 19, 73]\n",
    "b = a\n",
    "print(a)\n",
    "print(b)"
   ]
  },
  {
   "cell_type": "code",
   "execution_count": 2,
   "metadata": {},
   "outputs": [
    {
     "name": "stdout",
     "output_type": "stream",
     "text": [
      "[7, 19, 73]\n",
      "[7, 19, 73]\n"
     ]
    }
   ],
   "source": [
    "b[0] = 7   # (1.)\n",
    "print(b)   # (2.)\n",
    "print(a)   # (2.)"
   ]
  },
  {
   "cell_type": "markdown",
   "metadata": {},
   "source": [
    "1. Item `b[0]` is modified\n",
    "\n",
    "2. This action affects the object referenced by both `a` and `b`\n",
    "\n",
    "In this example, `a` is a reference to the list object initially set to `[42,\n",
    "19, 73]`.  The variable `b` also references the same list.\n",
    "\n",
    "![fig/references.png](fig/references.png)\n",
    "\n",
    "### Analogy\n",
    "\n",
    "* This room is like an object\n",
    "\n",
    "* \"Geology Corner Auditorium\" is an identifier that references this room\n",
    "\n",
    "* \"320-105\" is also an identifier that references this same room\n",
    "\n",
    "### Objects and references\n",
    "\n",
    "* Names or identifiers point to or reference an object\n",
    "\n",
    "* Identifiers are untyped and dynamic (an identifier can reference an integer,\n",
    "  and then reference a string)"
   ]
  },
  {
   "cell_type": "code",
   "execution_count": 3,
   "metadata": {},
   "outputs": [],
   "source": [
    "a = 5\n",
    "a = 'hi'"
   ]
  },
  {
   "cell_type": "markdown",
   "metadata": {},
   "source": [
    "* But Python is also strongly typed: you can't add a number and a string because\n",
    "  that doesn't make sense\n",
    "\n",
    "* Everything in Python is an object: numbers, strings, functions, etc. are all\n",
    "  objects\n",
    "\n",
    "* An object is a location in memory with a type and a value\n",
    "\n",
    "### Assignment\n",
    "\n",
    "The assignment operation, `=`, can be interpreted as setting up a reference.\n",
    "\n",
    "We can interpret the code:"
   ]
  },
  {
   "cell_type": "code",
   "execution_count": 4,
   "metadata": {},
   "outputs": [],
   "source": [
    "a = 'hello'"
   ]
  },
  {
   "cell_type": "markdown",
   "metadata": {},
   "source": [
    "as:\n",
    "\n",
    "1. creating a string object containing `'hello'`\n",
    "\n",
    "2. setting the identifier `a` to refer to the newly created string object\n",
    "\n",
    "### Example\n",
    "\n",
    "![fig/references-example.png](fig/references-example.png)\n",
    "\n",
    "### Example\n",
    "\n",
    "![fig/references-example-2.png](fig/references-example-2.png)\n",
    "\n",
    "### Checking references\n",
    "\n",
    "We can check if two names (variables) reference the same object with the `is`\n",
    "operator:"
   ]
  },
  {
   "cell_type": "code",
   "execution_count": 5,
   "metadata": {},
   "outputs": [
    {
     "name": "stdout",
     "output_type": "stream",
     "text": [
      "True\n"
     ]
    }
   ],
   "source": [
    "a = [42, 19, 73]\n",
    "b = a\n",
    "print(a is b)"
   ]
  },
  {
   "cell_type": "markdown",
   "metadata": {},
   "source": [
    "In memory we have:\n",
    "\n",
    "![list-1](fig/list-1.png)"
   ]
  },
  {
   "cell_type": "code",
   "execution_count": 6,
   "metadata": {},
   "outputs": [
    {
     "name": "stdout",
     "output_type": "stream",
     "text": [
      "False\n"
     ]
    }
   ],
   "source": [
    "b = [42, 19, 73]\n",
    "print(a is b)"
   ]
  },
  {
   "cell_type": "markdown",
   "metadata": {},
   "source": [
    "In memory we have:\n",
    "\n",
    "![list-2](fig/list-2.png)\n",
    "\n",
    "Check it out in [Python Tutor][pytut-ex-list].\n",
    "\n",
    "[pytut-ex-list]: http://www.pythontutor.com/visualize.html#code=a%20%3D%20%5B42,%2019,%2073%5D%0Ab%20%3D%20a%0Aprint(a%20is%20b%29%0Ab%20%3D%20%5B42,%2019,%2073%5D%0Aprint(a%20is%20b%29%0A&cumulative=false&curInstr=0&heapPrimitives=false&mode=display&origin=opt-frontend.js&py=3&rawInputLstJSON=%5B%5D&textReferences=false\n",
    "\n",
    "### Integers and references\n",
    "\n",
    "Integers are objects also and need to be created in memory.  Let's explore this\n",
    "a bit."
   ]
  },
  {
   "cell_type": "code",
   "execution_count": 7,
   "metadata": {},
   "outputs": [
    {
     "data": {
      "text/plain": [
       "True"
      ]
     },
     "execution_count": 7,
     "metadata": {},
     "output_type": "execute_result"
    }
   ],
   "source": [
    "a = 1024\n",
    "b = a\n",
    "a is b"
   ]
  },
  {
   "cell_type": "code",
   "execution_count": 8,
   "metadata": {},
   "outputs": [
    {
     "data": {
      "text/plain": [
       "False"
      ]
     },
     "execution_count": 8,
     "metadata": {},
     "output_type": "execute_result"
    }
   ],
   "source": [
    "a = 1024\n",
    "b = 1024\n",
    "a is b"
   ]
  },
  {
   "cell_type": "code",
   "execution_count": 9,
   "metadata": {},
   "outputs": [
    {
     "data": {
      "text/plain": [
       "True"
      ]
     },
     "execution_count": 9,
     "metadata": {},
     "output_type": "execute_result"
    }
   ],
   "source": [
    "a = 16\n",
    "b = 16\n",
    "a is b"
   ]
  },
  {
   "cell_type": "markdown",
   "metadata": {},
   "source": [
    "In the last code block, `a` and `b` point to the same object, because Python\n",
    "preallocates some integers.\n",
    "\n",
    "### Preallocated integers\n",
    "\n",
    "* For interactive usage, Python preallocates permanent integer objects for the\n",
    "  values `-5` to `256`\n",
    "\n",
    "* Instead of constantly creating / destroying these objects they are\n",
    "  permanently maintained\n",
    "\n",
    "* Integers outside this range are created / destroyed as needed"
   ]
  },
  {
   "cell_type": "code",
   "execution_count": 10,
   "metadata": {},
   "outputs": [
    {
     "data": {
      "text/plain": [
       "False"
      ]
     },
     "execution_count": 10,
     "metadata": {},
     "output_type": "execute_result"
    }
   ],
   "source": [
    "a = -6\n",
    "b = -6\n",
    "a is b"
   ]
  },
  {
   "cell_type": "code",
   "execution_count": 11,
   "metadata": {},
   "outputs": [
    {
     "data": {
      "text/plain": [
       "True"
      ]
     },
     "execution_count": 11,
     "metadata": {},
     "output_type": "execute_result"
    }
   ],
   "source": [
    "a = -5\n",
    "b = -5\n",
    "a is b"
   ]
  },
  {
   "cell_type": "code",
   "execution_count": 12,
   "metadata": {},
   "outputs": [
    {
     "data": {
      "text/plain": [
       "True"
      ]
     },
     "execution_count": 12,
     "metadata": {},
     "output_type": "execute_result"
    }
   ],
   "source": [
    "a = 256\n",
    "b = 256\n",
    "a is b"
   ]
  },
  {
   "cell_type": "code",
   "execution_count": 13,
   "metadata": {},
   "outputs": [
    {
     "data": {
      "text/plain": [
       "False"
      ]
     },
     "execution_count": 13,
     "metadata": {},
     "output_type": "execute_result"
    }
   ],
   "source": [
    "a = 257\n",
    "b = 257\n",
    "a is b"
   ]
  },
  {
   "cell_type": "markdown",
   "metadata": {},
   "source": [
    "### String reuse\n",
    "\n",
    "String objects may be \"reused\" internally:"
   ]
  },
  {
   "cell_type": "code",
   "execution_count": 14,
   "metadata": {},
   "outputs": [
    {
     "data": {
      "text/plain": [
       "True"
      ]
     },
     "execution_count": 14,
     "metadata": {},
     "output_type": "execute_result"
    }
   ],
   "source": [
    "a = 'hello'\n",
    "b = 'hello'\n",
    "a is b"
   ]
  },
  {
   "cell_type": "markdown",
   "metadata": {},
   "source": [
    "### Why immutables?\n",
    "\n",
    "* It's a design decision not uncommon in other languages (e.g. strings are\n",
    "  immutable in Java)\n",
    "\n",
    "* Allows for performance optimizations\n",
    "\n",
    "* Can setup storage for a string once because it never changes\n",
    "\n",
    "* Dictionary keys required to be immutable for performance optimizations to\n",
    "  quickly locate keys\n",
    "\n",
    "### Containers and element references\n",
    "\n",
    "* The elements in a list, or the key and value pairs in a dictionary, contain\n",
    "  references to objects\n",
    "\n",
    "* Those references can be to \"simple\" data types like a number or string, or\n",
    "  more complicated data types like other containers\n",
    "\n",
    "* There are some restrictions, for example the key objects in a dictionary must\n",
    "  be immutable (e.g. numbers, strings, or tuples)\n",
    "\n",
    "### Containers and element references"
   ]
  },
  {
   "cell_type": "code",
   "execution_count": 15,
   "metadata": {},
   "outputs": [],
   "source": [
    "a = [42, 'hello']\n",
    "b = a"
   ]
  },
  {
   "cell_type": "markdown",
   "metadata": {},
   "source": [
    "![fig/list-ref.png](fig/list-ref.png)\n",
    "\n",
    "### Copying a list\n",
    "\n",
    "* Simple assignment does not give us a copy of a list, only an additional\n",
    "reference to the same list\n",
    "\n",
    "* What if we really want an additional copy that can be modified without changing\n",
    "the original?\n",
    "\n",
    "#### Shallow copy"
   ]
  },
  {
   "cell_type": "code",
   "execution_count": 16,
   "metadata": {},
   "outputs": [],
   "source": [
    "a = [42, 'hello']\n",
    "import copy\n",
    "b = copy.copy(a)"
   ]
  },
  {
   "cell_type": "markdown",
   "metadata": {},
   "source": [
    "![fig/shallow-copy.png](fig/shallow-copy.png)\n",
    "\n",
    "A shallow copy (`copy.copy`) constructs a new list and inserts references to the\n",
    "objects referenced in the original.\n",
    "\n",
    "#### Shallow copies and mutables"
   ]
  },
  {
   "cell_type": "code",
   "execution_count": 17,
   "metadata": {},
   "outputs": [
    {
     "name": "stdout",
     "output_type": "stream",
     "text": [
      "[19, {'grade': 92}]\n",
      "[19, {'grade': 92}]\n"
     ]
    }
   ],
   "source": [
    "a = [19, {'grade':92}]\n",
    "b = copy.copy(a)\n",
    "print(a)\n",
    "print(b)"
   ]
  },
  {
   "cell_type": "code",
   "execution_count": 18,
   "metadata": {},
   "outputs": [
    {
     "name": "stdout",
     "output_type": "stream",
     "text": [
      "[42, {'grade': 97}]\n",
      "[19, {'grade': 97}]\n"
     ]
    }
   ],
   "source": [
    "a[0] = 42\n",
    "a[1]['grade'] = 97\n",
    "print(a)\n",
    "print(b)"
   ]
  },
  {
   "cell_type": "markdown",
   "metadata": {},
   "source": [
    "![fig/shallow-copy-mutables.png](fig/shallow-copy-mutables.png)\n",
    "\n",
    "#### Deep copy"
   ]
  },
  {
   "cell_type": "code",
   "execution_count": 19,
   "metadata": {},
   "outputs": [
    {
     "name": "stdout",
     "output_type": "stream",
     "text": [
      "[19, {'grade': 92}]\n",
      "[19, {'grade': 92}]\n"
     ]
    }
   ],
   "source": [
    "a = [19, {'grade':92}]\n",
    "b = copy.deepcopy(a)\n",
    "print(a)\n",
    "print(b)"
   ]
  },
  {
   "cell_type": "code",
   "execution_count": 20,
   "metadata": {},
   "outputs": [
    {
     "name": "stdout",
     "output_type": "stream",
     "text": [
      "[42, {'grade': 97}]\n",
      "[19, {'grade': 92}]\n"
     ]
    }
   ],
   "source": [
    "a[0] = 42\n",
    "a[1]['grade'] = 97\n",
    "print(a)\n",
    "print(b)"
   ]
  },
  {
   "cell_type": "markdown",
   "metadata": {},
   "source": [
    "![fig/deep-copy-mutables.png](fig/deep-copy-mutables.png)\n",
    "\n",
    "A deep copy (`copy.deepcopy`) constructs a new list and inserts copies of the\n",
    "objects referenced in the original.  It will copy all nested data structures.\n",
    "\n",
    "### Tuples and immutability"
   ]
  },
  {
   "cell_type": "code",
   "execution_count": 21,
   "metadata": {},
   "outputs": [
    {
     "data": {
      "text/plain": [
       "([42, 'feed the dog', 'clean house'], [42, 'feed the dog', 'clean house'])"
      ]
     },
     "execution_count": 21,
     "metadata": {},
     "output_type": "execute_result"
    }
   ],
   "source": [
    "a = [42, 'feed the dog', 'clean house']\n",
    "import copy\n",
    "b = copy.copy(a)\n",
    "c = (a,b)\n",
    "c\n",
    "([42, 'feed the dog', 'clean house'], [42, 'feed the dog', 'clean house'])"
   ]
  },
  {
   "cell_type": "code",
   "execution_count": 22,
   "metadata": {},
   "outputs": [
    {
     "name": "stdout",
     "output_type": "stream",
     "text": [
      "([42, 'feed the dog', 'clean house'], [7, 'feed the dog', 'clean house'])\n",
      "([7, 'feed the dog', 'clean house'], [7, 'feed the dog', 'clean house'])\n"
     ]
    }
   ],
   "source": [
    "b[0] = 7\n",
    "print(c)\n",
    "c[0][0] = 7\n",
    "print(c)"
   ]
  },
  {
   "cell_type": "code",
   "execution_count": 23,
   "metadata": {},
   "outputs": [
    {
     "ename": "TypeError",
     "evalue": "'tuple' object does not support item assignment",
     "output_type": "error",
     "traceback": [
      "\u001b[0;31m---------------------------------------------------------------------------\u001b[0m",
      "\u001b[0;31mTypeError\u001b[0m                                 Traceback (most recent call last)",
      "\u001b[0;32m<ipython-input-23-ce052761bd20>\u001b[0m in \u001b[0;36m<module>\u001b[0;34m()\u001b[0m\n\u001b[0;32m----> 1\u001b[0;31m \u001b[0mc\u001b[0m\u001b[0;34m[\u001b[0m\u001b[0;36m0\u001b[0m\u001b[0;34m]\u001b[0m \u001b[0;34m=\u001b[0m \u001b[0;34m[\u001b[0m\u001b[0;36m73\u001b[0m\u001b[0;34m,\u001b[0m \u001b[0;34m'wash dishes'\u001b[0m\u001b[0;34m,\u001b[0m \u001b[0;34m'do laundry'\u001b[0m\u001b[0;34m]\u001b[0m\u001b[0;34m\u001b[0m\u001b[0m\n\u001b[0m",
      "\u001b[0;31mTypeError\u001b[0m: 'tuple' object does not support item assignment"
     ]
    }
   ],
   "source": [
    "c[0] = [73, 'wash dishes', 'do laundry']"
   ]
  },
  {
   "cell_type": "markdown",
   "metadata": {},
   "source": [
    "![fig/tuples-and-immutability.png](fig/tuples-and-immutability.png)\n",
    "\n",
    "The immutable property of tuples only means I can't change where the arrows\n",
    "point, I'm still free to change a mutable object at the arrow destination.\n",
    "\n",
    "### Memory management\n",
    "\n",
    "* What happens to those objects that are no longer referenced?\n",
    "\n",
    "![fig/gc-1.png](fig/gc-1.png)\n",
    "\n",
    "### Garbage collection\n",
    "\n",
    "* Unreachable objects are garbage collected\n",
    "\n",
    "* Garbage collection in Python is implemented with reference counting\n",
    "\n",
    "![fig/gc-2.png](fig/gc-2.png)\n",
    "\n",
    "### Recommended Reading\n",
    "\n",
    "* Chapter 6: The Dynamic Typing Interlude"
   ]
  }
 ],
 "metadata": {},
 "nbformat": 4,
 "nbformat_minor": 2
}
