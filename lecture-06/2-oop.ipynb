{
 "cells": [
  {
   "cell_type": "markdown",
   "metadata": {},
   "source": [
    "## Python object oriented programming\n",
    "\n",
    "### Name example"
   ]
  },
  {
   "cell_type": "code",
   "execution_count": 1,
   "metadata": {},
   "outputs": [],
   "source": [
    "class NameClassifier:\n",
    "    def __init__(self, femalefile, malefile):\n",
    "        self.load_name_data(femalefile, malefile)\n",
    "\n",
    "    def load_name_data(self, femalefile, malefile):\n",
    "        # Creates a dictionary with the name data from the two input files\n",
    "        self.namedata = {}\n",
    "        self.weights = {}\n",
    "        f = open(femalefile,'r')\n",
    "        for line in f:\n",
    "            name = line.split()[0]\n",
    "            weight = float(line.split()[1])\n",
    "            self.namedata[name] = 1.0\n",
    "            self.weights[name] = weight\n",
    "        f.close()\n",
    "\n",
    "        f = open(malefile,'r')\n",
    "        for line in f:\n",
    "            name = line.split()[0]\n",
    "            if name in self.namedata:\n",
    "                # Probability the name is female\n",
    "                weightm = float(line.split()[1])\n",
    "                weightf = self.weights[name]\n",
    "                self.namedata[name] = weightf/(weightf + weightm)\n",
    "            else:\n",
    "                self.namedata[name] = 0.0\n",
    "        f.close()\n",
    "\n",
    "    def classify_name(self, name):\n",
    "        if name in self.namedata:\n",
    "            return self.namedata[name]\n",
    "        else:\n",
    "            # Don't have this name in our data\n",
    "            return 0.5"
   ]
  },
  {
   "cell_type": "code",
   "execution_count": 2,
   "metadata": {},
   "outputs": [
    {
     "name": "stdout",
     "output_type": "stream",
     "text": [
      "JOHN:  0.37%\n",
      "TERRY: 20.46%\n",
      "GRAHAM:  0.00%\n",
      "CONNIE: 97.56%\n",
      "MICHAEL:  0.45%\n",
      "ERIC:  0.37%\n"
     ]
    }
   ],
   "source": [
    "# Create an instance of the name classifier\n",
    "classifier = NameClassifier('dist.female.first', 'dist.male.first')\n",
    "\n",
    "# Setup test data\n",
    "testdata = ['JOHN', 'TERRY', 'GRAHAM', 'CONNIE', 'MICHAEL', 'ERIC']\n",
    "\n",
    "# Invoke the classify_name() method\n",
    "for name in testdata:\n",
    "    prob_f = float(classifier.classify_name(name))*100\n",
    "    print('{}: {:5.2f}%'.format(name, prob_f))"
   ]
  },
  {
   "cell_type": "markdown",
   "metadata": {},
   "source": [
    "### Student example\n",
    "\n",
    "Let's inspect review the `Student` object example from lecture 8:"
   ]
  },
  {
   "cell_type": "code",
   "execution_count": 3,
   "metadata": {},
   "outputs": [
    {
     "name": "stdout",
     "output_type": "stream",
     "text": [
      "s = <__main__.Student object at 0x10f9ea470>\n",
      "7\n",
      "{'gym': 4, 'math': 3}\n",
      "3.5\n"
     ]
    }
   ],
   "source": [
    "import copy\n",
    "\n",
    "class Student:\n",
    "    def __init__(self, id):\n",
    "        self._id = id\n",
    "        self._gpa = 0.0\n",
    "        self._courses = {}\n",
    "    def get_id(self):\n",
    "        return self._id\n",
    "    def add_course(self, name, gradepoint):\n",
    "        self._courses[name] = gradepoint\n",
    "        sumgradepoints = float(sum(self._courses.values()))\n",
    "        self._gpa = sumgradepoints/len(self._courses)\n",
    "    def get_gpa(self):\n",
    "        return self._gpa\n",
    "    def get_courses(self):\n",
    "        return copy.deepcopy(self._courses)\n",
    "\n",
    "s = Student(7)\n",
    "s.add_course(\"gym\", 4)\n",
    "s.add_course(\"math\", 3)\n",
    "\n",
    "print(\"s = {}\".format(s))\n",
    "\n",
    "# lots of print statements to get information\n",
    "print(s.get_id())\n",
    "print(s.get_courses())\n",
    "print(s.get_gpa())"
   ]
  },
  {
   "cell_type": "markdown",
   "metadata": {},
   "source": [
    "### Operator overloading\n",
    "\n",
    "* Your user defined objects can be made to work with the Python built-in\n",
    "  operators\n",
    "\n",
    "* Why would you want to do that?\n",
    "\n",
    "### String representation method\n",
    "\n",
    "We add a `__repr__()` method:"
   ]
  },
  {
   "cell_type": "code",
   "execution_count": 4,
   "metadata": {},
   "outputs": [
    {
     "name": "stdout",
     "output_type": "stream",
     "text": [
      "Student 7:  {'gym': 4, 'math': 3}, GPA = 3.50\n"
     ]
    }
   ],
   "source": [
    "class Student:\n",
    "    def __init__(self, id):\n",
    "        self._id = id\n",
    "        self._gpa = 0.0\n",
    "        self._courses = {}\n",
    "    def get_id(self):\n",
    "        return self._id\n",
    "    def add_course(self, name, gradepoint):\n",
    "        self._courses[name] = gradepoint\n",
    "        sumgradepoints = float(sum(self._courses.values()))\n",
    "        self._gpa = sumgradepoints/len(self._courses)\n",
    "    def get_gpa(self):\n",
    "        return self._gpa\n",
    "    def get_courses(self):\n",
    "        return copy.deepcopy(self._courses)\n",
    "    def __repr__(self):\n",
    "        string = \"Student %d: \" % self.get_id()\n",
    "        string += \" %s, \" % self.get_courses()\n",
    "        string += \"GPA = %4.2f\" % self.get_gpa()\n",
    "        return string\n",
    "\n",
    "s = Student(7)\n",
    "s.add_course(\"gym\", 4)\n",
    "s.add_course(\"math\", 3)\n",
    "\n",
    "# now easy to print a student\n",
    "print(s)"
   ]
  },
  {
   "cell_type": "markdown",
   "metadata": {},
   "source": [
    "### Methods you can override"
   ]
  },
  {
   "cell_type": "markdown",
   "metadata": {},
   "source": [
    "```\n",
    "| method               | operation                  |\n",
    "|----------------------+----------------------------|\n",
    "| __len__(self)        | Returns the length of self |\n",
    "| __add__(self, other) | Returns self + other       |\n",
    "| __mul__(self, other) | Returns self * other       |\n",
    "| __neg__(self)        | Returns -sefl              |\n",
    "| __abs__(self)        | Returns abs(self)          |\n",
    "| __float__(self)      | Returns float(self)        |\n",
    "... many more ...\n",
    "```\n"
   ]
  },
  {
   "cell_type": "markdown",
   "metadata": {},
   "source": [
    "Over 50+ methods in total\n",
    "\n",
    "### What is object oriented programming?\n",
    "\n",
    "* Some will argue that putting your data in an object, and adding a bunch of put\n",
    "/ get methods to interface with it, is just a glorified container and interface\n",
    "\n",
    "* Real power of object oriented programming might be in allowing objects to interact with each other by\n",
    "overriding appropriate methods\n",
    "\n",
    "### Particle collision\n",
    "\n",
    "![fig/particle-collision.png](fig/particle-collision.png)\n",
    "\n",
    "### Object oriented programming design"
   ]
  },
  {
   "cell_type": "markdown",
   "metadata": {},
   "source": [
    "```\n",
    "p_blue = Particle(...)\n",
    "p_red = Particle(...)\n",
    "\n",
    "...\n",
    "\n",
    "p_purple = p_blue + p_red\n",
    "```\n"
   ]
  },
  {
   "cell_type": "markdown",
   "metadata": {},
   "source": [
    "### Particle class"
   ]
  },
  {
   "cell_type": "code",
   "execution_count": 5,
   "metadata": {},
   "outputs": [],
   "source": [
    "class Particle:\n",
    "    def __init__(self, mass, velx):\n",
    "        self.mass = mass\n",
    "        self.velx = velx\n",
    "    def __add__(self, other):\n",
    "        # inelastic collision (momentum is conserved)\n",
    "        mass = self.mass + other.mass\n",
    "        velx = (self.mass*self.velx + other.mass*other.velx)/mass\n",
    "        return Particle(mass, velx)\n",
    "    def __repr__(self):\n",
    "        return \"Mass: %6.3f, Velocity: %6.3f\" % (self.mass, self.velx)"
   ]
  },
  {
   "cell_type": "markdown",
   "metadata": {},
   "source": [
    "Object oriented programming particle collision:"
   ]
  },
  {
   "cell_type": "code",
   "execution_count": 6,
   "metadata": {},
   "outputs": [
    {
     "data": {
      "text/plain": [
       "Mass:  5.700, Velocity:  1.689"
      ]
     },
     "execution_count": 6,
     "metadata": {},
     "output_type": "execute_result"
    }
   ],
   "source": [
    "p_blue = Particle(4.3, 2.5)\n",
    "p_red = Particle(1.4, -0.8)\n",
    "p_purple = p_blue + p_red\n",
    "p_purple"
   ]
  },
  {
   "cell_type": "markdown",
   "metadata": {},
   "source": [
    "### Overloading should be intuitive\n",
    "\n",
    "This is not a good idea:"
   ]
  },
  {
   "cell_type": "code",
   "execution_count": 7,
   "metadata": {},
   "outputs": [],
   "source": [
    "class User:\n",
    "    def __init__(self, id):\n",
    "        self.id = id\n",
    "    def __len__(self):\n",
    "        return self.get_id()\n",
    "    def get_id(self):\n",
    "        return self.id"
   ]
  },
  {
   "cell_type": "markdown",
   "metadata": {},
   "source": [
    "Now:"
   ]
  },
  {
   "cell_type": "code",
   "execution_count": 8,
   "metadata": {},
   "outputs": [
    {
     "data": {
      "text/plain": [
       "7"
      ]
     },
     "execution_count": 8,
     "metadata": {},
     "output_type": "execute_result"
    }
   ],
   "source": [
    "user = User(7)\n",
    "len(user)"
   ]
  },
  {
   "cell_type": "markdown",
   "metadata": {},
   "source": [
    "Is this intuitive?  Does this behave in a way a reasonable Python programmer\n",
    "would expect?\n",
    "\n",
    "### Inheritance\n",
    "\n",
    "* Inheritance is a way for a class to inherit attributes from another class\n",
    "\n",
    "* This is a form of code reuse\n",
    "\n",
    "* The original class is called a base class, or a superclass, or a parent class\n",
    "\n",
    "* The new class is called a derived class, or a subclass, or a child class\n",
    "\n",
    "* The new class will typically redefine or add new attributes\n",
    "\n",
    "### Inheritance example"
   ]
  },
  {
   "cell_type": "code",
   "execution_count": 9,
   "metadata": {},
   "outputs": [],
   "source": [
    "# parent class\n",
    "class User:\n",
    "    def __init__(self, id):\n",
    "        self.id = id\n",
    "    def get_id(self):\n",
    "        return self.id\n",
    "\n",
    "# child class\n",
    "class MovieWatcher(User):\n",
    "    pass"
   ]
  },
  {
   "cell_type": "markdown",
   "metadata": {},
   "source": [
    "Let's use it:"
   ]
  },
  {
   "cell_type": "code",
   "execution_count": 10,
   "metadata": {},
   "outputs": [
    {
     "data": {
      "text/plain": [
       "3"
      ]
     },
     "execution_count": 10,
     "metadata": {},
     "output_type": "execute_result"
    }
   ],
   "source": [
    "m = MovieWatcher(3)\n",
    "m.get_id()"
   ]
  },
  {
   "cell_type": "markdown",
   "metadata": {},
   "source": [
    "### Overriding a method\n",
    "\n",
    "We can override the `__init__` method to provide special functionality when\n",
    "creating a `MovieWatcher` object."
   ]
  },
  {
   "cell_type": "code",
   "execution_count": 11,
   "metadata": {},
   "outputs": [],
   "source": [
    "class User:\n",
    "    def __init__(self, id):\n",
    "        self.id = id\n",
    "    def get_id(self):\n",
    "        return self.id\n",
    "\n",
    "class MovieWatcher(User):\n",
    "    def __init__(self, id):\n",
    "        # Call the parent class initialization\n",
    "        User.__init__(self, id)\n",
    "        # MovieWatcher specific initialization\n",
    "        self.avgmovieranking = -1.\n",
    "        self.movies = {}"
   ]
  },
  {
   "cell_type": "markdown",
   "metadata": {},
   "source": [
    "![fig](fig/uml-1.png)\n",
    "\n",
    "### Sibling classes\n",
    "\n",
    "Multiple classes can inherit from a base class:"
   ]
  },
  {
   "cell_type": "code",
   "execution_count": 12,
   "metadata": {},
   "outputs": [],
   "source": [
    "class User:\n",
    "    def __init__(self, id):\n",
    "        self.id = id\n",
    "    def get_id(self):\n",
    "        return self.id\n",
    "\n",
    "class MovieWatcher(User):\n",
    "    def __init__(self, id):\n",
    "        # Call the parent class initialization\n",
    "        User.__init__(self, id)\n",
    "        # MovieWatcher specific initialization\n",
    "        self.avgmovieranking = -1.\n",
    "        self.movies = {}\n",
    "\n",
    "class CookieEater(User):\n",
    "    def __init__(self, id):\n",
    "        # Call the parent class initialization\n",
    "        User.__init__(self, id)\n",
    "        # CookieEater specific initialization\n",
    "        self.cookieseaten = 0\n",
    "        self.cookies = {}"
   ]
  },
  {
   "cell_type": "markdown",
   "metadata": {},
   "source": [
    "![fig](fig/uml-2.png)\n",
    "\n",
    "### Polymorphism\n",
    "\n",
    "* Different types of objects have methods with the same name that take the same\n",
    "arguments\n",
    "\n",
    "* Programmer does not need to know the exact type of an object for common\n",
    "operations\n",
    "\n",
    "* Typically the objects inherit from the same parent class\n",
    "\n",
    "### Shapes\n",
    "\n",
    "`code/shapes.py`:"
   ]
  },
  {
   "cell_type": "code",
   "execution_count": 13,
   "metadata": {},
   "outputs": [],
   "source": [
    "import math\n",
    "\n",
    "class Shape:\n",
    "    def GetArea(self):\n",
    "        raise RuntimeError(\"Not implemented yet\")\n",
    "\n",
    "class Circle(Shape):\n",
    "    def __init__ (self, x, y, radius):\n",
    "        self.x = x\n",
    "        self.y = y\n",
    "        self.radius = radius\n",
    "\n",
    "    def GetArea(self):\n",
    "        area = math.pi * math.pow(self.radius, 2)\n",
    "        return area\n",
    "\n",
    "class Rectangle(Shape):\n",
    "    def __init__ (self, x0, y0, x1, y1):\n",
    "        self.x0 = x0\n",
    "        self.y0 = y0\n",
    "        self.x1 = x1\n",
    "        self.y1 = y1\n",
    "\n",
    "    def GetArea(self):\n",
    "        xDistance = self.x1 - self.x0\n",
    "        yDistance = self.y1 - self.y0\n",
    "        return abs(xDistance * yDistance)"
   ]
  },
  {
   "cell_type": "code",
   "execution_count": 14,
   "metadata": {},
   "outputs": [
    {
     "name": "stdout",
     "output_type": "stream",
     "text": [
      "area = 3.141592653589793\n",
      "area = 8.0\n"
     ]
    }
   ],
   "source": [
    "shapes = []\n",
    "shapes.append(Circle(0., 0., 1.0))\n",
    "shapes.append(Rectangle(0., 0., 2., 4.))\n",
    "\n",
    "for shape in shapes:\n",
    "    print(\"area = {}\".format(shape.GetArea()))"
   ]
  },
  {
   "cell_type": "markdown",
   "metadata": {},
   "source": [
    "![fig](fig/uml-3.png)\n",
    "\n",
    "### Object oriented programming Summary\n",
    "\n",
    "* Abstraction\n",
    "\n",
    "* Represent things in a form familiar to humans\n",
    "\n",
    "* Encapsulation\n",
    "\n",
    "* Restrict access to internal data by providing interfaces\n",
    "\n",
    "* Inheritance\n",
    "\n",
    "* Parent / child classes for code reuse\n",
    "\n",
    "* Polymorphism\n",
    "\n",
    "* Share method names and arguments across (sibling) classes"
   ]
  }
 ],
 "metadata": {},
 "nbformat": 4,
 "nbformat_minor": 2
}
