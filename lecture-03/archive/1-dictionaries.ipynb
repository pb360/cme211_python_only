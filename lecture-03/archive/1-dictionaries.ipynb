{
 "cells": [
  {
   "cell_type": "markdown",
   "metadata": {},
   "source": [
    "## Dictionaries\n",
    "\n",
    "* Dictionaries are an *associative container*.  They contain *keys* with\n",
    "  associated *values*\n",
    "\n",
    "* Dictionaries in Python are denoted by curly braces\n",
    "\n",
    "  * Create an empty dictionary: `empty_dict = {}` or `empty_dict = dict()`\n",
    "\n",
    "  * Create a dictionary with some data: `ages = {\"brad\": 51, \"angelina\": 40}`\n",
    "\n",
    "* Values can be any python object: numbers, strings, lists, other dictionaries\n",
    "\n",
    "* Keys can be any immutable object: numbers, strings, tuples (containing\n",
    "  immutable data)\n",
    "\n",
    "* No sense of order in a python dictionary.  When used in a loop, the key-value\n",
    "  pairs may come out in any order.\n",
    "\n",
    "* Access values associated with a key with square brackets:\n",
    "  `value = dictionary[key]`\n",
    "\n",
    "### Create a dictionary"
   ]
  },
  {
   "cell_type": "code",
   "execution_count": 1,
   "metadata": {},
   "outputs": [
    {
     "name": "stdout",
     "output_type": "stream",
     "text": [
      "{1: 'ths number 1', 'a list': [1, 2, 3], '42': 42}\n"
     ]
    }
   ],
   "source": [
    "simple_dict = {1:\"ths number 1\", \"42\": 42, \"a list\": [1,2,3]}\n",
    "print(simple_dict)"
   ]
  },
  {
   "cell_type": "markdown",
   "metadata": {},
   "source": [
    "Here is a slightly more useful dictionary associating names with ages.  We\n",
    "start with an empty dictionary and add to it."
   ]
  },
  {
   "cell_type": "code",
   "execution_count": 2,
   "metadata": {},
   "outputs": [
    {
     "data": {
      "text/plain": [
       "{'angelina': 40, 'brad': 51, 'bruce': 60, 'cameron': 44, 'leo': 40}"
      ]
     },
     "execution_count": 2,
     "metadata": {},
     "output_type": "execute_result"
    }
   ],
   "source": [
    "ages = {} # or ages = dict()\n",
    "ages['brad'] = 51\n",
    "ages['angelina'] = 40\n",
    "ages['leo'] = 40\n",
    "ages['bruce'] = 60\n",
    "ages['cameron'] = 44\n",
    "ages"
   ]
  },
  {
   "cell_type": "markdown",
   "metadata": {},
   "source": [
    "We can get the size of the dictionary with `len`:"
   ]
  },
  {
   "cell_type": "code",
   "execution_count": 3,
   "metadata": {},
   "outputs": [
    {
     "data": {
      "text/plain": [
       "5"
      ]
     },
     "execution_count": 3,
     "metadata": {},
     "output_type": "execute_result"
    }
   ],
   "source": [
    "len(ages)"
   ]
  },
  {
   "cell_type": "markdown",
   "metadata": {},
   "source": [
    "### Access items"
   ]
  },
  {
   "cell_type": "code",
   "execution_count": 4,
   "metadata": {},
   "outputs": [
    {
     "data": {
      "text/plain": [
       "40"
      ]
     },
     "execution_count": 4,
     "metadata": {},
     "output_type": "execute_result"
    }
   ],
   "source": [
    "ages['leo']"
   ]
  },
  {
   "cell_type": "markdown",
   "metadata": {},
   "source": [
    "When the key does not exist:"
   ]
  },
  {
   "cell_type": "code",
   "execution_count": 5,
   "metadata": {},
   "outputs": [
    {
     "ename": "KeyError",
     "evalue": "'helen'",
     "output_type": "error",
     "traceback": [
      "\u001b[0;31m---------------------------------------------------------------------------\u001b[0m",
      "\u001b[0;31mKeyError\u001b[0m                                  Traceback (most recent call last)",
      "\u001b[0;32m<ipython-input-5-7d100e209d93>\u001b[0m in \u001b[0;36m<module>\u001b[0;34m()\u001b[0m\n\u001b[0;32m----> 1\u001b[0;31m \u001b[0mages\u001b[0m\u001b[0;34m[\u001b[0m\u001b[0;34m'helen'\u001b[0m\u001b[0;34m]\u001b[0m\u001b[0;34m\u001b[0m\u001b[0m\n\u001b[0m",
      "\u001b[0;31mKeyError\u001b[0m: 'helen'"
     ]
    }
   ],
   "source": [
    "ages['helen']"
   ]
  },
  {
   "cell_type": "markdown",
   "metadata": {},
   "source": [
    "Or you can use the `get()` method:"
   ]
  },
  {
   "cell_type": "code",
   "execution_count": 6,
   "metadata": {},
   "outputs": [
    {
     "name": "stdout",
     "output_type": "stream",
     "text": [
      "51\n",
      "None\n"
     ]
    }
   ],
   "source": [
    "temp = ages.get('brad')\n",
    "print(temp)\n",
    "temp = ages.get('helen')\n",
    "print(temp)"
   ]
  },
  {
   "cell_type": "markdown",
   "metadata": {},
   "source": [
    "### Updating values\n",
    "\n",
    "We can change the value associated with a key."
   ]
  },
  {
   "cell_type": "code",
   "execution_count": 7,
   "metadata": {},
   "outputs": [
    {
     "name": "stdout",
     "output_type": "stream",
     "text": [
      "{'cameron': 44, 'bruce': 60, 'leo': 40, 'brad': 52, 'angelina': 40}\n"
     ]
    }
   ],
   "source": [
    "ages['brad'] = 52\n",
    "print(ages)"
   ]
  },
  {
   "cell_type": "markdown",
   "metadata": {},
   "source": [
    "### Checking for existence of a key\n",
    "\n",
    "The `in` operator is used to check for the existence of a key in a dictionary."
   ]
  },
  {
   "cell_type": "code",
   "execution_count": 8,
   "metadata": {},
   "outputs": [
    {
     "name": "stdout",
     "output_type": "stream",
     "text": [
      "{'cameron': 44, 'bruce': 60, 'leo': 40, 'brad': 52, 'angelina': 40}\n"
     ]
    }
   ],
   "source": [
    "print(ages)"
   ]
  },
  {
   "cell_type": "code",
   "execution_count": 9,
   "metadata": {},
   "outputs": [
    {
     "data": {
      "text/plain": [
       "False"
      ]
     },
     "execution_count": 9,
     "metadata": {},
     "output_type": "execute_result"
    }
   ],
   "source": [
    "'nick' in ages"
   ]
  },
  {
   "cell_type": "code",
   "execution_count": 10,
   "metadata": {},
   "outputs": [
    {
     "data": {
      "text/plain": [
       "True"
      ]
     },
     "execution_count": 10,
     "metadata": {},
     "output_type": "execute_result"
    }
   ],
   "source": [
    "'leo' in ages"
   ]
  },
  {
   "cell_type": "markdown",
   "metadata": {},
   "source": [
    "### Iteration\n",
    "\n",
    "Iterate through the keys with:"
   ]
  },
  {
   "cell_type": "code",
   "execution_count": 11,
   "metadata": {},
   "outputs": [
    {
     "name": "stdout",
     "output_type": "stream",
     "text": [
      "cameron = 44\n",
      "bruce = 60\n",
      "leo = 40\n",
      "brad = 52\n",
      "angelina = 40\n"
     ]
    }
   ],
   "source": [
    "for key in ages:\n",
    "    print(\"{} = {}\".format(key,ages[key]))"
   ]
  },
  {
   "cell_type": "markdown",
   "metadata": {},
   "source": [
    "or:"
   ]
  },
  {
   "cell_type": "code",
   "execution_count": 12,
   "metadata": {},
   "outputs": [
    {
     "name": "stdout",
     "output_type": "stream",
     "text": [
      "cameron = 44\n",
      "bruce = 60\n",
      "leo = 40\n",
      "brad = 52\n",
      "angelina = 40\n"
     ]
    }
   ],
   "source": [
    "for key in ages.keys():\n",
    "    print(\"{} = {}\".format(key,ages[key]))"
   ]
  },
  {
   "cell_type": "markdown",
   "metadata": {},
   "source": [
    "Loop over values:"
   ]
  },
  {
   "cell_type": "code",
   "execution_count": 13,
   "metadata": {},
   "outputs": [
    {
     "name": "stdout",
     "output_type": "stream",
     "text": [
      "44\n",
      "60\n",
      "40\n",
      "52\n",
      "40\n"
     ]
    }
   ],
   "source": [
    "# loop over values\n",
    "for value in ages.values():\n",
    "    print(value)"
   ]
  },
  {
   "cell_type": "markdown",
   "metadata": {},
   "source": [
    "Iterate through key-values pairs with:"
   ]
  },
  {
   "cell_type": "code",
   "execution_count": 14,
   "metadata": {},
   "outputs": [
    {
     "name": "stdout",
     "output_type": "stream",
     "text": [
      "cameron is 44 years old\n",
      "bruce is 60 years old\n",
      "leo is 40 years old\n",
      "brad is 52 years old\n",
      "angelina is 40 years old\n"
     ]
    }
   ],
   "source": [
    "for k, v in ages.items():\n",
    "    print('{} is {} years old'.format(k,v))"
   ]
  },
  {
   "cell_type": "markdown",
   "metadata": {},
   "source": [
    "**Note**: The above syntax is more efficient in Python 3 compared with Python 2.\n",
    "To achieve equivalent performance in Python 2, it is best to ask for an\n",
    "*iterator* over the key-value pairs."
   ]
  },
  {
   "cell_type": "markdown",
   "metadata": {},
   "source": [
    "```py\n",
    "# only in python 2\n",
    "for k, v in ages.iteritems():\n",
    "    print('{} = {}'.format(k,v))\n",
    "```\n"
   ]
  },
  {
   "cell_type": "markdown",
   "metadata": {},
   "source": [
    "What does `ages.items()` return?"
   ]
  },
  {
   "cell_type": "code",
   "execution_count": 15,
   "metadata": {},
   "outputs": [
    {
     "data": {
      "text/plain": [
       "dict_items([('cameron', 44), ('bruce', 60), ('leo', 40), ('brad', 52), ('angelina', 40)])"
      ]
     },
     "execution_count": 15,
     "metadata": {},
     "output_type": "execute_result"
    }
   ],
   "source": [
    "ages.items()"
   ]
  },
  {
   "cell_type": "markdown",
   "metadata": {},
   "source": [
    "This is a Python object that provides access to the data in a container in a\n",
    "sequential fashion **without** requiring the creation of a new data structure\n",
    "and copying of data.  This is sort of like the `range()` function.\n",
    "\n",
    "### Dictionary methods\n",
    "\n",
    "See `help(dict)` to get a summary of all dictionary methods:"
   ]
  },
  {
   "cell_type": "markdown",
   "metadata": {},
   "source": [
    "```\n",
    "clear(...)\n",
    "    D.clear() -> None.  Remove all items from D.\n",
    "\n",
    "copy(...)\n",
    "    D.copy() -> a shallow copy of D\n",
    "\n",
    "fromkeys(iterable, value=None, /) from builtins.type\n",
    "    Returns a new dict with keys from iterable and values equal to value.\n",
    "\n",
    "get(...)\n",
    "    D.get(k[,d]) -> D[k] if k in D, else d.  d defaults to None.\n",
    "\n",
    "items(...)\n",
    "    D.items() -> a set-like object providing a view on D's items\n",
    "\n",
    "keys(...)\n",
    "    D.keys() -> a set-like object providing a view on D's keys\n",
    "\n",
    "pop(...)\n",
    "    D.pop(k[,d]) -> v, remove specified key and return the corresponding value.\n",
    "    If key is not found, d is returned if given, otherwise KeyError is raised\n",
    "\n",
    "popitem(...)\n",
    "    D.popitem() -> (k, v), remove and return some (key, value) pair as a\n",
    "    2-tuple; but raise KeyError if D is empty.\n",
    "\n",
    "setdefault(...)\n",
    "    D.setdefault(k[,d]) -> D.get(k,d), also set D[k]=d if k not in D\n",
    "\n",
    "update(...)\n",
    "    D.update([E, ]**F) -> None.  Update D from dict/iterable E and F.\n",
    "    If E is present and has a .keys() method, then does:  for k in E: D[k] = E[k]\n",
    "    If E is present and lacks a .keys() method, then does:  for k, v in E: D[k] = v\n",
    "    In either case, this is followed by: for k in F:  D[k] = F[k]\n",
    "\n",
    "values(...)\n",
    "    D.values() -> an object providing a view on D's values\n",
    "```\n"
   ]
  }
 ],
 "metadata": {},
 "nbformat": 4,
 "nbformat_minor": 1
}
