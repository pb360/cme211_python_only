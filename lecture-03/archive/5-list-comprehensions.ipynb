{
 "cells": [
  {
   "cell_type": "markdown",
   "metadata": {},
   "source": [
    "## List comprehensions\n",
    "\n",
    "It is a common programming task to produce a list whose elements are the\n",
    "result of a function applied to another list.  For example:"
   ]
  },
  {
   "cell_type": "code",
   "execution_count": 1,
   "metadata": {},
   "outputs": [
    {
     "name": "stdout",
     "output_type": "stream",
     "text": [
      "[1, 4, 9, 16, 25, 36, 49, 64]\n"
     ]
    }
   ],
   "source": [
    "def square(x):\n",
    "    return x*x\n",
    "\n",
    "my_list = [1,2,3,4,5,6,7,8]\n",
    "\n",
    "new_list = []\n",
    "for x in my_list:\n",
    "    new_list.append(square(x))\n",
    "\n",
    "print(new_list)"
   ]
  },
  {
   "cell_type": "markdown",
   "metadata": {},
   "source": [
    "This is so common that Python has special syntax to achieve the same thing:"
   ]
  },
  {
   "cell_type": "code",
   "execution_count": 2,
   "metadata": {},
   "outputs": [
    {
     "name": "stdout",
     "output_type": "stream",
     "text": [
      "[1, 4, 9, 16, 25, 36, 49, 64]\n"
     ]
    }
   ],
   "source": [
    "list_comp = [x*x for x in my_list]\n",
    "print(list_comp)"
   ]
  },
  {
   "cell_type": "markdown",
   "metadata": {},
   "source": [
    "This is called a [list comprehension][py-list-comp].  It creates a new list by\n",
    "applying an operation to each item of another list.\n",
    "\n",
    "[py-list-comp]: https://docs.python.org/3/tutorial/datastructures.html#list-comprehensions\n",
    "\n",
    "It is also possible to filter out elements of list in a comprehension:"
   ]
  },
  {
   "cell_type": "code",
   "execution_count": 3,
   "metadata": {},
   "outputs": [
    {
     "data": {
      "text/plain": [
       "[1, 3, 5, 7, 9, 11]"
      ]
     },
     "execution_count": 3,
     "metadata": {},
     "output_type": "execute_result"
    }
   ],
   "source": [
    "my_list = [1,2,3,4,5,6,7,8,9,10,11]\n",
    "odds = [x for x in my_list if x % 2 != 0]\n",
    "odds"
   ]
  },
  {
   "cell_type": "markdown",
   "metadata": {},
   "source": [
    "Python also has [set][so-set-comp] and [dictionary][so-dict-comp]\n",
    "comprehensions.\n",
    "\n",
    "[so-set-comp]: http://stackoverflow.com/documentation/python/196/comprehensions/745/set-comprehensions#t=201609141607227980614\n",
    "[so-dict-comp]: http://stackoverflow.com/documentation/python/196/comprehensions/738/dictionary-comprehensions#t=201609141607227980614\n",
    "\n",
    "## References\n",
    "\n",
    "* [List comprehensions in Python Tutorial][py-list-comp]\n",
    "\n",
    "[py-list-comp]: https://docs.python.org/3/tutorial/datastructures.html#list-comprehensions"
   ]
  }
 ],
 "metadata": {},
 "nbformat": 4,
 "nbformat_minor": 2
}
