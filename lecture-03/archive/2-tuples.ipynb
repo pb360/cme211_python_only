{
 "cells": [
  {
   "cell_type": "markdown",
   "metadata": {},
   "source": [
    "## Tuples\n",
    "\n",
    "* Tuples are essentially immutable lists\n",
    "\n",
    "* Tuples are denoted with parentheses: `tup = (1,2,3)`\n",
    "\n",
    "* Tuples store data in order\n",
    "\n",
    "* Items in tuples are accessed via indexing and slicing\n",
    "\n",
    "* Tuple items may not be changed.  (However, if a tuple contains a modifiable\n",
    "  object such as a list, the contained object may be modified)\n",
    "\n",
    "### Tuple examples\n",
    "\n",
    "Tuples are seemingly similar to lists:"
   ]
  },
  {
   "cell_type": "code",
   "execution_count": 1,
   "metadata": {},
   "outputs": [
    {
     "name": "stdout",
     "output_type": "stream",
     "text": [
      "2\n",
      "(2, 3)\n"
     ]
    }
   ],
   "source": [
    "my_tuple = (1, 2, 3, 'str', 42.42)\n",
    "print(my_tuple[1])\n",
    "print(my_tuple[1:3])"
   ]
  },
  {
   "cell_type": "markdown",
   "metadata": {},
   "source": [
    "We can loop over them with `for`:"
   ]
  },
  {
   "cell_type": "code",
   "execution_count": 2,
   "metadata": {},
   "outputs": [
    {
     "name": "stdout",
     "output_type": "stream",
     "text": [
      "1\n",
      "2\n",
      "3\n",
      "str\n",
      "42.42\n"
     ]
    }
   ],
   "source": [
    "for item in my_tuple:\n",
    "    print(item)"
   ]
  },
  {
   "cell_type": "markdown",
   "metadata": {},
   "source": [
    "### Tuples are immutable\n",
    "\n",
    "Unlike lists, we cannot change elements of a tuple."
   ]
  },
  {
   "cell_type": "code",
   "execution_count": 3,
   "metadata": {},
   "outputs": [
    {
     "name": "stdout",
     "output_type": "stream",
     "text": [
      "my_list: ['was', 'am', 'a', 'list']\n"
     ]
    }
   ],
   "source": [
    "my_list = [\"I\", \"am\", \"a\", \"list\"]\n",
    "my_list[0] = \"was\"\n",
    "print(\"my_list:\", my_list)"
   ]
  },
  {
   "cell_type": "code",
   "execution_count": 4,
   "metadata": {},
   "outputs": [
    {
     "ename": "TypeError",
     "evalue": "'tuple' object does not support item assignment",
     "output_type": "error",
     "traceback": [
      "\u001b[0;31m---------------------------------------------------------------------------\u001b[0m",
      "\u001b[0;31mTypeError\u001b[0m                                 Traceback (most recent call last)",
      "\u001b[0;32m<ipython-input-4-54565a57b4a8>\u001b[0m in \u001b[0;36m<module>\u001b[0;34m()\u001b[0m\n\u001b[1;32m      1\u001b[0m \u001b[0mmy_tuple\u001b[0m \u001b[0;34m=\u001b[0m \u001b[0;34m(\u001b[0m\u001b[0;34m\"I\"\u001b[0m\u001b[0;34m,\u001b[0m \u001b[0;34m\"am\"\u001b[0m\u001b[0;34m,\u001b[0m \u001b[0;34m\"a\"\u001b[0m\u001b[0;34m,\u001b[0m \u001b[0;34m\"list\"\u001b[0m\u001b[0;34m)\u001b[0m\u001b[0;34m\u001b[0m\u001b[0m\n\u001b[0;32m----> 2\u001b[0;31m \u001b[0mmy_tuple\u001b[0m\u001b[0;34m[\u001b[0m\u001b[0;36m3\u001b[0m\u001b[0;34m]\u001b[0m \u001b[0;34m=\u001b[0m \u001b[0;34m\"tuple\"\u001b[0m\u001b[0;34m\u001b[0m\u001b[0m\n\u001b[0m",
      "\u001b[0;31mTypeError\u001b[0m: 'tuple' object does not support item assignment"
     ]
    }
   ],
   "source": [
    "my_tuple = (\"I\", \"am\", \"a\", \"list\")\n",
    "my_tuple[3] = \"tuple\""
   ]
  },
  {
   "cell_type": "markdown",
   "metadata": {},
   "source": [
    "### However...\n",
    "\n",
    "Modifiable objects contained in a tuple are still modifiable:"
   ]
  },
  {
   "cell_type": "code",
   "execution_count": 5,
   "metadata": {},
   "outputs": [],
   "source": [
    "my_tup = (2, 'a string', [1,3,8])"
   ]
  },
  {
   "cell_type": "markdown",
   "metadata": {},
   "source": [
    "Here, `my_tup[2]` is a list, which is a mutable object.\n",
    "\n",
    "We cannot reassign to the tuple:"
   ]
  },
  {
   "cell_type": "code",
   "execution_count": 6,
   "metadata": {},
   "outputs": [
    {
     "ename": "TypeError",
     "evalue": "'tuple' object does not support item assignment",
     "output_type": "error",
     "traceback": [
      "\u001b[0;31m---------------------------------------------------------------------------\u001b[0m",
      "\u001b[0;31mTypeError\u001b[0m                                 Traceback (most recent call last)",
      "\u001b[0;32m<ipython-input-6-b6f6d8e45349>\u001b[0m in \u001b[0;36m<module>\u001b[0;34m()\u001b[0m\n\u001b[0;32m----> 1\u001b[0;31m \u001b[0mmy_tup\u001b[0m\u001b[0;34m[\u001b[0m\u001b[0;36m2\u001b[0m\u001b[0;34m]\u001b[0m \u001b[0;34m=\u001b[0m \u001b[0;34m'something else'\u001b[0m\u001b[0;34m\u001b[0m\u001b[0m\n\u001b[0m",
      "\u001b[0;31mTypeError\u001b[0m: 'tuple' object does not support item assignment"
     ]
    }
   ],
   "source": [
    "my_tup[2] = 'something else'"
   ]
  },
  {
   "cell_type": "markdown",
   "metadata": {},
   "source": [
    "But, we can modify a mutable object contained in a tuple:"
   ]
  },
  {
   "cell_type": "code",
   "execution_count": 7,
   "metadata": {},
   "outputs": [
    {
     "name": "stdout",
     "output_type": "stream",
     "text": [
      "(2, 'a string', ['new data', 3, 8])\n"
     ]
    }
   ],
   "source": [
    "my_tup[2][0] = 'new data'\n",
    "print(my_tup)"
   ]
  },
  {
   "cell_type": "markdown",
   "metadata": {},
   "source": [
    "Check out the behavior in [Python Tutor][pytut-tup].\n",
    "\n",
    "[pytut-tup]: http://www.pythontutor.com/visualize.html#code=my_tup%20%3D%20(2,%20'a%20string',%20%5B1,3,8%5D%29%0Amy_tup%5B2%5D%5B0%5D%20%3D%20'new%20data'%0Aprint(my_tup%29%0A&cumulative=false&curInstr=0&heapPrimitives=false&mode=display&origin=opt-frontend.js&py=3&rawInputLstJSON=%5B%5D&textReferences=false\n",
    "\n",
    "Like all variables in Python, items in a tuple are actually references to\n",
    "objects in memory.  Once a tuple has been created, its references to objects\n",
    "cannot be reassigned.  Tuple items may reference an object that is mutable (say,\n",
    "a list).  In this case the referenced mutable object may be changed in someway.\n",
    "\n",
    "### Exercise\n",
    "\n",
    "Execute and understand the following code in [Python Tutor][pytut-exercise].\n",
    "\n",
    "[pytut-exercise]: http://www.pythontutor.com/visualize.html#code=sub_list_1%20%3D%20%5B1,3,8%5D%0Asub_list_2%20%3D%20%5B'z','y','x'%5D%0Amy_list%20%3D%20%5B2,%20'a%20string',%20sub_list_1%5D%0Amy_list%5B2%5D%20%3D%20sub_list_2%0Amy_list%5B2%5D%5B0%5D%20%3D%20'new%20string'%0A%0Amy_tup%20%3D%20(2,%20'a%20string',%20sub_list_1%29%0A%0A%23%20cannot%20modify%20tuple%20references%0A%23%20my_tup%5B2%5D%20%3D%20sub_list_2%0A%0A%23%20we%20can%20modify%20a%20mutable%20object%20referenced%20by%20a%20tuple%0Amy_tup%5B2%5D%5B0%5D%20%3D%20'from%20my_tup'%0A%0A%23%20can%20can%20look%20at%20object%20ids%0Aprint(id(sub_list_1%29%29%0Aprint(id(my_tup%5B2%5D%29%29&cumulative=false&curInstr=0&heapPrimitives=false&mode=display&origin=opt-frontend.js&py=3&rawInputLstJSON=%5B%5D&textReferences=false"
   ]
  },
  {
   "cell_type": "code",
   "execution_count": 8,
   "metadata": {},
   "outputs": [
    {
     "name": "stdout",
     "output_type": "stream",
     "text": [
      "4508102344\n",
      "4508102344\n"
     ]
    }
   ],
   "source": [
    "sub_list_1 = [1,3,8]\n",
    "sub_list_2 = ['z','y','x']\n",
    "my_list = [2, 'a string', sub_list_1]\n",
    "my_list[2] = sub_list_2\n",
    "my_list[2][0] = 'new string'\n",
    "\n",
    "my_tup = (2, 'a string', sub_list_1)\n",
    "\n",
    "# cannot modify tuple references\n",
    "# my_tup[2] = sub_list_2\n",
    "\n",
    "# we can modify a mutable object referenced by a tuple\n",
    "my_tup[2][0] = 'from my_tup'\n",
    "\n",
    "# can can look at object ids\n",
    "print(id(sub_list_1))\n",
    "print(id(my_tup[2]))"
   ]
  },
  {
   "cell_type": "markdown",
   "metadata": {},
   "source": [
    "### A note on (im)mutability\n",
    "\n",
    "It is natural to wonder why have immutable objects at all.  One answer to this\n",
    "is practical: in Python, only immutable objects are allowed as keys in a\n",
    "dictionary or items in a set.\n",
    "\n",
    "The more detailed answer requires knowledge of the underlying data structure\n",
    "behind Python dictionary and set objects.  In the context of a Python\n",
    "dictionary, the memory location for a key-value pair is computed from a *hash*\n",
    "of the key.  If the key were modified, the *hash* would change, likely requiring\n",
    "a move of the data in memory.  Thus, Python requires immutable keys in\n",
    "dictionaries to prevent unnecessary movement of data.\n",
    "\n",
    "It is possible to associate a value with a new key with the following code:"
   ]
  },
  {
   "cell_type": "code",
   "execution_count": 9,
   "metadata": {},
   "outputs": [
    {
     "name": "stdout",
     "output_type": "stream",
     "text": [
      "{'bruce': 60, 'brad': 51, 'angelina': 40, 'cameron': 44, 'leo': 40}\n",
      "{'cameron': 44, 'angelina': 40, 'BRUCIE': 60, 'leo': 40, 'brad': 51}\n"
     ]
    }
   ],
   "source": [
    "ages = {'cameron': 44, 'angelina': 40, 'bruce': 60, 'brad': 51, 'leo': 40}\n",
    "print(ages)\n",
    "ages['BRUCIE'] = ages['bruce']\n",
    "del ages['bruce']\n",
    "print(ages)"
   ]
  },
  {
   "cell_type": "markdown",
   "metadata": {},
   "source": [
    "### Tuple packing and unpacking\n",
    "\n",
    "Tuple packing and unpacking is very convenient Python syntax.  In packing, a\n",
    "tuple is automatically created by combining values or variables with commas:"
   ]
  },
  {
   "cell_type": "code",
   "execution_count": 10,
   "metadata": {},
   "outputs": [
    {
     "name": "stdout",
     "output_type": "stream",
     "text": [
      "type(t): <class 'tuple'>\n",
      "t: (1, 2, 3)\n"
     ]
    }
   ],
   "source": [
    "t = 1, 2, 3\n",
    "print(\"type(t):\", type(t))\n",
    "print(\"t:\", t)"
   ]
  },
  {
   "cell_type": "markdown",
   "metadata": {},
   "source": [
    "Tuple unpacking can store the elements of a tuple into multiple variables in one\n",
    "line of code."
   ]
  },
  {
   "cell_type": "code",
   "execution_count": 11,
   "metadata": {},
   "outputs": [
    {
     "name": "stdout",
     "output_type": "stream",
     "text": [
      "a string\n",
      "43\n",
      "99.9\n"
     ]
    }
   ],
   "source": [
    "my_tuple = (\"a string\", 43, 99.9)\n",
    "my_str, my_int, my_flt = my_tuple\n",
    "print(my_str)\n",
    "print(my_int)\n",
    "print(my_flt)"
   ]
  },
  {
   "cell_type": "markdown",
   "metadata": {},
   "source": [
    "This is equivalent to:"
   ]
  },
  {
   "cell_type": "code",
   "execution_count": 12,
   "metadata": {},
   "outputs": [],
   "source": [
    "my_tuple = (\"a string\", 43, 99.9)\n",
    "my_str = my_tuple[0]\n",
    "my_int = my_tuple[1]\n",
    "my_flt = my_tuple[2]"
   ]
  },
  {
   "cell_type": "markdown",
   "metadata": {},
   "source": [
    "### Swapping variables via tuple packing\n",
    "\n",
    "Tuple packing and unpacking allows swapping of variables without creating a\n",
    "temporary variable:"
   ]
  },
  {
   "cell_type": "code",
   "execution_count": 13,
   "metadata": {},
   "outputs": [
    {
     "name": "stdout",
     "output_type": "stream",
     "text": [
      "x: random string\n",
      "y: 1001\n"
     ]
    }
   ],
   "source": [
    "x = 1001\n",
    "y = 'random string'\n",
    "x, y = y, x\n",
    "print(\"x:\", x)\n",
    "print(\"y:\", y)"
   ]
  }
 ],
 "metadata": {},
 "nbformat": 4,
 "nbformat_minor": 1
}
