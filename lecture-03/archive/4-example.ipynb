{
 "cells": [
  {
   "cell_type": "markdown",
   "metadata": {},
   "source": [
    "## Example looking at 1990 first name data from US Census\n",
    "\n",
    "Thanks to Patrick LeGresley for this example.\n",
    "\n",
    "Goal: write program to predict *male* or *female* given name\n",
    "\n",
    "Data: [Frequently Occurring Surnames from Census 1990][name-data]\n",
    "\n",
    "[name-data]: http://www.census.gov/topics/population/genealogy/data/1990_census/1990_census_namefiles.html\n",
    "\n",
    "Algorithm:\n",
    "\n",
    "1. If input name is in list of males, return `\"M\"`\n",
    "2. Else if input name is in list of females, return `\"F\"`\n",
    "3. Otherwise, return `\"NA\"`\n",
    "\n",
    "### Look at the files"
   ]
  },
  {
   "cell_type": "markdown",
   "metadata": {},
   "source": [
    "```\n",
    "$ pwd\n",
    "/Users/nwh/git/cme211-notes/lecture-04\n",
    "$ ls -1 *.first\n",
    "dist.female.first\n",
    "dist.male.first\n",
    "$ head -n 5 dist.female.first\n",
    "MARY           2.629  2.629      1\n",
    "PATRICIA       1.073  3.702      2\n",
    "LINDA          1.035  4.736      3\n",
    "BARBARA        0.980  5.716      4\n",
    "ELIZABETH      0.937  6.653      5\n",
    "$ head -n 5 dist.male.first\n",
    "JAMES          3.318  3.318      1\n",
    "JOHN           3.271  6.589      2\n",
    "ROBERT         3.143  9.732      3\n",
    "MICHAEL        2.629 12.361      4\n",
    "WILLIAM        2.451 14.812      5\n",
    "```\n"
   ]
  },
  {
   "cell_type": "markdown",
   "metadata": {},
   "source": [
    "Notes:\n",
    "\n",
    "* the unix `head` command prints out the first number lines of a text file based\n",
    "  on the number after the `-n` argument\n",
    "* first column of the data file contains the name in uppercase\n",
    "* following columns contain frequency data and rank, which we won't use in this\n",
    "  lecture\n",
    "\n",
    "### Using sets\n",
    "\n",
    "Exercise: write a Python script `names_set.py` to implement the name to gender\n",
    "algorithm specified above using the Python `set` container.  Also print out some\n",
    "information about the data sets.\n",
    "\n",
    "The program should take data filenames and test names from the command line.\n",
    "In no command line arguments are provided, the script should print out a helpful\n",
    "usage message."
   ]
  },
  {
   "cell_type": "markdown",
   "metadata": {},
   "source": [
    "```\n",
    "$ python3 names_set.py\n",
    "Usage:\n",
    "  $ python3 names_set.py FEMALE_DATA MALE_DATA [TEST NAMES]\n",
    "Example:\n",
    "  $ python3 names_set.py dist.female.first dist.male.first Nick\n",
    "```\n"
   ]
  },
  {
   "cell_type": "markdown",
   "metadata": {},
   "source": [
    "If data filenames and test names are provided, the script should behave as\n",
    "follows:"
   ]
  },
  {
   "cell_type": "markdown",
   "metadata": {},
   "source": [
    "```\n",
    "$ python3 names_set.py dist.female.first dist.male.first Nick Sally Bicycle\n",
    "There are 4275 female names and 1219 male names.\n",
    "There are 331 names that appear in both sets.\n",
    "Nick: M\n",
    "Sally: F\n",
    "Bicycle: NA\n",
    "```\n"
   ]
  },
  {
   "cell_type": "markdown",
   "metadata": {},
   "source": [
    "The word `Bicycle` does not appear in either the male or female dataset, so\n",
    "`NA` is printed.\n",
    "\n",
    "### Using lists\n",
    "\n",
    "Exercise: write a Python script `names_list.py` to implement the name to gender\n",
    "algorithm specified above using the Python `list` container.  Also print out some\n",
    "information about the data sets.\n",
    "\n",
    "The script should behave the same as `names_set.py`.\n",
    "\n",
    "### Second algorithm\n",
    "\n",
    "Some names appear in both **male** and **female** lists.  Some names might not\n",
    "appear in either list.  Let's write a new algorithm to handle this uncertainty:\n",
    "\n",
    "Given an input name:\n",
    "- return `0.0` if male\n",
    "- return `1.0` if female\n",
    "- return `0.5` if uncertain or name does not appear in dataset\n",
    "\n",
    "Exercise: write a Python script `names_dict.py` to implement the name to gender\n",
    "algorithm specified above using the Python `dict` container.  Also print out\n",
    "some information about the data sets.  The behavior should follow:\n",
    "\n",
    "Usage message:"
   ]
  },
  {
   "cell_type": "markdown",
   "metadata": {},
   "source": [
    "```\n",
    "$ python3 names_dict.py\n",
    "Usage:\n",
    "  $ python3 names_dict.py FEMALE_DATA MALE_DATA [TEST NAMES]\n",
    "Example:\n",
    "  $ python3 names_dict.py dist.female.first dist.male.first Nick\n",
    "```\n"
   ]
  },
  {
   "cell_type": "markdown",
   "metadata": {},
   "source": [
    "`names_dict.py` in action:"
   ]
  },
  {
   "cell_type": "markdown",
   "metadata": {},
   "source": [
    "```\n",
    "$ python3 names_dict.py dist.female.first dist.male.first Nick Sally Billy\n",
    "There are 5163 names in our reference data.\n",
    "Nick: 0.0\n",
    "Sally: 1.0\n",
    "Billy: 0.5\n",
    "```\n"
   ]
  },
  {
   "cell_type": "markdown",
   "metadata": {},
   "source": [
    "The name \"Billy\" appears in both male and female datasets, so `0.5` is printed\n",
    "after the name to indicate uncertainty."
   ]
  }
 ],
 "metadata": {},
 "nbformat": 4,
 "nbformat_minor": 1
}
