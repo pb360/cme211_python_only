{
 "cells": [
  {
   "cell_type": "markdown",
   "metadata": {},
   "source": [
    "## Python sets\n",
    "\n",
    "* A `set` is an unordered, mutable collection of unique items\n",
    "\n",
    "* Items in Python set must be immutable (for the same reason keys in a\n",
    "  dictionary must be immutable)\n",
    "\n",
    "* Create a set with: `my_set = set([1, 2, 3])`\n",
    "\n",
    "* Or create a set with: `my_set = {5, 8, \"str\", 49.2}`\n",
    "\n",
    "* We can test for existence in a set and perform set operations\n",
    "\n",
    "### Set examples"
   ]
  },
  {
   "cell_type": "code",
   "execution_count": 1,
   "metadata": {},
   "outputs": [],
   "source": [
    "# create and update using add method\n",
    "myclasses = set()\n",
    "myclasses.add(\"math\")\n",
    "myclasses.add(\"chemistry\")\n",
    "myclasses.add(\"literature\")\n",
    "\n",
    "# create using {} notation\n",
    "yourclasses = {\"physics\", \"gym\", \"math\"}"
   ]
  },
  {
   "cell_type": "code",
   "execution_count": 2,
   "metadata": {},
   "outputs": [
    {
     "data": {
      "text/plain": [
       "{'chemistry', 'literature', 'math'}"
      ]
     },
     "execution_count": 2,
     "metadata": {},
     "output_type": "execute_result"
    }
   ],
   "source": [
    "myclasses"
   ]
  },
  {
   "cell_type": "code",
   "execution_count": 3,
   "metadata": {},
   "outputs": [
    {
     "data": {
      "text/plain": [
       "{'gym', 'math', 'physics'}"
      ]
     },
     "execution_count": 3,
     "metadata": {},
     "output_type": "execute_result"
    }
   ],
   "source": [
    "yourclasses"
   ]
  },
  {
   "cell_type": "markdown",
   "metadata": {},
   "source": [
    "Test for membership with the `in` operator:"
   ]
  },
  {
   "cell_type": "code",
   "execution_count": 4,
   "metadata": {},
   "outputs": [
    {
     "data": {
      "text/plain": [
       "False"
      ]
     },
     "execution_count": 4,
     "metadata": {},
     "output_type": "execute_result"
    }
   ],
   "source": [
    "\"gym\" in myclasses"
   ]
  },
  {
   "cell_type": "code",
   "execution_count": 5,
   "metadata": {},
   "outputs": [
    {
     "data": {
      "text/plain": [
       "True"
      ]
     },
     "execution_count": 5,
     "metadata": {},
     "output_type": "execute_result"
    }
   ],
   "source": [
    "\"gym\" in yourclasses"
   ]
  },
  {
   "cell_type": "markdown",
   "metadata": {},
   "source": [
    "Compute set intersections:"
   ]
  },
  {
   "cell_type": "code",
   "execution_count": 6,
   "metadata": {},
   "outputs": [
    {
     "data": {
      "text/plain": [
       "{'math'}"
      ]
     },
     "execution_count": 6,
     "metadata": {},
     "output_type": "execute_result"
    }
   ],
   "source": [
    "myclasses & yourclasses"
   ]
  },
  {
   "cell_type": "markdown",
   "metadata": {},
   "source": [
    "Compute set union:"
   ]
  },
  {
   "cell_type": "code",
   "execution_count": 7,
   "metadata": {},
   "outputs": [
    {
     "data": {
      "text/plain": [
       "{'chemistry', 'gym', 'literature', 'math', 'physics'}"
      ]
     },
     "execution_count": 7,
     "metadata": {},
     "output_type": "execute_result"
    }
   ],
   "source": [
    "myclasses | yourclasses # union"
   ]
  },
  {
   "cell_type": "markdown",
   "metadata": {},
   "source": [
    "### Find unique items in a list\n",
    "\n",
    "Let's create a list with non-unique elements:"
   ]
  },
  {
   "cell_type": "code",
   "execution_count": 8,
   "metadata": {},
   "outputs": [],
   "source": [
    "basket = ['apple', 'orange', 'apple', 'pear', 'orange', 'banana']"
   ]
  },
  {
   "cell_type": "markdown",
   "metadata": {},
   "source": [
    "From this list, we create a `set`:"
   ]
  },
  {
   "cell_type": "code",
   "execution_count": 9,
   "metadata": {},
   "outputs": [
    {
     "name": "stdout",
     "output_type": "stream",
     "text": [
      "{'banana', 'pear', 'orange', 'apple'}\n"
     ]
    }
   ],
   "source": [
    "fruit = set(basket)\n",
    "print(fruit)"
   ]
  },
  {
   "cell_type": "markdown",
   "metadata": {},
   "source": [
    "### Set methods\n",
    "\n",
    "For more information and examples see the `set` documentation in the official\n",
    "[Python Tutorial][py-set-tut] and [Library Reference][py-set-ref].\n",
    "\n",
    "[py-set-tut]: https://docs.python.org/3/tutorial/datastructures.html#sets\n",
    "[py-set-ref]: https://docs.python.org/3/library/stdtypes.html#set-types-set-frozenset\n",
    "\n",
    "Also see `help(set)`:"
   ]
  },
  {
   "cell_type": "markdown",
   "metadata": {},
   "source": [
    "```\n",
    "add(...)\n",
    "    Add an element to a set.\n",
    "\n",
    "    This has no effect if the element is already present.\n",
    "\n",
    "clear(...)\n",
    "    Remove all elements from this set.\n",
    "\n",
    "copy(...)\n",
    "    Return a shallow copy of a set.\n",
    "\n",
    "difference(...)\n",
    "    Return the difference of two or more sets as a new set.\n",
    "\n",
    "    (i.e. all elements that are in this set but not the others.)\n",
    "\n",
    "difference_update(...)\n",
    "    Remove all elements of another set from this set.\n",
    "\n",
    "discard(...)\n",
    "    Remove an element from a set if it is a member.\n",
    "\n",
    "    If the element is not a member, do nothing.\n",
    "\n",
    "intersection(...)\n",
    "    Return the intersection of two sets as a new set.\n",
    "\n",
    "    (i.e. all elements that are in both sets.)\n",
    "\n",
    "intersection_update(...)\n",
    "    Update a set with the intersection of itself and another.\n",
    "\n",
    "isdisjoint(...)\n",
    "    Return True if two sets have a null intersection.\n",
    "\n",
    "issubset(...)\n",
    "    Report whether another set contains this set.\n",
    "\n",
    "issuperset(...)\n",
    "    Report whether this set contains another set.\n",
    "\n",
    "pop(...)\n",
    "    Remove and return an arbitrary set element.\n",
    "    Raises KeyError if the set is empty.\n",
    "\n",
    "remove(...)\n",
    "    Remove an element from a set; it must be a member.\n",
    "\n",
    "    If the element is not a member, raise a KeyError.\n",
    "\n",
    "symmetric_difference(...)\n",
    "    Return the symmetric difference of two sets as a new set.\n",
    "\n",
    "    (i.e. all elements that are in exactly one of the sets.)\n",
    "\n",
    "symmetric_difference_update(...)\n",
    "    Update a set with the symmetric difference of itself and another.\n",
    "\n",
    "union(...)\n",
    "    Return the union of sets as a new set.\n",
    "\n",
    "    (i.e. all elements that are in either set.)\n",
    "\n",
    "update(...)\n",
    "    Update a set with the union of itself and others.\n",
    "```\n"
   ]
  }
 ],
 "metadata": {},
 "nbformat": 4,
 "nbformat_minor": 1
}
