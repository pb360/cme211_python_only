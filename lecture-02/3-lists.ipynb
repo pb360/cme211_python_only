{
 "cells": [
  {
   "cell_type": "markdown",
   "metadata": {},
   "source": [
    "## Lists\n",
    "\n",
    "**Sequential containers** store data items in a specified order.  Think elements\n",
    "of a vector, names in a list of people that you want to invite to your\n",
    "birthday party.  The most fundamental Python data type for this is called a\n",
    "`list`.  Later in the course we will learn about containers that are more\n",
    "appropriate (and faster) for numerical data that come from NumPy.\n",
    "\n",
    "### Creating lists\n",
    "\n",
    "In Python, lists are created by putting things inside of square brackets (`[]`)."
   ]
  },
  {
   "cell_type": "code",
   "execution_count": 1,
   "metadata": {},
   "outputs": [
    {
     "name": "stdout",
     "output_type": "stream",
     "text": [
      "[1, 2, 3, 5, 7, 11]\n"
     ]
    }
   ],
   "source": [
    "some_primes = [1,2,3,5,7,11]\n",
    "print(some_primes)"
   ]
  },
  {
   "cell_type": "markdown",
   "metadata": {},
   "source": [
    "Lists can hold objects of any type:"
   ]
  },
  {
   "cell_type": "code",
   "execution_count": 2,
   "metadata": {},
   "outputs": [
    {
     "name": "stdout",
     "output_type": "stream",
     "text": [
      "[1, 55.5, 'Am I in a list?', True]\n"
     ]
    }
   ],
   "source": [
    "many_types = [1, 55.5, \"Am I in a list?\", True]\n",
    "print(many_types)"
   ]
  },
  {
   "cell_type": "markdown",
   "metadata": {},
   "source": [
    "We can get the length of the list with the `len()` functions:"
   ]
  },
  {
   "cell_type": "code",
   "execution_count": 3,
   "metadata": {},
   "outputs": [
    {
     "data": {
      "text/plain": [
       "4"
      ]
     },
     "execution_count": 3,
     "metadata": {},
     "output_type": "execute_result"
    }
   ],
   "source": [
    "len(many_types)"
   ]
  },
  {
   "cell_type": "markdown",
   "metadata": {},
   "source": [
    "### Accessing Elements\n",
    "\n",
    "Elements of a list are accessed using square brackets after a variable."
   ]
  },
  {
   "cell_type": "code",
   "execution_count": 4,
   "metadata": {},
   "outputs": [],
   "source": [
    "myList = [5, 2.3, 'hello']"
   ]
  },
  {
   "cell_type": "markdown",
   "metadata": {},
   "source": [
    "The first element of a list is at index `0`:"
   ]
  },
  {
   "cell_type": "code",
   "execution_count": 5,
   "metadata": {},
   "outputs": [
    {
     "data": {
      "text/plain": [
       "5"
      ]
     },
     "execution_count": 5,
     "metadata": {},
     "output_type": "execute_result"
    }
   ],
   "source": [
    "myList[0]"
   ]
  },
  {
   "cell_type": "code",
   "execution_count": 6,
   "metadata": {},
   "outputs": [
    {
     "data": {
      "text/plain": [
       "'hello'"
      ]
     },
     "execution_count": 6,
     "metadata": {},
     "output_type": "execute_result"
    }
   ],
   "source": [
    "myList[2]"
   ]
  },
  {
   "cell_type": "markdown",
   "metadata": {},
   "source": [
    "Attempting to access an element out of bounds will produce an error:"
   ]
  },
  {
   "cell_type": "code",
   "execution_count": 7,
   "metadata": {},
   "outputs": [
    {
     "ename": "IndexError",
     "evalue": "list index out of range",
     "output_type": "error",
     "traceback": [
      "\u001b[0;31m---------------------------------------------------------------------------\u001b[0m",
      "\u001b[0;31mIndexError\u001b[0m                                Traceback (most recent call last)",
      "\u001b[0;32m<ipython-input-7-4dc80da6ab07>\u001b[0m in \u001b[0;36m<module>\u001b[0;34m()\u001b[0m\n\u001b[0;32m----> 1\u001b[0;31m \u001b[0mmyList\u001b[0m\u001b[0;34m[\u001b[0m\u001b[0;36m3\u001b[0m\u001b[0;34m]\u001b[0m\u001b[0;34m\u001b[0m\u001b[0m\n\u001b[0m",
      "\u001b[0;31mIndexError\u001b[0m: list index out of range"
     ]
    }
   ],
   "source": [
    "myList[3]"
   ]
  },
  {
   "cell_type": "markdown",
   "metadata": {},
   "source": [
    "We can index to `-1` to get the object at the end of the list:"
   ]
  },
  {
   "cell_type": "code",
   "execution_count": 8,
   "metadata": {},
   "outputs": [
    {
     "data": {
      "text/plain": [
       "'hello'"
      ]
     },
     "execution_count": 8,
     "metadata": {},
     "output_type": "execute_result"
    }
   ],
   "source": [
    "myList[-1]"
   ]
  },
  {
   "cell_type": "markdown",
   "metadata": {},
   "source": [
    "Likewise, we can index backwards using negative numbers:"
   ]
  },
  {
   "cell_type": "code",
   "execution_count": 9,
   "metadata": {},
   "outputs": [
    {
     "data": {
      "text/plain": [
       "5"
      ]
     },
     "execution_count": 9,
     "metadata": {},
     "output_type": "execute_result"
    }
   ],
   "source": [
    "myList[-3]"
   ]
  },
  {
   "cell_type": "markdown",
   "metadata": {},
   "source": [
    "### Slicing\n",
    "\n",
    "A sub-list may be accessed using slice syntax.  Let's start with the list:"
   ]
  },
  {
   "cell_type": "code",
   "execution_count": 10,
   "metadata": {},
   "outputs": [],
   "source": [
    "many_types = [1, 55.5, \"Am I in a list?\", True, \"the end\"]"
   ]
  },
  {
   "cell_type": "markdown",
   "metadata": {},
   "source": [
    "Let's look at a sub-list:"
   ]
  },
  {
   "cell_type": "code",
   "execution_count": 11,
   "metadata": {},
   "outputs": [
    {
     "data": {
      "text/plain": [
       "['Am I in a list?', True]"
      ]
     },
     "execution_count": 11,
     "metadata": {},
     "output_type": "execute_result"
    }
   ],
   "source": [
    "many_types[2:4]"
   ]
  },
  {
   "cell_type": "markdown",
   "metadata": {},
   "source": [
    "The `[2:4]` is called a slice and returns a list with elements at indices 2 and\n",
    "3 from the original list.\n",
    "\n",
    "It is easy to slice from an index to the end:"
   ]
  },
  {
   "cell_type": "code",
   "execution_count": 12,
   "metadata": {},
   "outputs": [
    {
     "data": {
      "text/plain": [
       "['Am I in a list?', True, 'the end']"
      ]
     },
     "execution_count": 12,
     "metadata": {},
     "output_type": "execute_result"
    }
   ],
   "source": [
    "many_types[2:]"
   ]
  },
  {
   "cell_type": "markdown",
   "metadata": {},
   "source": [
    "It is also easy to slice from the beginning to a specified index:"
   ]
  },
  {
   "cell_type": "code",
   "execution_count": 13,
   "metadata": {},
   "outputs": [
    {
     "data": {
      "text/plain": [
       "[1, 55.5, 'Am I in a list?']"
      ]
     },
     "execution_count": 13,
     "metadata": {},
     "output_type": "execute_result"
    }
   ],
   "source": [
    "many_types[:3]"
   ]
  },
  {
   "cell_type": "markdown",
   "metadata": {},
   "source": [
    "### Adding and multiplying\n",
    "\n",
    "The `+` operator concatenates (or combines) lists:"
   ]
  },
  {
   "cell_type": "code",
   "execution_count": 14,
   "metadata": {},
   "outputs": [
    {
     "name": "stdout",
     "output_type": "stream",
     "text": [
      "[5, 2.3, 'hello', 'a', '3']\n"
     ]
    }
   ],
   "source": [
    "myList = [5, 2.3, 'hello']\n",
    "mySecondList = ['a', '3']\n",
    "concatList = myList + mySecondList\n",
    "print(concatList)"
   ]
  },
  {
   "cell_type": "markdown",
   "metadata": {},
   "source": [
    "The `*` operator can be used to repeat lists:"
   ]
  },
  {
   "cell_type": "code",
   "execution_count": 15,
   "metadata": {},
   "outputs": [
    {
     "name": "stdout",
     "output_type": "stream",
     "text": [
      "['hello', 'world', 'hello', 'world']\n",
      "['hello', 'world', 'hello', 'world']\n"
     ]
    }
   ],
   "source": [
    "myList = ['hello', 'world']\n",
    "print(myList * 2)\n",
    "print(2 * myList)"
   ]
  },
  {
   "cell_type": "markdown",
   "metadata": {},
   "source": [
    "### Lists are mutable\n",
    "\n",
    "Lists are mutable, this means that individual elements can be changed."
   ]
  },
  {
   "cell_type": "code",
   "execution_count": 16,
   "metadata": {},
   "outputs": [
    {
     "name": "stdout",
     "output_type": "stream",
     "text": [
      "[-3, 43, 1.234]\n"
     ]
    }
   ],
   "source": [
    "# start with a list\n",
    "my_list = ['a', 43, 1.234]\n",
    "# assign a new value to index 0\n",
    "my_list[0] = -3\n",
    "# inspect the list\n",
    "print(my_list)"
   ]
  },
  {
   "cell_type": "markdown",
   "metadata": {},
   "source": [
    "We can also assign to a slice"
   ]
  },
  {
   "cell_type": "code",
   "execution_count": 17,
   "metadata": {},
   "outputs": [
    {
     "name": "stdout",
     "output_type": "stream",
     "text": [
      "[-3, 2, 2.3]\n"
     ]
    }
   ],
   "source": [
    "x = 2\n",
    "my_list[1:3] = [x, 2.3]\n",
    "print(my_list)"
   ]
  },
  {
   "cell_type": "markdown",
   "metadata": {},
   "source": [
    "### Copying a list\n",
    "\n",
    "Let's attempt to copy a list referenced by variable `a` to another variable `b`:"
   ]
  },
  {
   "cell_type": "code",
   "execution_count": 18,
   "metadata": {},
   "outputs": [
    {
     "name": "stdout",
     "output_type": "stream",
     "text": [
      "['a', 1, 'c']\n",
      "['a', 1, 'c']\n"
     ]
    }
   ],
   "source": [
    "a = ['a', 'b', 'c']\n",
    "b = a # attempt to copy a to b\n",
    "b[1] = 1 # now we want to change an element in b\n",
    "print(b)\n",
    "print(a)"
   ]
  },
  {
   "cell_type": "markdown",
   "metadata": {},
   "source": [
    "That's interesting!  Modifying `b` caused `a` to change.\n",
    "\n",
    "Let's look at this example in [Python Tutor][pytut-list].\n",
    "\n",
    "[pytut-list]: http://pythontutor.com/iframe-embed.html#code=a+%3D+%5B'a',+'b',+'c'%5D%0Ab+%3D+a+%23+attempt+to+copy+a+to+b%0Ab%5B1%5D+%3D+1+%23+now+we+want+to+change+an+element+in+b%0Aprint(b%29%0Aprint(a%29%0A&origin=opt-frontend.js&cumulative=false&heapPrimitives=false&textReferences=false&py=3&rawInputLstJSON=%5B%5D&curInstr=0&codeDivWidth=350&codeDivHeight=400\n",
    "\n",
    "Ok, let's try a different technique."
   ]
  },
  {
   "cell_type": "code",
   "execution_count": 19,
   "metadata": {},
   "outputs": [
    {
     "name": "stdout",
     "output_type": "stream",
     "text": [
      "a:  ['a', 1, 'c']\n",
      "b:  ['a', 1, 'c']\n",
      "c:  ['a', 'b', 'c']\n",
      "id(a):  4537267080\n",
      "id(b):  4537267080\n",
      "id(c):  4537267912\n"
     ]
    }
   ],
   "source": [
    "a = ['a', 'b', 'c']\n",
    "b = a       # first attempt to copy a to b\n",
    "c = list(a) # use the list constructor\n",
    "b[1] = 1    # now we want to change an element in b\n",
    "print(\"a: \", a)\n",
    "print(\"b: \", b)\n",
    "print(\"c: \", c)\n",
    "print(\"id(a): \", id(a))\n",
    "print(\"id(b): \", id(b))\n",
    "print(\"id(c): \", id(c))"
   ]
  },
  {
   "cell_type": "markdown",
   "metadata": {},
   "source": [
    "Again, let's try this example in [Python Tutor][pytut-copy].\n",
    "\n",
    "[pytut-copy]: http://pythontutor.com/iframe-embed.html#code=a+%3D+%5B'a',+'b',+'c'%5D%0Ab+%3D+a+++++++%23+first+attempt+to+copy+a+to+b%0Ac+%3D+list(a%29+%23+use+the+list+constructor%0Ab%5B1%5D+%3D+1++++%23+now+we+want+to+change+an+element+in+b&origin=opt-frontend.js&cumulative=false&heapPrimitives=false&textReferences=false&py=3&rawInputLstJSON=%5B%5D&curInstr=0&codeDivWidth=350&codeDivHeight=400\n",
    "\n",
    "A list can be copied with `b = list(a)` or `b = a[:]`.  The second option is a\n",
    "slice including all elements.\n",
    "\n",
    "### Python's data model\n",
    "\n",
    "Variables in Python are actually a reference to an object in memory.  Assignment\n",
    "with the `=` operator sets the variable to refer to an object.  Here is a simple\n",
    "example to demonstrate this property:"
   ]
  },
  {
   "cell_type": "code",
   "execution_count": 20,
   "metadata": {},
   "outputs": [
    {
     "name": "stdout",
     "output_type": "stream",
     "text": [
      "[1, 55, 3, 4]\n",
      "[1, 55, 3, 4]\n"
     ]
    }
   ],
   "source": [
    "a = [1,2,3,4]\n",
    "b = a\n",
    "b[1] = 55\n",
    "print(b)\n",
    "print(a)"
   ]
  },
  {
   "cell_type": "markdown",
   "metadata": {},
   "source": [
    "In this example, we assigned `a` to `b` via `b = a`.  This did not copy the\n",
    "data, it only copied the reference to the list object in memory.  Thus\n",
    "modifying the list through `b` also changes the data that you will see when\n",
    "accessing from `a`.  You can inspect object ids in Python with:"
   ]
  },
  {
   "cell_type": "code",
   "execution_count": 21,
   "metadata": {},
   "outputs": [
    {
     "name": "stdout",
     "output_type": "stream",
     "text": [
      "id(a):  4535374152\n",
      "id(b):  4535374152\n"
     ]
    }
   ],
   "source": [
    "print(\"id(a): \", id(a))\n",
    "print(\"id(b): \", id(b))"
   ]
  },
  {
   "cell_type": "markdown",
   "metadata": {},
   "source": [
    "Those numbers refer to memory addresses.\n",
    "\n",
    "### Copying data (more generally)\n",
    "\n",
    "The `copy` function in the `copy` module is a more generic way to copy a list:"
   ]
  },
  {
   "cell_type": "code",
   "execution_count": 22,
   "metadata": {},
   "outputs": [
    {
     "name": "stdout",
     "output_type": "stream",
     "text": [
      "[5, 2, 7, 0, 'xyz']\n",
      "[5, 2, 7, 0, 'abc']\n"
     ]
    }
   ],
   "source": [
    "import copy\n",
    "a = [5,2,7,0,'abc']\n",
    "b = copy.copy(a)\n",
    "b[4] = 'xyz'\n",
    "print(b)\n",
    "print(a)"
   ]
  },
  {
   "cell_type": "markdown",
   "metadata": {},
   "source": [
    "Note that elements in a list are also references to memory location.  For\n",
    "example if your list contains a list, this will happen when using `copy.copy()`:"
   ]
  },
  {
   "cell_type": "code",
   "execution_count": 23,
   "metadata": {},
   "outputs": [
    {
     "name": "stdout",
     "output_type": "stream",
     "text": [
      "[2, 'string', [55, 2, 3]]\n",
      "[2, 'string', [55, 2, 3]]\n"
     ]
    }
   ],
   "source": [
    "a = [2, 'string', [1,2,3]]\n",
    "b = copy.copy(a)\n",
    "b[2][0] = 55\n",
    "print(b)\n",
    "print(a)"
   ]
  },
  {
   "cell_type": "markdown",
   "metadata": {},
   "source": [
    "Here, the element for the sub-list `[55, 2, 3]` is actually a memory reference.\n",
    "So, when we copy the outer list, only references for the contained objects are\n",
    "copied.  Thus in this case modifying the copy (`b`) modifies the original\n",
    "(`a`).  Thus, we may need the function `copy.deepcopy()`:"
   ]
  },
  {
   "cell_type": "code",
   "execution_count": 24,
   "metadata": {},
   "outputs": [
    {
     "name": "stdout",
     "output_type": "stream",
     "text": [
      "[2, 'string', [99, 2, 3]]\n",
      "[2, 'string', [1, 2, 3]]\n"
     ]
    }
   ],
   "source": [
    "a = [2, 'string', [1,2,3]]\n",
    "b = copy.deepcopy(a)\n",
    "b[2][0] = 99\n",
    "print(b)\n",
    "print(a)"
   ]
  },
  {
   "cell_type": "markdown",
   "metadata": {},
   "source": [
    "### Sorting lists\n",
    "\n",
    "Sorting Python lists is very easy.  Let's randomly shuffle a list and then sort\n",
    "it."
   ]
  },
  {
   "cell_type": "code",
   "execution_count": 25,
   "metadata": {},
   "outputs": [
    {
     "name": "stdout",
     "output_type": "stream",
     "text": [
      "[0, 1, 2, 3, 4, 5, 6, 7, 8, 9]\n",
      "[6, 1, 2, 3, 7, 0, 8, 4, 9, 5]\n"
     ]
    }
   ],
   "source": [
    "import random\n",
    "my_list = list(range(10))\n",
    "print(my_list)\n",
    "random.shuffle(my_list)\n",
    "print(my_list)"
   ]
  },
  {
   "cell_type": "markdown",
   "metadata": {},
   "source": [
    "Note that the `random.shuffle()` function shuffles the list in-place.  It does\n",
    "not create a new list.\n",
    "\n",
    "We can use the `sorted()` function to return a new sorted list:"
   ]
  },
  {
   "cell_type": "code",
   "execution_count": 26,
   "metadata": {},
   "outputs": [
    {
     "name": "stdout",
     "output_type": "stream",
     "text": [
      "my_list: [6, 1, 2, 3, 7, 0, 8, 4, 9, 5]\n",
      "sorted_list: [0, 1, 2, 3, 4, 5, 6, 7, 8, 9]\n"
     ]
    }
   ],
   "source": [
    "sorted_list = sorted(my_list)\n",
    "print(\"my_list:\", my_list)\n",
    "print(\"sorted_list:\", sorted_list)"
   ]
  },
  {
   "cell_type": "markdown",
   "metadata": {},
   "source": [
    "The list `sort()` method sorts the list in place:"
   ]
  },
  {
   "cell_type": "code",
   "execution_count": 27,
   "metadata": {},
   "outputs": [
    {
     "name": "stdout",
     "output_type": "stream",
     "text": [
      "my_list: [0, 1, 2, 3, 4, 5, 6, 7, 8, 9]\n"
     ]
    }
   ],
   "source": [
    "my_list.sort()\n",
    "print(\"my_list:\", my_list)"
   ]
  },
  {
   "cell_type": "markdown",
   "metadata": {},
   "source": [
    "### List operations\n",
    "\n",
    "In the following summary, `s` is a list and `x` is an element.\n",
    "\n",
    "* `x in s`: `True` if an item of `s` is equal to `x`, else `False`\n",
    "* `x not in s`: `False` if an item of `s` is equal to `x`, else `True`\n",
    "* `s + t`: the concatenation of `s` and `t`\n",
    "* `s * n` or `n * s`: equivalent to adding `s` to itself `n` times\n",
    "* `s[i]`: `i`th item of `s`, origin `0`\n",
    "* `s[i:j]`: slice of `s` from `i` to `j`\n",
    "* `s[i:j:k]`: slice of s from `i` to `j` with step `k`\n",
    "* `len(s)`: length of `s`\n",
    "* `min(s)`: smallest item of `s`\n",
    "* `max(s)`: largest item of `s`\n",
    "* `s.index(x)`: index of the first occurrence of `x` in `s`\n",
    "* `s.count(x)`: total number of occurrences of `x` in `s`\n",
    "* `s[i] = x`: item `i` of `s` is replaced by `x`\n",
    "* `s[i:j] = t`: slice of `s` from `i` to `j` is replaced by the contents of the `t`\n",
    "* `del s[i:j]`: same as `s[i:j] = []`\n",
    "* `s[i:j:k] = t`: the elements of `s[i:j:k]` are replaced by those of `t`\n",
    "* `del s[i:j:k]`: removes the elements of `s[i:j:k]` from the list\n",
    "* `s.append(x)`: appends `x` to the end of the sequence (same as `s[len(s):len(s)] = [x]`)\n",
    "* `s.clear()`: removes all items from `s` (same as `del s[:]`)\n",
    "* `s.copy()`: creates a shallow copy of `s` (same as `s[:]`)\n",
    "* `s.extend(t) or s += t`: extends `s` with the contents of `t` (for the most part the same as `s[len(s):len(s)] = t`)\n",
    "* `s *= n`: updates `s` with its contents repeated `n` times\n",
    "* `s.insert(i, x)`: inserts `x` into `s` at the index given by `i` (same as `s[i:i] = [x]`)\n",
    "* `s.pop([i])`: retrieves the item at `i` and also removes it from `s`\n",
    "* `s.remove(x)`: remove the first item from `s` where `s[i] == x`\n",
    "* `s.reverse()`: reverses the items of `s` in place\n",
    "* `s.sort()`: sorts the items of `s` in place\n",
    "\n",
    "Also have a look at `help(list)`.\n",
    "\n",
    "### Resources\n",
    "\n",
    "* Python tutorial section on [`list`][pydoc-lists]\n",
    "* Python reference section on [sequences][pydoc-sequences]\n",
    "\n",
    "[pydoc-lists]: https://docs.python.org/3/tutorial/introduction.html#lists\n",
    "[pydoc-sequences]: https://docs.python.org/3/library/stdtypes.html#sequence-types-list-tuple-range"
   ]
  }
 ],
 "metadata": {},
 "nbformat": 4,
 "nbformat_minor": 1
}
