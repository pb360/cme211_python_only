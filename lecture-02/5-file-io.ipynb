{
 "cells": [
  {
   "cell_type": "markdown",
   "metadata": {},
   "source": [
    "## Python File IO (Input-Output)\n",
    "\n",
    "Python makes it very easy to read and write files to disk.\n",
    "\n",
    "Keep in mind that it is almost always better to use a Python module for specific\n",
    "formats.  For example, use the [`json`][pyref-json] module for JSON files or the\n",
    "[`csv`][pyref-csv] module for `.csv` files.  Better yet, use [Pandas][pandas]\n",
    "for table-like data.\n",
    "\n",
    "[pyref-json]: https://docs.python.org/3/library/json.html\n",
    "[pyref-csv]: https://docs.python.org/3/library/csv.html\n",
    "[pandas]: http://pandas.pydata.org/\n",
    "\n",
    "### What is a file?\n",
    "\n",
    "A *file* is a segment of data, typically associated with a filename, that exists\n",
    "in a computer's persistent storage.  This means that the data remains when the\n",
    "computer is turned off.\n",
    "\n",
    "There are two main kinds of files: *text* and *binary*.\n",
    "\n",
    "Text files are typically easier for humans to read and write.\n",
    "\n",
    "Binary files (images, music files, etc.) are more efficient in terms of storage.\n",
    "\n",
    "Python scripts are text files and by convention have a `.py` extension.  On unix\n",
    "systems we can dump a text file to the terminal with:"
   ]
  },
  {
   "cell_type": "markdown",
   "metadata": {},
   "source": [
    "```\n",
    "$ cat hello.py\n",
    "# run me from the command line with\n",
    "# $ python3 hello.py\n",
    "\n",
    "print(\"hello sweet world!\")\n",
    "```\n"
   ]
  },
  {
   "cell_type": "markdown",
   "metadata": {},
   "source": [
    "For run, try dumping a binary file to the terminal with `$ cat /bin/ls`.  What\n",
    "happens?\n",
    "\n",
    "In Python it is very easy to open, read from, and write to a text file.  Let's\n",
    "see how it works.\n",
    "\n",
    "See Chapter 9 in **Learning Python** for information on accessing files with\n",
    "Python.  The relevant information starts on page 282.\n",
    "\n",
    "### The file object\n",
    "\n",
    "* Interaction with the file system is pretty straightforward in Python.\n",
    "* Done using *file objects*\n",
    "* We can instantiate a file object using `open` or `file`\n",
    "\n",
    "### Opening a file"
   ]
  },
  {
   "cell_type": "markdown",
   "metadata": {},
   "source": [
    "```py\n",
    "f = open(filename, option)\n",
    "```\n"
   ]
  },
  {
   "cell_type": "markdown",
   "metadata": {},
   "source": [
    "* `filename`: path to file on disk\n",
    "* `option`: mode to open file (passed as a string)\n",
    "  * `'r'`: read file\n",
    "  * `'w'`: write to file (overwrites existing file)\n",
    "  * `'a'`: append to file\n",
    "* We need to close a file after we are done: `f.close()`\n",
    "\n",
    "Open a file:"
   ]
  },
  {
   "cell_type": "code",
   "execution_count": 1,
   "metadata": {},
   "outputs": [
    {
     "data": {
      "text/plain": [
       "<_io.TextIOWrapper name='humpty-dumpty.txt' mode='r' encoding='UTF-8'>"
      ]
     },
     "execution_count": 1,
     "metadata": {},
     "output_type": "execute_result"
    }
   ],
   "source": [
    "f = open(\"humpty-dumpty.txt\",\"r\")\n",
    "f"
   ]
  },
  {
   "cell_type": "markdown",
   "metadata": {},
   "source": [
    "We can test if the file is closed:"
   ]
  },
  {
   "cell_type": "code",
   "execution_count": 2,
   "metadata": {},
   "outputs": [
    {
     "data": {
      "text/plain": [
       "False"
      ]
     },
     "execution_count": 2,
     "metadata": {},
     "output_type": "execute_result"
    }
   ],
   "source": [
    "f.closed"
   ]
  },
  {
   "cell_type": "markdown",
   "metadata": {},
   "source": [
    "We can close the file:"
   ]
  },
  {
   "cell_type": "code",
   "execution_count": 3,
   "metadata": {},
   "outputs": [
    {
     "data": {
      "text/plain": [
       "True"
      ]
     },
     "execution_count": 3,
     "metadata": {},
     "output_type": "execute_result"
    }
   ],
   "source": [
    "f.close()\n",
    "f.closed"
   ]
  },
  {
   "cell_type": "markdown",
   "metadata": {},
   "source": [
    "Closing a file flushes any buffered data to disk and frees up operating system\n",
    "resources.  If using a file in this manner, it is important to close files. *We\n",
    "will take off points if you neglect to do this.*\n",
    "\n",
    "### `with open() as f:`\n",
    "\n",
    "It is good practice to use the `with` keyword when dealing with file objects.\n",
    "This has the advantage that the file is properly closed after its suite\n",
    "finishes, even if an exception is raised on the way."
   ]
  },
  {
   "cell_type": "code",
   "execution_count": 4,
   "metadata": {},
   "outputs": [
    {
     "name": "stdout",
     "output_type": "stream",
     "text": [
      "Humpty Dumpty sat on a wall,\n",
      "Humpty Dumpty had a great fall.\n",
      "All the king's horses and all the king's men\n",
      "Couldn't put Humpty together again.\n",
      "\n"
     ]
    }
   ],
   "source": [
    "with open('humpty-dumpty.txt', 'r') as f:\n",
    "    print(f.read())"
   ]
  },
  {
   "cell_type": "code",
   "execution_count": 5,
   "metadata": {},
   "outputs": [
    {
     "data": {
      "text/plain": [
       "True"
      ]
     },
     "execution_count": 5,
     "metadata": {},
     "output_type": "execute_result"
    }
   ],
   "source": [
    "f.closed"
   ]
  },
  {
   "cell_type": "markdown",
   "metadata": {},
   "source": [
    "### If a file does not exist"
   ]
  },
  {
   "cell_type": "code",
   "execution_count": 6,
   "metadata": {},
   "outputs": [
    {
     "ename": "FileNotFoundError",
     "evalue": "[Errno 2] No such file or directory: 'no-file.txt'",
     "output_type": "error",
     "traceback": [
      "\u001b[0;31m---------------------------------------------------------------------------\u001b[0m",
      "\u001b[0;31mFileNotFoundError\u001b[0m                         Traceback (most recent call last)",
      "\u001b[0;32m<ipython-input-6-3d8ea436b562>\u001b[0m in \u001b[0;36m<module>\u001b[0;34m()\u001b[0m\n\u001b[0;32m----> 1\u001b[0;31m \u001b[0mbad_file\u001b[0m \u001b[0;34m=\u001b[0m \u001b[0mopen\u001b[0m\u001b[0;34m(\u001b[0m\u001b[0;34m\"no-file.txt\"\u001b[0m\u001b[0;34m,\u001b[0m\u001b[0;34m\"r\"\u001b[0m\u001b[0;34m)\u001b[0m\u001b[0;34m\u001b[0m\u001b[0m\n\u001b[0m",
      "\u001b[0;31mFileNotFoundError\u001b[0m: [Errno 2] No such file or directory: 'no-file.txt'"
     ]
    }
   ],
   "source": [
    "bad_file = open(\"no-file.txt\",\"r\")"
   ]
  },
  {
   "cell_type": "markdown",
   "metadata": {},
   "source": [
    "### Reading data from a file\n",
    "\n",
    "File object methods:\n",
    "\n",
    "* `read()`: Read entire file (or first `n` characters, if supplied)\n",
    "* `readline()`: Reads a single line per call\n",
    "* `readlines()`: Returns a list with lines (splits at newline)\n",
    "\n",
    "### `readline()`\n",
    "\n",
    "Use the `readline()` method to read lines from a file:"
   ]
  },
  {
   "cell_type": "code",
   "execution_count": 7,
   "metadata": {},
   "outputs": [
    {
     "name": "stdout",
     "output_type": "stream",
     "text": [
      "Humpty Dumpty sat on a wall,\n",
      "\n",
      "Humpty Dumpty had a great fall.\n",
      "\n"
     ]
    }
   ],
   "source": [
    "f = open(\"humpty-dumpty.txt\",\"r\")\n",
    "print(f.readline())\n",
    "print(f.readline())\n",
    "f.close()"
   ]
  },
  {
   "cell_type": "markdown",
   "metadata": {},
   "source": [
    "### `read()`\n",
    "\n",
    "You can read an entire file at once with the `read()` method:"
   ]
  },
  {
   "cell_type": "code",
   "execution_count": 8,
   "metadata": {},
   "outputs": [
    {
     "name": "stdout",
     "output_type": "stream",
     "text": [
      "Humpty Dumpty sat on a wall,\n",
      "Humpty Dumpty had a great fall.\n",
      "All the king's horses and all the king's men\n",
      "Couldn't put Humpty together again.\n",
      "\n"
     ]
    }
   ],
   "source": [
    "f = open(\"humpty-dumpty.txt\",\"r\")\n",
    "poem = f.read()\n",
    "print(poem)\n",
    "f.close()"
   ]
  },
  {
   "cell_type": "markdown",
   "metadata": {},
   "source": [
    "### Iterate over lines\n",
    "\n",
    "You can very easily iterate over lines in a file with:"
   ]
  },
  {
   "cell_type": "code",
   "execution_count": 9,
   "metadata": {},
   "outputs": [
    {
     "name": "stdout",
     "output_type": "stream",
     "text": [
      "Humpty Dumpty sat on a wall,\n",
      "\n",
      "Humpty Dumpty had a great fall.\n",
      "\n",
      "All the king's horses and all the king's men\n",
      "\n",
      "Couldn't put Humpty together again.\n",
      "\n"
     ]
    }
   ],
   "source": [
    "f = open(\"humpty-dumpty.txt\",\"r\")\n",
    "for line in f:\n",
    "    print(line)\n",
    "f.close()"
   ]
  },
  {
   "cell_type": "markdown",
   "metadata": {},
   "source": [
    "### An example with `with`"
   ]
  },
  {
   "cell_type": "code",
   "execution_count": 10,
   "metadata": {},
   "outputs": [
    {
     "name": "stdout",
     "output_type": "stream",
     "text": [
      "line 0: Humpty Dumpty sat on a wall,\n",
      "\n",
      "line 1: Humpty Dumpty had a great fall.\n",
      "\n",
      "line 2: All the king's horses and all the king's men\n",
      "\n",
      "line 3: Couldn't put Humpty together again.\n",
      "\n"
     ]
    }
   ],
   "source": [
    "with open('humpty-dumpty.txt', 'r') as f:\n",
    "    for i, line in enumerate(f):\n",
    "        print(\"line {}: {}\".format(i,line))"
   ]
  },
  {
   "cell_type": "markdown",
   "metadata": {},
   "source": [
    "Note the extra lines between each line of text.   You can do this by specifying\n",
    "the `end` keyword parameter for the `print` function to be an empty string (`\"\"`):\n",
    "`print(line, end='')` or slicing `line` with `print(line[:-1])`.\n",
    "\n",
    "### Iterate over words!\n",
    "\n",
    "The string [`split`][py-split] method partitions a string into a list based on a\n",
    "delimiter. Space is the default delimiter.  The [`strip`][py-strip] method\n",
    "removes leading and trailing whitespace from a string."
   ]
  },
  {
   "cell_type": "code",
   "execution_count": 11,
   "metadata": {},
   "outputs": [
    {
     "name": "stdout",
     "output_type": "stream",
     "text": [
      "Humpty\n",
      "Dumpty\n",
      "sat\n",
      "on\n",
      "a\n",
      "wall,\n",
      "Humpty\n",
      "Dumpty\n",
      "had\n",
      "a\n",
      "great\n",
      "fall.\n",
      "All\n",
      "the\n",
      "king's\n",
      "horses\n",
      "and\n",
      "all\n",
      "the\n",
      "king's\n",
      "men\n",
      "Couldn't\n",
      "put\n",
      "Humpty\n",
      "together\n",
      "again.\n"
     ]
    }
   ],
   "source": [
    "f = open(\"humpty-dumpty.txt\",\"r\")\n",
    "for line in f:\n",
    "    for word in line.split():\n",
    "        # use strip() method to remove extra newline characters\n",
    "        print(word.strip())\n",
    "f.close()"
   ]
  },
  {
   "cell_type": "markdown",
   "metadata": {},
   "source": [
    "[py-split]: https://docs.python.org/3/library/stdtypes.html#str.split\n",
    "[py-strip]: https://docs.python.org/3/library/stdtypes.html#str.strip\n",
    "\n",
    "### Writing to file\n",
    "\n",
    "Use the `write()` method to write to a file.  Make sure to open the file in\n",
    "write mode with `'w'` as the second argument to `open()`."
   ]
  },
  {
   "cell_type": "code",
   "execution_count": 12,
   "metadata": {},
   "outputs": [],
   "source": [
    "name = \"Python learner\"\n",
    "with open('hello.txt', 'w') as f:\n",
    "    f.write(\"Hello, {}!\\n\".format(name))"
   ]
  },
  {
   "cell_type": "code",
   "execution_count": 13,
   "metadata": {},
   "outputs": [
    {
     "name": "stdout",
     "output_type": "stream",
     "text": [
      "Hello, Python learner!\r\n"
     ]
    }
   ],
   "source": [
    "%cat hello.txt"
   ]
  },
  {
   "cell_type": "markdown",
   "metadata": {},
   "source": [
    "### More writing examples\n",
    "\n",
    "Write elements of list to file:"
   ]
  },
  {
   "cell_type": "code",
   "execution_count": 14,
   "metadata": {},
   "outputs": [],
   "source": [
    "xs = [\"i\", \"am\", 'a', 'fancy', 'list', 42]\n",
    "with open('from_list.txt', 'w') as f:\n",
    "    for x in xs:\n",
    "        f.write('{}\\n'.format(x))"
   ]
  },
  {
   "cell_type": "code",
   "execution_count": 15,
   "metadata": {},
   "outputs": [
    {
     "name": "stdout",
     "output_type": "stream",
     "text": [
      "i\r\n",
      "am\r\n",
      "a\r\n",
      "fancy\r\n",
      "list\r\n",
      "42\r\n"
     ]
    }
   ],
   "source": [
    "%cat from_list.txt"
   ]
  },
  {
   "cell_type": "markdown",
   "metadata": {},
   "source": [
    "To write multiple lines to a file at once, use the `writelines` method:"
   ]
  },
  {
   "cell_type": "code",
   "execution_count": 16,
   "metadata": {},
   "outputs": [],
   "source": [
    "f = open(\"writelines.txt\",\"w\")\n",
    "f.writelines([\"a mighty fine day\\n\",\"ends with a great big party\\n\",\"thank you, its friday\\n\"])\n",
    "f.close()"
   ]
  },
  {
   "cell_type": "code",
   "execution_count": 17,
   "metadata": {},
   "outputs": [
    {
     "name": "stdout",
     "output_type": "stream",
     "text": [
      "a mighty fine day\r\n",
      "ends with a great big party\r\n",
      "thank you, its friday\r\n"
     ]
    }
   ],
   "source": [
    "%cat writelines.txt"
   ]
  },
  {
   "cell_type": "markdown",
   "metadata": {},
   "source": [
    "Note that the `write` and `writeliens` methods will not insert newline\n",
    "characters.  To get a new line, you must add `'\\n'` to the strings.\n",
    "\n",
    "### Buffering\n",
    "\n",
    "For efficiency, the `file` object will temporarily store data from `write` or\n",
    "`writelines` methods in memory before actually writing to disk.  This is known\n",
    "as buffering.  It turns out that writing larger chunks of data to disk in fewer\n",
    "transactions is more efficient than many transactions of small chunks.  If you\n",
    "attempt to open a text file created by Python and not closed, you may not see\n",
    "the data.  Calling the `close()` method flushes all data to disk."
   ]
  },
  {
   "cell_type": "code",
   "execution_count": 18,
   "metadata": {},
   "outputs": [],
   "source": [
    "f = open('foo.txt','w')\n",
    "f.write(\"this is some sweet text\\n\")\n",
    "%cat foo.txt"
   ]
  },
  {
   "cell_type": "markdown",
   "metadata": {},
   "source": [
    "(On my system `foo.txt` is empty at this point.  Behavior may be different on\n",
    "your system.)"
   ]
  },
  {
   "cell_type": "code",
   "execution_count": 19,
   "metadata": {},
   "outputs": [
    {
     "name": "stdout",
     "output_type": "stream",
     "text": [
      "this is some sweet text\r\n"
     ]
    }
   ],
   "source": [
    "f.close()\n",
    "%cat foo.txt"
   ]
  }
 ],
 "metadata": {},
 "nbformat": 4,
 "nbformat_minor": 1
}
