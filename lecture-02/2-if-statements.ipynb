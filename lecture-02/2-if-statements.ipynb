{
 "cells": [
  {
   "cell_type": "markdown",
   "metadata": {},
   "source": [
    "## `if` statements\n",
    "\n",
    "In Python we can control the execution of code based on conditions with `if`\n",
    "statements.\n",
    "\n",
    "### `if` statements\n",
    "\n",
    "Using `if`, we can execute part of a program conditional on some statement being\n",
    "true."
   ]
  },
  {
   "cell_type": "code",
   "execution_count": 1,
   "metadata": {},
   "outputs": [
    {
     "name": "stdout",
     "output_type": "stream",
     "text": [
      "move car!\n"
     ]
    }
   ],
   "source": [
    "traffic_light = 'green'\n",
    "if traffic_light == 'green':\n",
    "    print(\"move car!\")"
   ]
  },
  {
   "cell_type": "markdown",
   "metadata": {},
   "source": [
    "### Note on indentation\n",
    "\n",
    "In Python, blocks of code are defined using indentation.\n",
    "\n",
    "This means that everything indented after an `if` statement is only executed if\n",
    "the statement is `True`.\n",
    "\n",
    "If the statement is `False`, the program skips all indented code and resumes at\n",
    "the first line of unindented code."
   ]
  },
  {
   "cell_type": "code",
   "execution_count": 2,
   "metadata": {},
   "outputs": [
    {
     "name": "stdout",
     "output_type": "stream",
     "text": [
      "Hello, world,\n",
      "Bye, world!\n"
     ]
    }
   ],
   "source": [
    "statement = False\n",
    "if statement:\n",
    "    # if statement is True, then all code here\n",
    "    # gets executed but not if statement is False\n",
    "    print(\"The statement is true\")\n",
    "    print(\"Else, this would not be printed\")\n",
    "# the next lines get executed either way\n",
    "print(\"Hello, world,\")\n",
    "print(\"Bye, world!\")"
   ]
  },
  {
   "cell_type": "markdown",
   "metadata": {},
   "source": [
    "### `if`-`else` statements\n",
    "\n",
    "We can add more conditions to the `if` statement using `else` and `elif` (short\n",
    "for else if):"
   ]
  },
  {
   "cell_type": "code",
   "execution_count": 3,
   "metadata": {},
   "outputs": [
    {
     "name": "stdout",
     "output_type": "stream",
     "text": [
      "maybe stop\n"
     ]
    }
   ],
   "source": [
    "traffic_light = 'red'\n",
    "if traffic_light == 'green':\n",
    "    print(\"drive\")\n",
    "elif traffic_light == 'orange':\n",
    "    # executed if conditional statement is True and previous [el]if statements\n",
    "    # are false\n",
    "    print(\"better drive faster\")\n",
    "else:\n",
    "    # executed if all other [el]if statements return False\n",
    "    print(\"maybe stop\")"
   ]
  },
  {
   "cell_type": "markdown",
   "metadata": {},
   "source": [
    "### What is `True`?\n",
    "\n",
    "Non-boolean values can be used in an `if` statement.  It is important to know\n",
    "which values are considered `True` versus `False`."
   ]
  },
  {
   "cell_type": "code",
   "execution_count": 4,
   "metadata": {},
   "outputs": [
    {
     "name": "stdout",
     "output_type": "stream",
     "text": [
      "Yes! :)\n"
     ]
    }
   ],
   "source": [
    "if \"am I True?\":\n",
    "    print(\"Yes! :)\")\n",
    "else:\n",
    "    print(\"No :(\")"
   ]
  },
  {
   "cell_type": "markdown",
   "metadata": {},
   "source": [
    "Non-empty strings are considered `True` while empty strings are `False`.\n",
    "\n",
    "In Python the following values are interpreted as `False`:\n",
    "* `False`\n",
    "* `None`\n",
    "* numeric zero of all numeric types\n",
    "* empty strings\n",
    "* empty containers (including strings, tuples, lists, dictionaries, sets and frozensets)\n",
    "\n",
    "All other values are interpreted as `True`."
   ]
  }
 ],
 "metadata": {},
 "nbformat": 4,
 "nbformat_minor": 1
}
