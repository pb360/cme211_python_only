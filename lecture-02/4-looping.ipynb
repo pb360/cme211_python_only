{
 "cells": [
  {
   "cell_type": "markdown",
   "metadata": {},
   "source": [
    "## Looping with `for` and `while`\n",
    "\n",
    "Very often, one wants to repeat some action. This can be achieved with `for`\n",
    "and `while` statements.\n",
    "\n",
    "### `for` loops\n",
    "\n",
    "A `for` loop is typically used when we want to repeat an action a given number\n",
    "of times."
   ]
  },
  {
   "cell_type": "code",
   "execution_count": 1,
   "metadata": {},
   "outputs": [
    {
     "name": "stdout",
     "output_type": "stream",
     "text": [
      "0, 1, 4, 9, 16, \n"
     ]
    }
   ],
   "source": [
    "for i in range(5):\n",
    "    print(i**2, end=', ')\n",
    "print() # print a new line at the end"
   ]
  },
  {
   "cell_type": "markdown",
   "metadata": {},
   "source": [
    "Here, `for i in range(n):` will execute the loop body `n` times with `i = 0, 1,\n",
    "2, ..., n - 1` in succession.\n",
    "\n",
    "### Note on Python syntax\n",
    "\n",
    "Python uses syntatic indenting.  This means that indenting code has a meaning in\n",
    "the programming language.  In languages like C, C++, and Java, loop bodies are\n",
    "enclosed in braces, but good coding style suggests that statements in a loop or\n",
    "conditional body are indented:"
   ]
  },
  {
   "cell_type": "markdown",
   "metadata": {},
   "source": [
    "```c\n",
    "for (int i = 0; i < 10; i++) {\n",
    "    printf(\"i = %d\\n\",i);\n",
    "}\n",
    "```\n"
   ]
  },
  {
   "cell_type": "markdown",
   "metadata": {},
   "source": [
    "Python takes this a step further and requires the indenting of loop and\n",
    "conditional bodies.  We recommend that you use 4 spaces to indent python code\n",
    "([so does the python community][py-tabs]]).\n",
    "Please tell your text editors to insert spaces instead of tab characters when\n",
    "you hit the tab key on the keyboard.\n",
    "\n",
    "[py-tabs]: https://www.python.org/dev/peps/pep-0008/#tabs-or-spaces\n",
    "\n",
    "### The `range()` function\n",
    "\n",
    "The `range()` function can be used in a few different ways.  We can convert a\n",
    "range object to a python list with the `list()` function:"
   ]
  },
  {
   "cell_type": "code",
   "execution_count": 2,
   "metadata": {},
   "outputs": [
    {
     "name": "stdout",
     "output_type": "stream",
     "text": [
      "[0, 1, 2, 3, 4, 5, 6]\n",
      "[4, 5, 6, 7, 8, 9, 10]\n",
      "[4, 7, 10, 13]\n"
     ]
    }
   ],
   "source": [
    "# get range 0,...,6\n",
    "print(list(range(7)))\n",
    "# get range 4,...,10\n",
    "print(list(range(4,11)))\n",
    "# get range [4,16) with step of 3\n",
    "print(list(range(4,16,3)))"
   ]
  },
  {
   "cell_type": "markdown",
   "metadata": {},
   "source": [
    "See `help(range)` for more info.\n",
    "\n",
    "Note that `range` differs in Python 2 and 3.  In Python 2, `range()` returns a\n",
    "list.  In Python 3, `range()` returns an object that produces a sequence of\n",
    "integers in the context of a `for` loop, which is more efficient, because memory\n",
    "for a new list need not be allocated.\n",
    "\n",
    "### `for` and lists\n",
    "\n",
    "We can use a `for` loop to iterate over items in a list:"
   ]
  },
  {
   "cell_type": "code",
   "execution_count": 3,
   "metadata": {},
   "outputs": [
    {
     "name": "stdout",
     "output_type": "stream",
     "text": [
      "1\n",
      "45.99\n",
      "True\n",
      "str item\n",
      "['sub', 'list']\n"
     ]
    }
   ],
   "source": [
    "my_list = [1, 45.99, True, \"str item\", [\"sub\", \"list\"]]\n",
    "for item in my_list:\n",
    "    print(item)"
   ]
  },
  {
   "cell_type": "markdown",
   "metadata": {},
   "source": [
    "It is often handy to get access to both the list item and index in a `for` loop.\n",
    "This can be achieved with the `enumerate()` function:"
   ]
  },
  {
   "cell_type": "code",
   "execution_count": 4,
   "metadata": {},
   "outputs": [
    {
     "name": "stdout",
     "output_type": "stream",
     "text": [
      "0: 1\n",
      "1: 45.99\n",
      "2: True\n",
      "3: str item\n",
      "4: ['sub', 'list']\n"
     ]
    }
   ],
   "source": [
    "my_list = [1, 45.99, True, \"str item\", [\"sub\", \"list\"]]\n",
    "for index, item in enumerate(my_list):\n",
    "    print(\"{}: {}\".format(index, item))"
   ]
  },
  {
   "cell_type": "markdown",
   "metadata": {},
   "source": [
    "### Example adding numbers"
   ]
  },
  {
   "cell_type": "code",
   "execution_count": 5,
   "metadata": {},
   "outputs": [
    {
     "name": "stdout",
     "output_type": "stream",
     "text": [
      "5050\n"
     ]
    }
   ],
   "source": [
    "summation = 0\n",
    "for n in range(1,101):\n",
    "    summation += n\n",
    "print(summation)"
   ]
  },
  {
   "cell_type": "markdown",
   "metadata": {},
   "source": [
    "Also achievable in Python via `sum`:"
   ]
  },
  {
   "cell_type": "code",
   "execution_count": 6,
   "metadata": {},
   "outputs": [
    {
     "data": {
      "text/plain": [
       "5050"
      ]
     },
     "execution_count": 6,
     "metadata": {},
     "output_type": "execute_result"
    }
   ],
   "source": [
    "sum(range(1,101))"
   ]
  },
  {
   "cell_type": "markdown",
   "metadata": {},
   "source": [
    "### `while` loops\n",
    "\n",
    "When we do not know how many iterations are needed, we can use `while`."
   ]
  },
  {
   "cell_type": "code",
   "execution_count": 7,
   "metadata": {},
   "outputs": [
    {
     "name": "stdout",
     "output_type": "stream",
     "text": [
      "4, 16, 256, \n"
     ]
    }
   ],
   "source": [
    "i = 2\n",
    "while i < 100:\n",
    "    # loop body only execute if conditional statement is True\n",
    "    print(i**2,end=\", \")\n",
    "    i = i**2\n",
    "print() # print a new line at the end"
   ]
  },
  {
   "cell_type": "markdown",
   "metadata": {},
   "source": [
    "### Infinite loops"
   ]
  },
  {
   "cell_type": "markdown",
   "metadata": {},
   "source": [
    "```py\n",
    "while True:\n",
    "    print(\"hah!\")\n",
    "```\n"
   ]
  },
  {
   "cell_type": "markdown",
   "metadata": {},
   "source": [
    "* In Jupyter Notebook, select \"Interrupt\" from the Kernel menu\n",
    "* Use `ctrl-c` to interrupt the interpreter\n",
    "\n",
    "### Nesting loops\n",
    "\n",
    "A *nested loop* is a loop in the body of a loop."
   ]
  },
  {
   "cell_type": "code",
   "execution_count": 8,
   "metadata": {},
   "outputs": [
    {
     "name": "stdout",
     "output_type": "stream",
     "text": [
      "\n",
      "0 \n",
      "0 1 \n",
      "0 1 2 \n",
      "0 1 2 3 \n",
      "0 1 2 3 4 \n",
      "0 1 2 3 4 5 \n",
      "0 1 2 3 4 5 6 \n"
     ]
    }
   ],
   "source": [
    "for i in range(8):\n",
    "    for j in range(i):\n",
    "        print(j, end=' ')\n",
    "    print()"
   ]
  },
  {
   "cell_type": "markdown",
   "metadata": {},
   "source": [
    "### `continue`\n",
    "\n",
    "`continue` continues with the next iteration of the smallest enclosing loop:"
   ]
  },
  {
   "cell_type": "code",
   "execution_count": 9,
   "metadata": {},
   "outputs": [
    {
     "name": "stdout",
     "output_type": "stream",
     "text": [
      "Found an even number: 2\n",
      "Found an odd number: 3\n",
      "Found an even number: 4\n",
      "Found an odd number: 5\n",
      "Found an even number: 6\n",
      "Found an odd number: 7\n",
      "Found an even number: 8\n",
      "Found an odd number: 9\n"
     ]
    }
   ],
   "source": [
    "for num in range(2, 10):\n",
    "    if num % 2 == 0:\n",
    "        print(\"Found an even number:\", num)\n",
    "        continue\n",
    "    print(\"Found an odd number:\", num)"
   ]
  },
  {
   "cell_type": "markdown",
   "metadata": {},
   "source": [
    "Here, `num in range(2,10)` sets up a loop where `num = 2, 3, ..., 9`.\n",
    "\n",
    "### `break`\n",
    "\n",
    "The `break` statement allows us to jump out of the smallest enclosing `for` or\n",
    "`while` loop.\n",
    "\n",
    "Finding prime numbers:"
   ]
  },
  {
   "cell_type": "code",
   "execution_count": 10,
   "metadata": {},
   "outputs": [
    {
     "name": "stdout",
     "output_type": "stream",
     "text": [
      "2 is a prime number\n",
      "3 is a prime number\n",
      "4 equals 2 * 2.0\n",
      "5 is a prime number\n",
      "6 equals 2 * 3.0\n",
      "7 is a prime number\n",
      "8 equals 2 * 4.0\n",
      "9 equals 3 * 3.0\n"
     ]
    }
   ],
   "source": [
    "max_n = 10\n",
    "for n in range(2, max_n):\n",
    "    for x in range(2, n):\n",
    "        if n % x == 0: # n divisible by x\n",
    "            print(n, 'equals', x, '*', n/x)\n",
    "            break\n",
    "    else: # executed if no break in for loop\n",
    "        # loop fell through without finding a factor\n",
    "        print(n, 'is a prime number')"
   ]
  },
  {
   "cell_type": "markdown",
   "metadata": {},
   "source": [
    "### `pass`\n",
    "\n",
    "The `pass` statement does nothing, which can come in handy when you are working\n",
    "on something and want to implement some part of your code later."
   ]
  },
  {
   "cell_type": "code",
   "execution_count": 11,
   "metadata": {},
   "outputs": [],
   "source": [
    "traffic_light = 'green'\n",
    "if traffic_light == 'green':\n",
    "    pass # to implement later\n",
    "else:\n",
    "    print('whatever you do, stop the car!')"
   ]
  },
  {
   "cell_type": "markdown",
   "metadata": {},
   "source": [
    "### Loop `else`\n",
    "\n",
    "* An `else` can be used with a `for` or `while` loop\n",
    "\n",
    "* The `else` is only executed if the loop runs to completion, not when a `break`\n",
    "statement is executed"
   ]
  },
  {
   "cell_type": "code",
   "execution_count": 12,
   "metadata": {},
   "outputs": [
    {
     "name": "stdout",
     "output_type": "stream",
     "text": [
      "0\n",
      "1\n",
      "2\n",
      "3\n",
      "all done\n"
     ]
    }
   ],
   "source": [
    "for i in range(4):\n",
    "    print(i)\n",
    "else:\n",
    "    print(\"all done\")"
   ]
  },
  {
   "cell_type": "code",
   "execution_count": 13,
   "metadata": {},
   "outputs": [
    {
     "name": "stdout",
     "output_type": "stream",
     "text": [
      "0\n",
      "1\n",
      "2\n",
      "3\n",
      "4\n"
     ]
    }
   ],
   "source": [
    "for i in range(7):\n",
    "    print(i)\n",
    "    if i > 3:\n",
    "        break\n",
    "else:\n",
    "    print(\"all done\")"
   ]
  },
  {
   "cell_type": "markdown",
   "metadata": {},
   "source": [
    "### A note on Python variables\n",
    "\n",
    "It is bad practice to define a variable inside of a conditional or loop body and\n",
    "then reference it outside:"
   ]
  },
  {
   "cell_type": "code",
   "execution_count": 14,
   "metadata": {},
   "outputs": [
    {
     "name": "stdout",
     "output_type": "stream",
     "text": [
      "Nick's age is 45\n"
     ]
    }
   ],
   "source": [
    "name = \"Nick\"\n",
    "if name == \"Nick\":\n",
    "    age = 45 # newly created variable\n",
    "\n",
    "print(\"Nick's age is {}\".format(age))"
   ]
  },
  {
   "cell_type": "markdown",
   "metadata": {},
   "source": [
    "Here is what happens when a variable is not created:"
   ]
  },
  {
   "cell_type": "code",
   "execution_count": 15,
   "metadata": {},
   "outputs": [
    {
     "ename": "NameError",
     "evalue": "name 'id_number' is not defined",
     "output_type": "error",
     "traceback": [
      "\u001b[0;31m---------------------------------------------------------------------------\u001b[0m",
      "\u001b[0;31mNameError\u001b[0m                                 Traceback (most recent call last)",
      "\u001b[0;32m<ipython-input-15-3e4ac234e8c2>\u001b[0m in \u001b[0;36m<module>\u001b[0;34m()\u001b[0m\n\u001b[1;32m      3\u001b[0m     \u001b[0mid_number\u001b[0m \u001b[0;34m=\u001b[0m \u001b[0;36m45\u001b[0m \u001b[0;31m# also newly created variable\u001b[0m\u001b[0;34m\u001b[0m\u001b[0m\n\u001b[1;32m      4\u001b[0m \u001b[0;34m\u001b[0m\u001b[0m\n\u001b[0;32m----> 5\u001b[0;31m \u001b[0mprint\u001b[0m\u001b[0;34m(\u001b[0m\u001b[0;34m\"{}'s id number is {}\"\u001b[0m\u001b[0;34m.\u001b[0m\u001b[0mformat\u001b[0m\u001b[0;34m(\u001b[0m\u001b[0mname\u001b[0m\u001b[0;34m,\u001b[0m \u001b[0mid_number\u001b[0m\u001b[0;34m)\u001b[0m\u001b[0;34m)\u001b[0m\u001b[0;34m\u001b[0m\u001b[0m\n\u001b[0m",
      "\u001b[0;31mNameError\u001b[0m: name 'id_number' is not defined"
     ]
    }
   ],
   "source": [
    "name = \"Bob\"\n",
    "if name == \"Nick\":\n",
    "    id_number = 45 # also newly created variable\n",
    "\n",
    "print(\"{}'s id number is {}\".format(name, id_number))"
   ]
  },
  {
   "cell_type": "markdown",
   "metadata": {},
   "source": [
    "Good practice to define/initialize variables at the same level they will be\n",
    "used:"
   ]
  },
  {
   "cell_type": "code",
   "execution_count": 16,
   "metadata": {},
   "outputs": [
    {
     "name": "stdout",
     "output_type": "stream",
     "text": [
      "Bob's age is 55\n"
     ]
    }
   ],
   "source": [
    "name = \"Bob\"\n",
    "age = 55\n",
    "if name == \"Nick\":\n",
    "    age = 45\n",
    "\n",
    "print(\"{}'s age is {}\".format(name,age))"
   ]
  }
 ],
 "metadata": {},
 "nbformat": 4,
 "nbformat_minor": 1
}
