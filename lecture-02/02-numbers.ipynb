{
 "cells": [
  {
   "cell_type": "markdown",
   "metadata": {},
   "source": [
    "## Numeric operations in Python\n",
    "\n",
    "The following operations are defined for numeric types (i.e. `int` and `float`):\n",
    "\n",
    "* `x + y`:\tsum of `x` and `y`\n",
    "* `x - y`:\tdifference of `x` and `y`\n",
    "* `x * y`:\tproduct of `x` and `y`\n",
    "* `x / y`:\tquotient of `x` and `y`\n",
    "* `x // y`:\tfloored quotient of `x` and `y`\n",
    "* `x % y`:\tremainder of `x` / `y`\n",
    "* `-x`:\t`x` negated\n",
    "* `+x`:\t`x` unchanged\n",
    "* `abs(x)`:\tabsolute value or magnitude of `x`\n",
    "* `int(x)`:\t`x` converted to integer\n",
    "* `float(x)`:\t`x` converted to floating point\n",
    "* `x ** y`:\t`x` to the power `y`\n",
    "\n",
    "A complete list of operations and more detailed discussion can be found in the\n",
    "[Python documentation][py-numeric].\n",
    "\n",
    "[py-numeric]: https://docs.python.org/3/library/stdtypes.html#numeric-types-int-float-complex\n",
    "\n",
    "### Complex numbers\n",
    "\n",
    "Python has built-in [complex numbers][py-complex]:\n",
    "\n",
    "[py-complex]: https://docs.python.org/3/library/stdtypes.html#typesnumeric"
   ]
  },
  {
   "cell_type": "code",
   "execution_count": 1,
   "metadata": {},
   "outputs": [
    {
     "name": "stdout",
     "output_type": "stream",
     "text": [
      "(3+6j)\n",
      "<class 'complex'>\n"
     ]
    }
   ],
   "source": [
    "c = 3+6j\n",
    "print(c)\n",
    "print(type(c))"
   ]
  },
  {
   "cell_type": "markdown",
   "metadata": {},
   "source": [
    "Access real and imaginary parts:"
   ]
  },
  {
   "cell_type": "code",
   "execution_count": 2,
   "metadata": {},
   "outputs": [
    {
     "name": "stdout",
     "output_type": "stream",
     "text": [
      "3.0\n",
      "6.0\n"
     ]
    }
   ],
   "source": [
    "print(c.real)\n",
    "print(c.imag)"
   ]
  },
  {
   "cell_type": "markdown",
   "metadata": {},
   "source": [
    "The parts have type `float`:"
   ]
  },
  {
   "cell_type": "code",
   "execution_count": 3,
   "metadata": {},
   "outputs": [
    {
     "name": "stdout",
     "output_type": "stream",
     "text": [
      "<class 'float'>\n",
      "<class 'float'>\n"
     ]
    }
   ],
   "source": [
    "print(type(c.real))\n",
    "print(type(c.imag))"
   ]
  },
  {
   "cell_type": "markdown",
   "metadata": {},
   "source": [
    "### Numeric conversions\n",
    "\n",
    "It is often useful to convert between integers and floating point numbers.\n",
    "Python fully supports mixed arithmetic: when a binary arithmetic operator (such\n",
    "as `+` or `*`) has operands of different numeric types, the operand with the\n",
    "\"narrower\" type is widened to that of the other, where integer is narrower than\n",
    "floating point. Comparisons between numbers of mixed type use the same rule. The\n",
    "constructors `int()` and `float()` can be used to produce numbers of a\n",
    "specific type.\n",
    "\n",
    "Let's see some examples:"
   ]
  },
  {
   "cell_type": "code",
   "execution_count": 4,
   "metadata": {},
   "outputs": [
    {
     "name": "stdout",
     "output_type": "stream",
     "text": [
      "3.0\n",
      "<class 'float'>\n"
     ]
    }
   ],
   "source": [
    "x = 1 + 2.0\n",
    "print(x)\n",
    "print(type(x))"
   ]
  },
  {
   "cell_type": "markdown",
   "metadata": {},
   "source": [
    "In this case the integer `1` is \"widened\" or converted to the floating point\n",
    "number `1.0` before the addition.\n",
    "\n",
    "It is possible to manually convert from `int` to `float`:"
   ]
  },
  {
   "cell_type": "code",
   "execution_count": 5,
   "metadata": {},
   "outputs": [
    {
     "name": "stdout",
     "output_type": "stream",
     "text": [
      "3.0\n",
      "<class 'float'>\n"
     ]
    }
   ],
   "source": [
    "x = float(3)\n",
    "print(x)\n",
    "print(type(x))"
   ]
  },
  {
   "cell_type": "markdown",
   "metadata": {},
   "source": [
    "It is also possible to convert from `float` to `int`:"
   ]
  },
  {
   "cell_type": "code",
   "execution_count": 6,
   "metadata": {},
   "outputs": [
    {
     "name": "stdout",
     "output_type": "stream",
     "text": [
      "4\n",
      "<class 'int'>\n"
     ]
    }
   ],
   "source": [
    "x = int(4.7)\n",
    "print(x)\n",
    "print(type(x))"
   ]
  },
  {
   "cell_type": "markdown",
   "metadata": {},
   "source": [
    "Let's see what happens with negative numbers:"
   ]
  },
  {
   "cell_type": "code",
   "execution_count": 7,
   "metadata": {},
   "outputs": [
    {
     "name": "stdout",
     "output_type": "stream",
     "text": [
      "-8\n",
      "<class 'int'>\n"
     ]
    }
   ],
   "source": [
    "x = int(-8.9)\n",
    "print(x)\n",
    "print(type(x))"
   ]
  },
  {
   "cell_type": "markdown",
   "metadata": {},
   "source": [
    "The Python `int()` constructor rounds floating point numbers towards `0`.\n",
    "\n",
    "### Converting to and from strings\n",
    "\n",
    "Python makes it very easy to convert numbers to and from strings.  This is a\n",
    "useful feature when trying to read numbers from a text file.  Let's see it in\n",
    "action:"
   ]
  },
  {
   "cell_type": "code",
   "execution_count": 8,
   "metadata": {},
   "outputs": [
    {
     "name": "stdout",
     "output_type": "stream",
     "text": [
      "<class 'str'>\n",
      "42\n",
      "<class 'int'>\n",
      "42.0\n",
      "<class 'float'>\n"
     ]
    }
   ],
   "source": [
    "my_num_str = \"42\"\n",
    "print(type(my_num_str))\n",
    "\n",
    "my_num_int = int(my_num_str)\n",
    "my_num_float = float(my_num_str)\n",
    "\n",
    "print(my_num_int)\n",
    "print(type(my_num_int))\n",
    "\n",
    "print(my_num_float)\n",
    "print(type(my_num_float))"
   ]
  },
  {
   "cell_type": "markdown",
   "metadata": {},
   "source": [
    "It also easy to convert from a numeric type back to a string:"
   ]
  },
  {
   "cell_type": "code",
   "execution_count": 9,
   "metadata": {},
   "outputs": [
    {
     "name": "stdout",
     "output_type": "stream",
     "text": [
      "exam score:95%\n"
     ]
    }
   ],
   "source": [
    "print(\"exam score:\" + str(95) + \"%\")"
   ]
  },
  {
   "cell_type": "markdown",
   "metadata": {},
   "source": [
    "An attempt to concatenate a string with a numeric type is an error:"
   ]
  },
  {
   "cell_type": "code",
   "execution_count": 10,
   "metadata": {},
   "outputs": [
    {
     "ename": "TypeError",
     "evalue": "must be str, not int",
     "output_type": "error",
     "traceback": [
      "\u001b[0;31m---------------------------------------------------------------------------\u001b[0m",
      "\u001b[0;31mTypeError\u001b[0m                                 Traceback (most recent call last)",
      "\u001b[0;32m<ipython-input-10-7b4a9927d591>\u001b[0m in \u001b[0;36m<module>\u001b[0;34m()\u001b[0m\n\u001b[0;32m----> 1\u001b[0;31m \u001b[0mprint\u001b[0m\u001b[0;34m(\u001b[0m\u001b[0;34m\"exam score:\"\u001b[0m \u001b[0;34m+\u001b[0m \u001b[0;36m95\u001b[0m \u001b[0;34m+\u001b[0m \u001b[0;34m\"%\"\u001b[0m\u001b[0;34m)\u001b[0m\u001b[0;34m\u001b[0m\u001b[0m\n\u001b[0m",
      "\u001b[0;31mTypeError\u001b[0m: must be str, not int"
     ]
    }
   ],
   "source": [
    "print(\"exam score:\" + 95 + \"%\")"
   ]
  },
  {
   "cell_type": "markdown",
   "metadata": {},
   "source": [
    "It is better to use string formatting for this:"
   ]
  },
  {
   "cell_type": "code",
   "execution_count": 11,
   "metadata": {},
   "outputs": [
    {
     "name": "stdout",
     "output_type": "stream",
     "text": [
      "exam score: 95%\n"
     ]
    }
   ],
   "source": [
    "print(\"exam score: {}%\".format(95))"
   ]
  }
 ],
 "metadata": {},
 "nbformat": 4,
 "nbformat_minor": 2
}
