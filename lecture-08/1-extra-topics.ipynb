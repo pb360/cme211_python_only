{
 "cells": [
  {
   "cell_type": "markdown",
   "metadata": {},
   "source": [
    "# CME 211: Extra Python Topics!\n",
    "\n",
    "These notes contain some examples and pointers to various Python topics that I\n",
    "find myself using quite a bit.\n",
    "\n",
    "## Iterators\n",
    "\n",
    "We've seen the `range` function in Python. In Python 2 `range` returned a list.\n",
    "In Python 3, `range` returns an \"iterator\", which avoids the memory allocation\n",
    "for a full list."
   ]
  },
  {
   "cell_type": "code",
   "execution_count": 1,
   "metadata": {
    "collapsed": false
   },
   "outputs": [
    {
     "name": "stdout",
     "output_type": "stream",
     "text": [
      "range(0, 10)\n",
      "<class 'range'>\n"
     ]
    }
   ],
   "source": [
    "r = range(10)\n",
    "print(r)\n",
    "print(type(r))"
   ]
  },
  {
   "cell_type": "markdown",
   "metadata": {},
   "source": [
    "We often write:"
   ]
  },
  {
   "cell_type": "code",
   "execution_count": 2,
   "metadata": {
    "collapsed": false
   },
   "outputs": [
    {
     "name": "stdout",
     "output_type": "stream",
     "text": [
      "0 1 2 3 4 5 6 7 8 9 \n"
     ]
    }
   ],
   "source": [
    "for i in range(10):\n",
    "    print(i, end=\" \")\n",
    "print()"
   ]
  },
  {
   "cell_type": "markdown",
   "metadata": {},
   "source": [
    "Python defines an interface\n",
    "for [iterators](https://docs.python.org/3/tutorial/classes.html#iterators). The\n",
    "key methods are `iter()` and `next()`:"
   ]
  },
  {
   "cell_type": "code",
   "execution_count": 3,
   "metadata": {
    "collapsed": false
   },
   "outputs": [
    {
     "name": "stdout",
     "output_type": "stream",
     "text": [
      "0\n",
      "1\n",
      "2\n"
     ]
    },
    {
     "ename": "StopIteration",
     "evalue": "",
     "output_type": "error",
     "traceback": [
      "\u001b[0;31m---------------------------------------------------------------------------\u001b[0m",
      "\u001b[0;31mStopIteration\u001b[0m                             Traceback (most recent call last)",
      "\u001b[0;32m<ipython-input-3-c702b53b87cd>\u001b[0m in \u001b[0;36m<module>\u001b[0;34m()\u001b[0m\n\u001b[1;32m      3\u001b[0m \u001b[0mprint\u001b[0m\u001b[0;34m(\u001b[0m\u001b[0mnext\u001b[0m\u001b[0;34m(\u001b[0m\u001b[0mr\u001b[0m\u001b[0;34m)\u001b[0m\u001b[0;34m)\u001b[0m\u001b[0;34m\u001b[0m\u001b[0m\n\u001b[1;32m      4\u001b[0m \u001b[0mprint\u001b[0m\u001b[0;34m(\u001b[0m\u001b[0mnext\u001b[0m\u001b[0;34m(\u001b[0m\u001b[0mr\u001b[0m\u001b[0;34m)\u001b[0m\u001b[0;34m)\u001b[0m\u001b[0;34m\u001b[0m\u001b[0m\n\u001b[0;32m----> 5\u001b[0;31m \u001b[0mprint\u001b[0m\u001b[0;34m(\u001b[0m\u001b[0mnext\u001b[0m\u001b[0;34m(\u001b[0m\u001b[0mr\u001b[0m\u001b[0;34m)\u001b[0m\u001b[0;34m)\u001b[0m\u001b[0;34m\u001b[0m\u001b[0m\n\u001b[0m",
      "\u001b[0;31mStopIteration\u001b[0m: "
     ]
    }
   ],
   "source": [
    "r = iter(range(3)) # iter returns an iterator\n",
    "print(next(r))\n",
    "print(next(r))\n",
    "print(next(r))\n",
    "print(next(r))"
   ]
  },
  {
   "cell_type": "markdown",
   "metadata": {},
   "source": [
    "Let's write our own simplified implementation of `range`:"
   ]
  },
  {
   "cell_type": "code",
   "execution_count": 4,
   "metadata": {
    "collapsed": true
   },
   "outputs": [],
   "source": [
    "class my_range:\n",
    "    def __init__(self,n):\n",
    "        self.i = 0\n",
    "        self.n = n\n",
    "    def __iter__(self):\n",
    "        return self\n",
    "    def __next__(self):\n",
    "        if self.i == self.n:\n",
    "            raise StopIteration\n",
    "        t = self.i\n",
    "        self.i += 1\n",
    "        return t"
   ]
  },
  {
   "cell_type": "code",
   "execution_count": 5,
   "metadata": {
    "collapsed": false
   },
   "outputs": [
    {
     "name": "stdout",
     "output_type": "stream",
     "text": [
      "0 1 2 3 \n"
     ]
    }
   ],
   "source": [
    "for i in my_range(4):\n",
    "    print(i,end=\" \")\n",
    "print()"
   ]
  },
  {
   "cell_type": "markdown",
   "metadata": {},
   "source": [
    "An object with a `next()` method that behaves in the above manner is called an\n",
    "**iterator** in Python.\n",
    "\n",
    "## Generators\n",
    "\n",
    "Defining a class for an iterator can be a bit verbose. Python has a keyword\n",
    "called `yield` which allows you to easily write a **generator**."
   ]
  },
  {
   "cell_type": "code",
   "execution_count": 6,
   "metadata": {
    "collapsed": true
   },
   "outputs": [],
   "source": [
    "def my_range2(n):\n",
    "    i = 0\n",
    "    while i < n:\n",
    "        yield i\n",
    "        i += 1"
   ]
  },
  {
   "cell_type": "code",
   "execution_count": 7,
   "metadata": {
    "collapsed": false
   },
   "outputs": [
    {
     "name": "stdout",
     "output_type": "stream",
     "text": [
      "0 1 2 3 \n"
     ]
    }
   ],
   "source": [
    "for i in my_range2(4):\n",
    "    print(i,end=\" \")\n",
    "print()"
   ]
  },
  {
   "cell_type": "markdown",
   "metadata": {},
   "source": [
    "This allows you to create an iterator by just writing a function!\n",
    "\n",
    "## Application: iterating over words in a file\n",
    "\n",
    "Let's say we wanted to count unique words in Shakespeare's entire body of work.\n",
    "\n",
    "First, let's download it:"
   ]
  },
  {
   "cell_type": "code",
   "execution_count": 8,
   "metadata": {
    "collapsed": false
   },
   "outputs": [
    {
     "name": "stdout",
     "output_type": "stream",
     "text": [
      "--2016-10-21 11:59:12--  https://ocw.mit.edu/ans7870/6/6.006/s08/lecturenotes/files/t8.shakespeare.txt\r\n",
      "Resolving ocw.mit.edu... 184.30.176.137, 2001:418:142c:18e::18a8, 2001:418:142c:194::18a8\r\n",
      "Connecting to ocw.mit.edu|184.30.176.137|:443... connected.\r\n",
      "HTTP request sent, awaiting response... 200 OK\r\n",
      "Length: 5458199 (5.2M) [text/plain]\r\n",
      "Saving to: 't8.shakespeare.txt.1'\r\n",
      "\r\n",
      "t8.shakespeare.txt. 100%[===================>]   5.21M   781KB/s    in 5.3s    \r\n",
      "\r\n",
      "2016-10-21 11:59:17 (1006 KB/s) - 't8.shakespeare.txt.1' saved [5458199/5458199]\r\n",
      "\r\n"
     ]
    }
   ],
   "source": [
    "!wget https://ocw.mit.edu/ans7870/6/6.006/s08/lecturenotes/files/t8.shakespeare.txt"
   ]
  },
  {
   "cell_type": "markdown",
   "metadata": {},
   "source": [
    "And inspect:"
   ]
  },
  {
   "cell_type": "code",
   "execution_count": 9,
   "metadata": {
    "collapsed": false
   },
   "outputs": [
    {
     "name": "stdout",
     "output_type": "stream",
     "text": [
      "This is the 100th Etext file presented by Project Gutenberg, and\r\n",
      "is presented in cooperation with World Library, Inc., from their\r\n",
      "Library of the Future and Shakespeare CDROMS.  Project Gutenberg\r\n",
      "often releases Etexts that are NOT placed in the Public Domain!!\r\n",
      "\r\n",
      "Shakespeare\r\n",
      "\r\n",
      "*This Etext has certain copyright implications you should read!*\r\n",
      "\r\n",
      "<<THIS ELECTRONIC VERSION OF THE COMPLETE WORKS OF WILLIAM\r\n"
     ]
    }
   ],
   "source": [
    "!head t8.shakespeare.txt"
   ]
  },
  {
   "cell_type": "markdown",
   "metadata": {},
   "source": [
    "To loop over words, we could write code like:"
   ]
  },
  {
   "cell_type": "code",
   "execution_count": 10,
   "metadata": {
    "collapsed": false
   },
   "outputs": [
    {
     "name": "stdout",
     "output_type": "stream",
     "text": [
      "This\n",
      "is\n",
      "the\n",
      "100th\n",
      "Etext\n",
      "file\n",
      "presented\n",
      "by\n",
      "Project\n",
      "Gutenberg,\n",
      "and\n",
      "is\n",
      "presented\n",
      "in\n",
      "cooperation\n",
      "with\n",
      "World\n",
      "Library,\n",
      "Inc.,\n",
      "from\n",
      "their\n",
      "Library\n",
      "of\n",
      "the\n",
      "Future\n",
      "and\n",
      "Shakespeare\n",
      "CDROMS.\n",
      "Project\n",
      "Gutenberg\n",
      "often\n",
      "releases\n",
      "Etexts\n",
      "that\n",
      "are\n",
      "NOT\n",
      "placed\n",
      "in\n",
      "the\n",
      "Public\n",
      "Domain!!\n",
      "Shakespeare\n",
      "*This\n",
      "Etext\n",
      "has\n",
      "certain\n",
      "copyright\n",
      "implications\n",
      "you\n",
      "should\n",
      "read!*\n",
      "<<THIS\n",
      "ELECTRONIC\n",
      "VERSION\n",
      "OF\n",
      "THE\n",
      "COMPLETE\n",
      "WORKS\n",
      "OF\n",
      "WILLIAM\n",
      "SHAKESPEARE\n",
      "IS\n",
      "COPYRIGHT\n",
      "1990-1993\n",
      "BY\n",
      "WORLD\n",
      "LIBRARY,\n",
      "INC.,\n",
      "AND\n",
      "IS\n"
     ]
    }
   ],
   "source": [
    "with open(\"t8.shakespeare.txt\",\"r\") as f:\n",
    "    for i, line in enumerate(f):\n",
    "        # only loop over 10 lines\n",
    "        if i > 10:\n",
    "            break\n",
    "        # loop over words\n",
    "        for word in line.split():\n",
    "            print(word)"
   ]
  },
  {
   "cell_type": "markdown",
   "metadata": {},
   "source": [
    "Now let's say we have to loop over words of two different files. The code could\n",
    "get quite messy.  Let's use a generator:"
   ]
  },
  {
   "cell_type": "code",
   "execution_count": 11,
   "metadata": {
    "collapsed": true
   },
   "outputs": [],
   "source": [
    "def words(filename):\n",
    "    with open(filename,\"r\") as f:\n",
    "        for line in f:\n",
    "            for word in line.split():\n",
    "                yield word"
   ]
  },
  {
   "cell_type": "markdown",
   "metadata": {},
   "source": [
    "Now, the code that operates on words can be:"
   ]
  },
  {
   "cell_type": "code",
   "execution_count": 12,
   "metadata": {
    "collapsed": false
   },
   "outputs": [
    {
     "name": "stdout",
     "output_type": "stream",
     "text": [
      "This\n",
      "is\n",
      "the\n",
      "100th\n",
      "Etext\n",
      "file\n",
      "presented\n",
      "by\n",
      "Project\n",
      "Gutenberg,\n",
      "and\n"
     ]
    }
   ],
   "source": [
    "for i, word in enumerate(words(\"t8.shakespeare.txt\")):\n",
    "    if i > 10:\n",
    "        break\n",
    "    print(word)"
   ]
  },
  {
   "cell_type": "markdown",
   "metadata": {},
   "source": [
    "### Counting words\n",
    "\n",
    "Let's use a dictionary to count words.  Our first try might look like this:"
   ]
  },
  {
   "cell_type": "code",
   "execution_count": 13,
   "metadata": {
    "collapsed": true
   },
   "outputs": [],
   "source": [
    "word_count = {}\n",
    "for word in words(\"t8.shakespeare.txt\"):\n",
    "    # let's clean the word up\n",
    "    w = word.strip().lower()\n",
    "    if w in word_count:\n",
    "        # w is already in dict, so increment\n",
    "        word_count[w] += 1\n",
    "    else:\n",
    "        # w is not in dict, do set to 1\n",
    "        word_count[w] = 1"
   ]
  },
  {
   "cell_type": "markdown",
   "metadata": {},
   "source": [
    "This is a common patters. The Python `collections` module has something called\n",
    "`defaultdict` that can help:"
   ]
  },
  {
   "cell_type": "code",
   "execution_count": 14,
   "metadata": {
    "collapsed": true
   },
   "outputs": [],
   "source": [
    "from collections import defaultdict\n",
    "word_count = defaultdict(int)\n",
    "for word in words(\"t8.shakespeare.txt\"):\n",
    "    w = word.strip().lower()\n",
    "    word_count[w] += 1"
   ]
  },
  {
   "cell_type": "markdown",
   "metadata": {},
   "source": [
    "Let's explore a little bit:"
   ]
  },
  {
   "cell_type": "code",
   "execution_count": 15,
   "metadata": {
    "collapsed": false
   },
   "outputs": [
    {
     "name": "stdout",
     "output_type": "stream",
     "text": [
      "1279\n",
      "119\n",
      "1698\n",
      "466\n"
     ]
    }
   ],
   "source": [
    "print(word_count['love'])\n",
    "print(word_count['hate'])\n",
    "print(word_count['king'])\n",
    "print(word_count['queen'])"
   ]
  },
  {
   "cell_type": "markdown",
   "metadata": {},
   "source": [
    "How might we get words with the highest count?"
   ]
  },
  {
   "cell_type": "code",
   "execution_count": 16,
   "metadata": {
    "collapsed": false
   },
   "outputs": [
    {
     "data": {
      "text/plain": [
       "[(27549, 'the'),\n",
       " (26037, 'and'),\n",
       " (19540, 'i'),\n",
       " (18700, 'to'),\n",
       " (18010, 'of'),\n",
       " (14383, 'a'),\n",
       " (12455, 'my'),\n",
       " (10671, 'in'),\n",
       " (10630, 'you'),\n",
       " (10487, 'that')]"
      ]
     },
     "execution_count": 16,
     "metadata": {},
     "output_type": "execute_result"
    }
   ],
   "source": [
    "# create a list of tuples with (count, word)\n",
    "word_count_list = [(c, w) for w, c in word_count.items()]\n",
    "# sort will first sort by first element in the tuples\n",
    "word_count_list.sort(reverse=True)\n",
    "word_count_list[0:10]"
   ]
  },
  {
   "cell_type": "markdown",
   "metadata": {},
   "source": [
    "Sweet!\n",
    "\n",
    "## Generator expressions\n",
    "\n",
    "We've seen list comprehensions:"
   ]
  },
  {
   "cell_type": "code",
   "execution_count": 17,
   "metadata": {
    "collapsed": true
   },
   "outputs": [],
   "source": [
    "xs = list(range(10))\n",
    "ys = [x*x for x in xs]"
   ]
  },
  {
   "cell_type": "markdown",
   "metadata": {},
   "source": [
    "A list comprehension creates a entirely new list in memory and does all of the\n",
    "computation before the result (elements of `ys`) is used.\n",
    "\n",
    "A generator expression creates an iterator that behaves like the list:"
   ]
  },
  {
   "cell_type": "markdown",
   "metadata": {},
   "source": [
    "```\n",
    "yg = (x*x for x in xs)\n",
    "type(yg)\n",
    "next(yg)\n",
    "next(yg)\n",
    "```\n"
   ]
  },
  {
   "cell_type": "markdown",
   "metadata": {},
   "source": [
    "A generator expression does not create a list in memory. The computation is only\n",
    "performed when `next` is called.\n",
    "\n",
    "You can pass a generator expression any where an iterator is expected:"
   ]
  },
  {
   "cell_type": "code",
   "execution_count": 18,
   "metadata": {
    "collapsed": true
   },
   "outputs": [],
   "source": [
    "xs = [1, 0, 0, 1, 0, 1]"
   ]
  },
  {
   "cell_type": "code",
   "execution_count": 19,
   "metadata": {
    "collapsed": false
   },
   "outputs": [
    {
     "data": {
      "text/plain": [
       "True"
      ]
     },
     "execution_count": 19,
     "metadata": {},
     "output_type": "execute_result"
    }
   ],
   "source": [
    "# any returns True if any items of a collection (or iterator) are True\n",
    "any(x == 1 for x in xs)"
   ]
  },
  {
   "cell_type": "code",
   "execution_count": 20,
   "metadata": {
    "collapsed": false
   },
   "outputs": [
    {
     "data": {
      "text/plain": [
       "False"
      ]
     },
     "execution_count": 20,
     "metadata": {},
     "output_type": "execute_result"
    }
   ],
   "source": [
    "# all returns True only if all items in a collection (or iterator) are True\n",
    "all(x == 1 for x in xs)"
   ]
  },
  {
   "cell_type": "markdown",
   "metadata": {},
   "source": [
    "You can also use a generator expression in a `for` loop:"
   ]
  },
  {
   "cell_type": "code",
   "execution_count": 21,
   "metadata": {
    "collapsed": true
   },
   "outputs": [],
   "source": [
    "word_count = defaultdict(int)\n",
    "for word in (w.strip().lower() for w in words(\"t8.shakespeare.txt\")):\n",
    "    word_count[w] += 1"
   ]
  },
  {
   "cell_type": "markdown",
   "metadata": {},
   "source": [
    "## Itertools\n",
    "\n",
    "Have a look at\n",
    "the [`itertools`](https://docs.python.org/3/library/itertools.html) module. It\n",
    "contains functions to help you write loops.\n",
    "\n",
    "First, let's see `zip`, which is actually a\n",
    "Python [built-in function](https://docs.python.org/3/library/functions.html):"
   ]
  },
  {
   "cell_type": "code",
   "execution_count": 22,
   "metadata": {
    "collapsed": false
   },
   "outputs": [
    {
     "name": "stdout",
     "output_type": "stream",
     "text": [
      "a 1\n",
      "b 2\n",
      "c 3\n",
      "d 4\n",
      "e 5\n"
     ]
    }
   ],
   "source": [
    "letters = 'abcde'\n",
    "numbers = [1,2,3,4,5]\n",
    "\n",
    "# let's iterate over letters and numbers at same time\n",
    "for l, n in zip(letters, numbers):\n",
    "    print(\"{} {}\".format(l, n))"
   ]
  },
  {
   "cell_type": "markdown",
   "metadata": {},
   "source": [
    "Exercise: what does `zip` return?  How can I get a list from it?\n",
    "\n",
    "Now let's use the `product` function to iterate over all pairs:"
   ]
  },
  {
   "cell_type": "code",
   "execution_count": 23,
   "metadata": {
    "collapsed": false
   },
   "outputs": [
    {
     "name": "stdout",
     "output_type": "stream",
     "text": [
      "a 1\n",
      "a 2\n",
      "a 3\n",
      "a 4\n",
      "a 5\n",
      "b 1\n",
      "b 2\n",
      "b 3\n",
      "b 4\n",
      "b 5\n",
      "c 1\n",
      "c 2\n",
      "c 3\n",
      "c 4\n",
      "c 5\n",
      "d 1\n",
      "d 2\n",
      "d 3\n",
      "d 4\n",
      "d 5\n",
      "e 1\n",
      "e 2\n",
      "e 3\n",
      "e 4\n",
      "e 5\n"
     ]
    }
   ],
   "source": [
    "from itertools import product\n",
    "for l, n in product(letters, numbers):\n",
    "    print(\"{} {}\".format(l, n))"
   ]
  }
 ],
 "metadata": {
  "kernelspec": {
   "display_name": "Python 3",
   "language": "python",
   "name": "python3"
  },
  "language_info": {
   "codemirror_mode": {
    "name": "ipython",
    "version": 3
   },
   "file_extension": ".py",
   "mimetype": "text/x-python",
   "name": "python",
   "nbconvert_exporter": "python",
   "pygments_lexer": "ipython3",
   "version": "3.5.2"
  }
 },
 "nbformat": 4,
 "nbformat_minor": 1
}
