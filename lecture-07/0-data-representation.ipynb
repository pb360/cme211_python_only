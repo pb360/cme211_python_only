{
 "cells": [
  {
   "cell_type": "markdown",
   "metadata": {},
   "source": [
    "# CME 211 Lecture 10 - Representation of data\n",
    "\n",
    "## Motivation\n",
    "\n",
    "### Runtime performance\n",
    "\n",
    "Let's compute $2^i$ for $i \\in [0,n)$.\n",
    "\n",
    "Using lists:"
   ]
  },
  {
   "cell_type": "code",
   "execution_count": 1,
   "metadata": {},
   "outputs": [
    {
     "name": "stdout",
     "output_type": "stream",
     "text": [
      "The slowest run took 4.12 times longer than the fastest. This could mean that an intermediate result is being cached.\n",
      "1000 loops, best of 3: 211 µs per loop\n"
     ]
    }
   ],
   "source": [
    "L = range(1000)\n",
    "%timeit [i**2 for i in L]"
   ]
  },
  {
   "cell_type": "markdown",
   "metadata": {},
   "source": [
    "Using Numpy:"
   ]
  },
  {
   "cell_type": "code",
   "execution_count": 2,
   "metadata": {},
   "outputs": [
    {
     "name": "stdout",
     "output_type": "stream",
     "text": [
      "The slowest run took 12.62 times longer than the fastest. This could mean that an intermediate result is being cached.\n",
      "1000000 loops, best of 3: 1.31 µs per loop\n"
     ]
    }
   ],
   "source": [
    "import numpy as np\n",
    "\n",
    "a = np.arange(1000)\n",
    "%timeit a**2"
   ]
  },
  {
   "cell_type": "markdown",
   "metadata": {},
   "source": [
    "### Programmer productivity\n",
    "\n",
    "Let's add some 2D arrays.\n",
    "\n",
    "In Python with lists of lists:"
   ]
  },
  {
   "cell_type": "code",
   "execution_count": 3,
   "metadata": {},
   "outputs": [
    {
     "data": {
      "text/plain": [
       "[[2.0, 2.0], [2.0, 2.0], [2.0, 2.0]]"
      ]
     },
     "execution_count": 3,
     "metadata": {},
     "output_type": "execute_result"
    }
   ],
   "source": [
    "nrows = 3\n",
    "ncols = 2\n",
    "\n",
    "def my_ones(nrows, ncols):\n",
    "    A = []\n",
    "    for r in range(nrows):\n",
    "        A.append([])\n",
    "        for c in range(ncols):\n",
    "            A[r].append(1.0)\n",
    "    return A\n",
    "\n",
    "def matrix_add(A,B):\n",
    "    C = []\n",
    "    for r in range(len(A)):\n",
    "        C.append([])\n",
    "        for c in range(len(A[r])):\n",
    "            C[r].append(A[r][c] + B[r][c])\n",
    "    return C\n",
    "\n",
    "A = my_ones(nrows,ncols)\n",
    "B = my_ones(nrows,ncols)\n",
    "C = matrix_add(A,B)\n",
    "C"
   ]
  },
  {
   "cell_type": "markdown",
   "metadata": {},
   "source": [
    "With Numpy:"
   ]
  },
  {
   "cell_type": "code",
   "execution_count": 4,
   "metadata": {},
   "outputs": [
    {
     "data": {
      "text/plain": [
       "array([[ 2.,  2.],\n",
       "       [ 2.,  2.],\n",
       "       [ 2.,  2.]])"
      ]
     },
     "execution_count": 4,
     "metadata": {},
     "output_type": "execute_result"
    }
   ],
   "source": [
    "nrows = 3\n",
    "ncols = 2\n",
    "\n",
    "A = np.ones((nrows,ncols))\n",
    "B = np.ones((nrows,ncols))\n",
    "\n",
    "C = A + B\n",
    "C"
   ]
  },
  {
   "cell_type": "markdown",
   "metadata": {},
   "source": [
    "Let's check performance again:"
   ]
  },
  {
   "cell_type": "code",
   "execution_count": 5,
   "metadata": {},
   "outputs": [
    {
     "name": "stdout",
     "output_type": "stream",
     "text": [
      "10 loops, best of 3: 41 ms per loop\n"
     ]
    }
   ],
   "source": [
    "%timeit A = my_ones(1000,500)"
   ]
  },
  {
   "cell_type": "code",
   "execution_count": 6,
   "metadata": {},
   "outputs": [
    {
     "name": "stdout",
     "output_type": "stream",
     "text": [
      "The slowest run took 4.09 times longer than the fastest. This could mean that an intermediate result is being cached.\n",
      "10000 loops, best of 3: 160 µs per loop\n"
     ]
    }
   ],
   "source": [
    "%timeit A = np.ones((1000,500))"
   ]
  },
  {
   "cell_type": "code",
   "execution_count": 7,
   "metadata": {},
   "outputs": [
    {
     "name": "stdout",
     "output_type": "stream",
     "text": [
      "10 loops, best of 3: 84.8 ms per loop\n"
     ]
    }
   ],
   "source": [
    "nrows = 1000\n",
    "ncols = 500\n",
    "\n",
    "A = my_ones(nrows,ncols)\n",
    "B = my_ones(nrows,ncols)\n",
    "\n",
    "%timeit C = matrix_add(A,B)"
   ]
  },
  {
   "cell_type": "code",
   "execution_count": 8,
   "metadata": {},
   "outputs": [
    {
     "name": "stdout",
     "output_type": "stream",
     "text": [
      "1000 loops, best of 3: 499 µs per loop\n"
     ]
    }
   ],
   "source": [
    "nrows = 1000\n",
    "ncols = 500\n",
    "\n",
    "A = np.ones((nrows,ncols))\n",
    "B = np.ones((nrows,ncols))\n",
    "\n",
    "%timeit C = A + B"
   ]
  },
  {
   "cell_type": "markdown",
   "metadata": {},
   "source": [
    "### Correctness\n",
    "\n",
    "> **Some disasters attributable to bad numerical computing**\n",
    "> \n",
    "> By: Douglas N. Arnold\n",
    "> See: <http://www.math.umn.edu/~arnold/disasters/disasters.html>\n",
    "> \n",
    "> Have you been paying attention in your numerical analysis or scientific\n",
    "> computation courses? If not, it could be a costly mistake. Here are some real\n",
    "> life examples of what can happen when numerical algorithms are not correctly\n",
    "> applied.\n",
    "> \n",
    "> The Patriot Missile failure, in Dharan, Saudi Arabia, on February 25, 1991 which\n",
    "> resulted in 28 deaths, is ultimately attributable to poor handling of rounding\n",
    "> errors.\n",
    "> \n",
    "> The explosion of the Ariane 5 rocket just after lift-off on its maiden voyage\n",
    "> off French Guiana, on June 4, 1996, was ultimately the consequence of a simple\n",
    "> overflow.\n",
    "> \n",
    "> The sinking of the Sleipner A offshore platform in Gandsfjorden near Stavanger,\n",
    "> Norway, on August 23, 1991, resulted in a loss of nearly one billion dollars. It\n",
    "> was found to be the result of inaccurate finite element analysis.\n",
    "\n",
    "See also: <https://people.eecs.berkeley.edu/~wkahan/>\n",
    "\n",
    "\n",
    "## Integers\n",
    "\n",
    "* Computers represent and store everything in *binary*\n",
    "\n",
    "* Binary, a base 2 number system, consists only of 0s and 1s called binary\n",
    "  digits (bits)\n",
    "\n",
    "* There are 8 bits in a byte\n",
    "\n",
    "### Simplified model of computer\n",
    "\n",
    "![fig](fig/model-computer.png)\n",
    "\n",
    "### Converting between bases\n",
    "\n",
    "* One can easily convert numbers between different bases such as binary (base 2)\n",
    "  and decimal (base 10)"
   ]
  },
  {
   "cell_type": "markdown",
   "metadata": {},
   "source": [
    "```\n",
    "| decimal | binary |\n",
    "|---------|--------|\n",
    "|       0 |      0 |\n",
    "|       1 |      1 |\n",
    "|       2 |     10 |\n",
    "|       3 |     11 |\n",
    "|       4 |    100 |\n",
    "|       5 |    101 |\n",
    "|       6 |    110 |\n",
    "|       7 |    111 |\n",
    "```\n"
   ]
  },
  {
   "cell_type": "markdown",
   "metadata": {},
   "source": [
    "### Common prefixes\n",
    "\n",
    "* kilo, mega, giga, tera, peta, exa prefixes:"
   ]
  },
  {
   "cell_type": "markdown",
   "metadata": {},
   "source": [
    "```\n",
    "| kilobyte (kB) | 10^3 (or 2^10)  |\n",
    "| megabyte (MB) | 10^6 (or 2^20)  |\n",
    "| gigabyte (GB) | 10^9 (or 2^30)  |\n",
    "| terabyte (TB) | 10^12 (or 2^40) |\n",
    "| petabyte (PB) | 10^15 (or 2^50) |\n",
    "| exabyte (EB)  | 10^18 (or 2^60) |\n",
    "```\n"
   ]
  },
  {
   "cell_type": "markdown",
   "metadata": {},
   "source": [
    "* Networking and storage typically use base 10 while memory is specified in\n",
    "terms of base 2\n",
    "\n",
    "* Technically prefixes and symbols are different, e.g. Kilobyte or kibibyte with\n",
    "symbols KB / KiB / Kbytes for base 2\n",
    "\n",
    "### Computer storage of a number\n",
    "\n",
    "* At the hardware level computers **don't** do variable length representations of\n",
    "numbers\n",
    "\n",
    "* We might write:\n",
    "\n",
    "  * 4 as `100`, using 3 bits\n",
    "\n",
    "  * 73 as `1001001`, using 7 bits\n",
    "\n",
    "### Fixed storage widths\n",
    "\n",
    "![fig/bits.png](fig/bits.png)\n",
    "\n",
    "### Integer representation\n",
    "\n",
    "* At the hardware level computers typically handle integers using 8, 16, 32, or\n",
    "64 bits\n",
    "\n",
    "![fig/dec-bin-table.png](fig/dec-bin-table.png)\n",
    "\n",
    "### Integer range\n",
    "\n",
    "* For `n` bits, there are only `2^n` unique combinations of 0s and 1s\n",
    "\n",
    "* This limits the range of what can be represented with a fixed number of bits"
   ]
  },
  {
   "cell_type": "markdown",
   "metadata": {},
   "source": [
    "```\n",
    "2^8  = 256\n",
    "2^16 = 65536\n",
    "2^32 = 4294967296\n",
    "2^64 = 18446744073709551616\n",
    "```\n"
   ]
  },
  {
   "cell_type": "markdown",
   "metadata": {},
   "source": [
    "### Sign bit\n",
    "\n",
    "* Use one bit for sign and remaining bits for magnitude\n",
    "\n",
    "![fig/sign-bit.png](fig/sign-bit.png)\n",
    "\n",
    "* Reduces the range of the magnitude from `2^n` to `2^(n-1)`\n",
    "\n",
    "### Offset\n",
    "\n",
    "* Apply an offset or bias to reinterpret the conversion between binary and\n",
    "decimal\n",
    "\n",
    "![fig/sign-offset.png](fig/sign-offset.png)\n",
    "\n",
    "* Again, effectively reduces the range of the magnitude\n",
    "\n",
    "### Unsigned integers\n",
    "\n",
    "* Many programming languages support unsigned integers\n",
    "\n",
    "* Python itself does not have unsigned integers, but Numerical Python (`numpy`)\n",
    "  does\n",
    "\n",
    "* Can use this to your advantage to expand the effective range available if\n",
    "  negative numbers don't need to be stored\n",
    "\n",
    "* But be careful...\n",
    "\n",
    "### Overflow and underflow\n",
    "\n",
    "* Attempting to assign a value greater than what can be represented by the data\n",
    "  type will result in overflow\n",
    "\n",
    "* Attempting to assigning a value less than what can be represented by the data\n",
    "  type will result in underflow\n",
    "\n",
    "* Overflow or underflow tend to cause wraparound, e.g. if adding together two\n",
    "  signed numbers causes overflow the result is likely to be a negative number\n",
    "\n",
    "### Range of integer types\n",
    "\n",
    "![fig/int-range.png](fig/int-range.png)\n",
    "\n",
    "### Integers in Python\n",
    "\n",
    "* In Python 3, values of type `int` may have unlimited range."
   ]
  },
  {
   "cell_type": "code",
   "execution_count": 9,
   "metadata": {},
   "outputs": [
    {
     "name": "stdout",
     "output_type": "stream",
     "text": [
      "<class 'int'>\n",
      "3984137914278306537107946300187788156651883090392267368064424070371960737746809881430938446547647791637956210590388569173298650466385810245792657795213961405107689148645376\n"
     ]
    }
   ],
   "source": [
    "i = 52**100\n",
    "print(type(i))\n",
    "print(i)\n",
    "# this is beyond the 64-bit integer range"
   ]
  },
  {
   "cell_type": "markdown",
   "metadata": {},
   "source": [
    "* Python 2 had both fixed size integers (with type `int`) and variable width\n",
    "  integers (with type `long`).\n",
    "\n",
    "* Numpy supports fixed-width integers for performance and storage.\n",
    "\n",
    "## Strings\n",
    "\n",
    "### ASCII\n",
    "\n",
    "* American Standard Code for Information Interchange (ASCII) is typically used\n",
    "  to encode text information\n",
    "\n",
    "* Characters, numbers, symbols, etc. are encoded using 7 bits (although on\n",
    "  modern computers they would typically use 8 bits)\n",
    "\n",
    "  * `A` maps to `1000001` in binary or 65 in decimal\n",
    "  * `B` maps to `1000010` in binary or 66 in decimal\n",
    "\n",
    "* Default Python 2 string is ASCII. Possible to get Unicode strings with\n",
    "  `s = u'I am a unicode string!'`.\n",
    "\n",
    "### UTF-8\n",
    "\n",
    "* Default string encoding in Python 3\n",
    "  is [UTF-8](https://en.wikipedia.org/wiki/UTF-8).\n",
    "  \n",
    "* The change from ACSII to Unicode between Python 2 and 3 caused major headaches\n",
    "  for Python community.\n",
    "\n",
    "* UTF-8 is a variable width format.  Each character of text may take from 1 to\n",
    "  4 bytes.\n",
    "\n",
    "* UTF-8 is backwards compatible with ASCII, because 1-byte codes correspond to\n",
    "  ASCII characters.\n",
    "  \n",
    "* UTF-8 encodes a total of 1,112,064 characters -- enough to represent the\n",
    "  majority of human character systems.\n",
    "\n",
    "* Because UTF-8 is variable width, it is not possible to jump to a character at\n",
    "  a given index. All $n-1$ characters must be scanned to find the $n$-th\n",
    "  character in a string.\n",
    "\n",
    "* Great chapter\n",
    "  on [Python 3 Strings](http://www.diveintopython3.net/strings.html) in *Dive\n",
    "  Into Python 3* by Mark Pilgrim.\n",
    "\n",
    "## Floating point numbers\n",
    "\n",
    "* How do I represent a floating point value using bits?\n",
    "\n",
    "![fig/float.png](fig/float.png)\n",
    "\n",
    "### Floating point standard\n",
    "\n",
    "* IEEE (Institute of Electrical and Electronics Engineers) 754 is the technical\n",
    "  standard for floating point used by all modern processors\n",
    "\n",
    "![fig](fig/float-table.png)\n",
    "\n",
    "* Standard also specifies things like rounding modes, handling overflow, divide\n",
    "  by zero, etc.\n",
    "\n",
    "### Floating point and you\n",
    "\n",
    "* Floating point also has similar potential for overflow and underflow.\n",
    "\n",
    "* In addition, the limited number of bits for the mantissa means it often needs\n",
    "  to be rounded.\n",
    "\n",
    "* Will spend more time on floating point arithmetic in CME 212.\n",
    "\n",
    "* What Every Computer Scientist Should Know About Floating-Point Arithmetic by\n",
    "  Goldberg ([link][fp-paper]).\n",
    "\n",
    "* Floating point numbers in Python are double precision (64-bit).\n",
    "\n",
    "* Numpy has suppose for 16-bit and 32-bit floating point formats.\n",
    "\n",
    "[fp-paper]: https://ece.uwaterloo.ca/~dwharder/NumericalAnalysis/02Numerics/Double/paper.pdf"
   ]
  }
 ],
 "metadata": {},
 "nbformat": 4,
 "nbformat_minor": 1
}
