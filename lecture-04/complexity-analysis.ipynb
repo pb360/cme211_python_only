{
 "cells": [
  {
   "cell_type": "markdown",
   "metadata": {},
   "source": [
    "# CME 211 Lecture 4: Functions and Complexity Analysis\n",
    "\n",
    "We study the complexity of algorithms to understand the resources required to\n",
    "run a program.\n",
    "\n",
    "## Analysis of algorithms\n",
    "\n",
    "Key questions when considering the performance of algorithms:\n",
    "\n",
    "* **Time/computational complexity**: How does the number of computational\n",
    "  operations in an algorithm scale with the size of the input?\n",
    "\n",
    "* **Space complexity**: How do the storage (memory) requirements of the\n",
    "  algorithm scale?\n",
    "\n",
    "* **Communication complexity**: Many modern applications in high performance\n",
    "  computing are limited by memory communication bandwidth and/or latency.  This\n",
    "  can be a challenging area of study, because there are many types of\n",
    "  communication to consider (e.g. main memory to CPU, CPU to GPU, GPU memory to\n",
    "  GPU, or computer to computer over a network).  Also modern computing hardware\n",
    "  has many levels of caching (e.g. L1, L2, and L3), making it difficult to\n",
    "  to predict the performance of a single memory transaction.\n",
    "\n",
    "These notes focus on **time complexity**.\n",
    "\n",
    "## Empirical approach\n",
    "\n",
    "Let's measure the running time of Pythons `sort` method on a random list of\n",
    "integers.  See `listsort.py`.  Here is the code modified to suit the\n",
    "notebook:"
   ]
  },
  {
   "cell_type": "code",
   "execution_count": 1,
   "metadata": {},
   "outputs": [],
   "source": [
    "import random\n",
    "import sys\n",
    "import time"
   ]
  },
  {
   "cell_type": "code",
   "execution_count": 2,
   "metadata": {},
   "outputs": [
    {
     "name": "stdout",
     "output_type": "stream",
     "text": [
      "Sorting 1000 values took 0.000294 seconds.\n"
     ]
    }
   ],
   "source": [
    "n = 1000\n",
    "\n",
    "# Setup a list of random values and record the time required to sort it\n",
    "v = random.sample(range(n), n)\n",
    "t0 = time.time()\n",
    "v.sort()\n",
    "t1 = time.time()\n",
    "\n",
    "print(\"Sorting {} values took {:.3} seconds.\".format(n, t1-t0))"
   ]
  },
  {
   "cell_type": "markdown",
   "metadata": {},
   "source": [
    "### Collect data\n",
    "\n",
    "Let's run the script with increasing list length:"
   ]
  },
  {
   "cell_type": "markdown",
   "metadata": {},
   "source": [
    "```\n",
    "$ python3 listsort.py\n",
    "Usage:\n",
    "  listsort.py nvalues\n",
    "$ python3 listsort.py 1000000\n",
    "Sorting 1000000 values took 0.87 seconds.\n",
    "$ python3 listsort.py 2000000\n",
    "Sorting 2000000 values took 2.91 seconds.\n",
    "$ python3 listsort.py 4000000\n",
    "Sorting 4000000 values took 5.01 seconds.\n",
    "$ python3 listsort.py 8000000\n",
    "Sorting 8000000 values took 10.8 seconds.\n",
    "$ python3 listsort.py 16000000\n",
    "Sorting 16000000 values took 23.6 seconds.\n",
    "```\n"
   ]
  },
  {
   "cell_type": "markdown",
   "metadata": {},
   "source": [
    "### IPython `%timeit` magic command\n",
    "\n",
    "IPython has a [magic][ipy-timeit] command called [`%timeit`][ipy-timeit] to help\n",
    "benchmark Python statements."
   ]
  },
  {
   "cell_type": "code",
   "execution_count": 3,
   "metadata": {},
   "outputs": [
    {
     "name": "stdout",
     "output_type": "stream",
     "text": [
      "100 loops, best of 3: 3.88 ms per loop\n"
     ]
    }
   ],
   "source": [
    "# use %timeit to benchmark sorted function\n",
    "# Setup a list of random values and record the time required to sort it\n",
    "n = 10000\n",
    "v = random.sample(range(n), n)\n",
    "%timeit sorted_v = sorted(v)"
   ]
  },
  {
   "cell_type": "markdown",
   "metadata": {},
   "source": [
    "[ipy-magic]: http://ipython.readthedocs.io/en/stable/interactive/magics.html\n",
    "[ipy-timeit]: http://ipython.readthedocs.io/en/stable/interactive/magics.html#magic-timeit\n",
    "\n",
    "### Problems with empirical measurement\n",
    "\n",
    "Empirical performance testing is an important endeavor.  It is an aspect of\n",
    "\"profiling\" your code to see what parts take longer.  Empirical performance\n",
    "testing has some drawbacks, namely:\n",
    "\n",
    "* Results are computer dependent\n",
    "\n",
    "* You need to have the code before you can do the analysis.  You may spend time\n",
    "  implementing something that turns out to be slow\n",
    "\n",
    "## Time complexity\n",
    "\n",
    "* *Time complexity* is an estimate of the number of operations as a function of\n",
    "  the input size (usually denoted as $n$)\n",
    "\n",
    "* Input size examples:\n",
    "\n",
    "  * length of list\n",
    "\n",
    "  * for an $m$ by $m$ matrix, we say the input size is $m$ even though the\n",
    "      matrix as $m^2$ entries\n",
    "\n",
    "  * number of non-zero entries in a sparse matrix\n",
    "\n",
    "  * number of nodes in a graph or network structure (sometimes the number of\n",
    "    edges is also important)\n",
    "\n",
    "* Typically characterized in terms of Big O notation, e.g. an algorithm is\n",
    "  $O(n \\log n)$ or $O(n^2)$."
   ]
  },
  {
   "cell_type": "markdown",
   "metadata": {},
   "source": [
    "```\n",
    "| order notation | in English          |\n",
    "|----------------+---------------------|\n",
    "| O(1)           | Constant time       |\n",
    "| O(log n)       | Logarithmic time    |\n",
    "| O(n)           | Linear time         |\n",
    "| O(n log n)     | Linearithmitic time |\n",
    "| O(n^2)         | Quadratic time      |\n",
    "| O(n^3)         | Cubic time          |\n",
    "| O(2^n)         | Exponential time    |\n",
    "```\n"
   ]
  },
  {
   "cell_type": "markdown",
   "metadata": {},
   "source": [
    "### Visualization\n",
    "\n",
    "![order chart](fig/order-chart.png)\n",
    "\n",
    "### Big $O$ notation\n",
    "\n",
    "* Big $O$ notation represents growth rate of a function in the limit of argument\n",
    "  going to infinity\n",
    "\n",
    "* Excludes coefficients and lower order terms\n",
    "\n",
    "$$\n",
    "2 n^2 + 64 n \\to O(n^2)\n",
    "$$\n",
    "\n",
    "* Often some simplifying assumptions will need to be made about the nature of\n",
    "  the input data in order to carry out analysis\n",
    "\n",
    "## Complexity analysis examples\n",
    "\n",
    "### Basic linear algebra\n",
    "\n",
    "* Adding two vectors? $O(n)$"
   ]
  },
  {
   "cell_type": "code",
   "execution_count": 4,
   "metadata": {},
   "outputs": [],
   "source": [
    "# define data\n",
    "a = [1.0, 2.0, 3.0, 4.0]\n",
    "b = [1.0, 1.0, 1.0, 1.0]\n",
    "c = [0.0, 0.0, 0.0, 0.0]\n",
    "\n",
    "# c = a + b\n",
    "# assume all the same length\n",
    "n = len(a)\n",
    "for i in range(n):\n",
    "    c[i] = a[i] + b[i]"
   ]
  },
  {
   "cell_type": "markdown",
   "metadata": {},
   "source": [
    "* Multiplying two matrices? Assuming the matrices are both $n \\times n$, it's\n",
    "  $O(n^3)$"
   ]
  },
  {
   "cell_type": "markdown",
   "metadata": {},
   "source": [
    "```\n",
    "# assume all matrices are n x n\n",
    "# indexing notation below comes from numpy\n",
    "# this will not work with standard python\n",
    "# C = A*B\n",
    "for i in range(n):\n",
    "    for j in range(n):\n",
    "        C[i,j] = 0\n",
    "        for k in range(n):\n",
    "            C[i,j] += A[i,k]*B[k,j]\n",
    "```\n"
   ]
  },
  {
   "cell_type": "markdown",
   "metadata": {},
   "source": [
    "![matmul](fig/matrix.png)\n",
    "\n",
    "Computing one value in the output matrix requires $O(n)$ operations, and there\n",
    "are $n^2$ values in the output matrix.\n",
    "\n",
    "### Linear search\n",
    "\n",
    "*Linear search* is searching through a sequential data container for a specified\n",
    "item.  An example of this is finding the start index of a given sub-string in a\n",
    "longer string.\n",
    "\n",
    "Exercise: Find the number $x$ in your data:"
   ]
  },
  {
   "cell_type": "markdown",
   "metadata": {},
   "source": [
    "```\n",
    "|---+----+-----+----+-----+----+-----+-----|\n",
    "| 4 | 17 | 100 | 73 | 120 | 42 | 999 | -17 |\n",
    "|---+----+-----+----+-----+----+-----+-----|\n",
    "```\n"
   ]
  },
  {
   "cell_type": "markdown",
   "metadata": {},
   "source": [
    "Is it $O(1)$, or $O(n)$, or something else?\n",
    "\n",
    "#### Linear search: best and worst case"
   ]
  },
  {
   "cell_type": "markdown",
   "metadata": {},
   "source": [
    "```\n",
    "|---+----+-----+----+-----+----+-----+-----|\n",
    "| 4 | 17 | 100 | 73 | 120 | 42 | 999 | -17 |\n",
    "|---+----+-----+----+-----+----+-----+-----|\n",
    "\n",
    "  ^                                     ^\n",
    "  |                                     |\n",
    " O(1)                                  O(n)\n",
    "```\n"
   ]
  },
  {
   "cell_type": "markdown",
   "metadata": {},
   "source": [
    "* Best case: `x = 4` and we find the index with only one comparison\n",
    "\n",
    "* Worst case: `x = -17` and we scan the entire list to find the last element\n",
    "\n",
    "#### Linear search: average case"
   ]
  },
  {
   "cell_type": "markdown",
   "metadata": {},
   "source": [
    "```\n",
    "|---+----+-----+----+-----+----+-----+-----|\n",
    "| 4 | 17 | 100 | 73 | 120 | 42 | 999 | -17 |\n",
    "|---+----+-----+----+-----+----+-----+-----|\n",
    "\n",
    "                    ^\n",
    "                    |\n",
    "                  O(n/2)\n",
    "```\n"
   ]
  },
  {
   "cell_type": "markdown",
   "metadata": {},
   "source": [
    "Given random data and a random input (in the range of the data) we can **on\n",
    "average** expect to search through half of the list.  This would be $O(n/2)$.\n",
    "Remember that Big $O$ notation is not concerned with constant terms, so this\n",
    "becomes $O(n)$.\n",
    "\n",
    "### Binary search\n",
    "\n",
    "If we know that the list is sorted, we can apply binary search.  Let's look at\n",
    "an example:\n",
    "\n",
    "**Goal**: Find the index of `17` in the following list:"
   ]
  },
  {
   "cell_type": "markdown",
   "metadata": {},
   "source": [
    "```\n",
    "|-----+---+----+----+----+-----+-----+-----|\n",
    "| -17 | 4 | 17 | 42 | 73 | 100 | 120 | 999 |\n",
    "|-----+---+----+----+----+-----+-----+-----|\n",
    "```\n"
   ]
  },
  {
   "cell_type": "markdown",
   "metadata": {},
   "source": [
    "Start by looking half way through the list:"
   ]
  },
  {
   "cell_type": "markdown",
   "metadata": {},
   "source": [
    "```\n",
    "|-----+---+----+----+----+-----+-----+-----|\n",
    "| -17 | 4 | 17 | 42 | 73 | 100 | 120 | 999 |\n",
    "|-----+---+----+----+----+-----+-----+-----|\n",
    "                  ^\n",
    "                  U\n",
    "```\n"
   ]
  },
  {
   "cell_type": "markdown",
   "metadata": {},
   "source": [
    "`42` is not `17`, but `42` is greater than `17` so continue searching the left\n",
    "(lower) part of the list.  The index associated with `42` becomes an upper bound\n",
    "on the search."
   ]
  },
  {
   "cell_type": "markdown",
   "metadata": {},
   "source": [
    "```\n",
    "|-----+---+----+----+----+-----+-----+-----|\n",
    "| -17 | 4 | 17 | 42 | 73 | 100 | 120 | 999 |\n",
    "|-----+---+----+----+----+-----+-----+-----|\n",
    "        ^         ^\n",
    "        L         U\n",
    "```\n"
   ]
  },
  {
   "cell_type": "markdown",
   "metadata": {},
   "source": [
    "`4` is not `17`, but `4` is less than `17` so continue searching to the right\n",
    "part of the list up to the upper bound.  Turns out in this example that we only\n",
    "have one entry to inspect:"
   ]
  },
  {
   "cell_type": "markdown",
   "metadata": {},
   "source": [
    "```\n",
    "|-----+---+----+----+----+-----+-----+-----|\n",
    "| -17 | 4 | 17 | 42 | 73 | 100 | 120 | 999 |\n",
    "|-----+---+----+----+----+-----+-----+-----|\n",
    "        ^   ^     ^\n",
    "        L   *     U\n",
    "```\n"
   ]
  },
  {
   "cell_type": "markdown",
   "metadata": {},
   "source": [
    "We have found `17`.  It is time to celebrate and return the index of `2`.\n",
    "(Remember Python uses 0-based indexing.)\n",
    "\n",
    "#### Binary search: analysis\n",
    "\n",
    "For illustration, lets say we have a list with 16 elements.  Each iteration of\n",
    "binary search cuts the list in half.\n",
    "\n",
    "* Start with 16 elements\n",
    "* Iteration 1: cut in half: 8 elements\n",
    "* Iteration 2: cut in half: 4 elements\n",
    "* Iteration 3: cut in half: 2 elements\n",
    "* Iteration 4: cut in half: 1 element\n",
    "\n",
    "(The algorithm would stop early if it finds the element, let's assume it does\n",
    "not until the very end.)\n",
    "\n",
    "In each iteration we do a single comparison and update one index, that is $O(1)$\n",
    "work.  So the main question is how many iterations.  In the above example we had\n",
    "an input size of $n = 16 = 2^4$.  It's the power of 2 that determines how many\n",
    "operations must be performed in binary search.  Thus the number of operations\n",
    "for binary search is proportional to $\\log_2 n$ where $n$ is the input size.\n",
    "Thus, we say that binary search has time complexity of $O(\\log n)$.\n",
    "\n",
    "Note that the base of the logarithm is not important because\n",
    "$$\n",
    "\\log_2 n = \\frac{\\log_{10} n}{\\log_{10} 2}\n",
    "$$\n",
    "and $\\log_{10} 2$ is constant (independent of $n$).\n",
    "\n",
    "#### Summary: Binary search\n",
    "\n",
    "* Requires that the data first be sorted, but then:\n",
    "\n",
    "  * Best case: $O(1)$\n",
    "\n",
    "  * Average case: $O(\\log n)$\n",
    "\n",
    "  * Worst case: $O(\\log n)$\n",
    "\n",
    "### Sorting algorithms\n",
    "\n",
    "There are many sorting algorithms and this is a worthy area of study.  Here are\n",
    "few examples of names of sorting algorithms:\n",
    "\n",
    "* Quicksort\n",
    "\n",
    "* Merge sort\n",
    "\n",
    "* Heapsort\n",
    "\n",
    "* Timsort\n",
    "\n",
    "* Bubble sort\n",
    "\n",
    "* Radix sort\n",
    "\n",
    "The internet is full of examples of how sorting algorithms work\n",
    "\n",
    "* <http://www.youtube.com/watch?v=lyZQPjUT5B4>\n",
    "\n",
    "* <http://www.youtube.com/user/AlgoRythmics>\n",
    "\n",
    "#### Sorting algorithms reference\n",
    "\n",
    "![sorting algo table](fig/sorting-algo-table.png)\n",
    "\n",
    "See: <https://en.wikipedia.org/wiki/Sorting_algorithm#Comparison_of_algorithms>\n",
    "\n",
    "### Finding the maximum\n",
    "\n",
    "What's the order of the algorithm to find the maximum value in an *unordered*\n",
    "list?"
   ]
  },
  {
   "cell_type": "markdown",
   "metadata": {},
   "source": [
    "```\n",
    "|----+------+----+-----+----+----+-----+-----+---|\n",
    "| 17 | 1325 | -3 | 346 | 73 | 19 | 999 | 120 | 0 |\n",
    "|----+------+----+-----+----+----+-----+-----+---|\n",
    "```\n"
   ]
  },
  {
   "cell_type": "markdown",
   "metadata": {},
   "source": [
    "#### Idea: let's sort\n",
    "\n",
    "* Sort the list ascending / descending and take the last / first value\n",
    "\n",
    "* Cost of the algorithm will be the cost of the sorting plus one more operation\n",
    "to take the last / first value\n",
    "\n",
    "* Sorting algorithms are typically $O(n \\log n)$ or $O(n^2)$\n",
    "\n",
    "* Overall order of algorithm will clearly be the order of the sorting algorithm\n",
    "\n",
    "#### Idea: linear search\n",
    "\n",
    "Algorithm:\n",
    "\n",
    "* scan through the list sequentially\n",
    "* keep track of max element seen so far\n",
    "* compare each element and update if needed\n",
    "\n",
    "Step 1:"
   ]
  },
  {
   "cell_type": "markdown",
   "metadata": {},
   "source": [
    "```\n",
    "|----+------+----+-----+----+----+-----+-----+---|\n",
    "| 17 | 1325 | -3 | 346 | 73 | 19 | 999 | 120 | 0 |\n",
    "|----+------+----+-----+----+----+-----+-----+---|\n",
    "  ^\n",
    "  |\n",
    " 17\n",
    "```\n"
   ]
  },
  {
   "cell_type": "markdown",
   "metadata": {},
   "source": [
    "Step 2: move to next element, compare and update"
   ]
  },
  {
   "cell_type": "markdown",
   "metadata": {},
   "source": [
    "```\n",
    "|----+------+----+-----+----+----+-----+-----+---|\n",
    "| 17 | 1325 | -3 | 346 | 73 | 19 | 999 | 120 | 0 |\n",
    "|----+------+----+-----+----+----+-----+-----+---|\n",
    "         ^\n",
    "         |\n",
    "       1325\n",
    "```\n"
   ]
  },
  {
   "cell_type": "markdown",
   "metadata": {},
   "source": [
    "Repeat:"
   ]
  },
  {
   "cell_type": "markdown",
   "metadata": {},
   "source": [
    "```\n",
    "|----+------+----+-----+----+----+-----+-----+---|\n",
    "| 17 | 1325 | -3 | 346 | 73 | 19 | 999 | 120 | 0 |\n",
    "|----+------+----+-----+----+----+-----+-----+---|\n",
    "              ^\n",
    "              |\n",
    "            1325\n",
    "```\n"
   ]
  },
  {
   "cell_type": "markdown",
   "metadata": {},
   "source": [
    "And so on:"
   ]
  },
  {
   "cell_type": "markdown",
   "metadata": {},
   "source": [
    "```\n",
    "|----+------+----+-----+----+----+-----+-----+---|\n",
    "| 17 | 1325 | -3 | 346 | 73 | 19 | 999 | 120 | 0 |\n",
    "|----+------+----+-----+----+----+-----+-----+---|\n",
    "                                               ^\n",
    "                                               |\n",
    "                                             1325\n",
    "```\n"
   ]
  },
  {
   "cell_type": "markdown",
   "metadata": {},
   "source": [
    "Question: what is the order of this algorithm?\n",
    "\n",
    "### Find two largest values\n",
    "\n",
    "**Question:** What's the complexity to find the two largest values in an\n",
    "*unordered* list of $n$ values?\n",
    "\n",
    "Now we need to keep track of two values during the traverse of the list.  We\n",
    "will also need to sort the pair of numbers that we keep along the way.\n",
    "\n",
    "Start by looking at the first two elements:"
   ]
  },
  {
   "cell_type": "markdown",
   "metadata": {},
   "source": [
    "```\n",
    "|----+----+-----+-----+----+------+-----+---|\n",
    "| 17 | 73 | 417 | 346 | 73 | 1325 | 120 | 0 |\n",
    "|----+----+-----+-----+----+------+-----+---|\n",
    " ^    ^\n",
    " |    |\n",
    "(17,  73)\n",
    "(73,  17) <- sorted\n",
    "```\n"
   ]
  },
  {
   "cell_type": "markdown",
   "metadata": {},
   "source": [
    "Move down by one:"
   ]
  },
  {
   "cell_type": "markdown",
   "metadata": {},
   "source": [
    "```\n",
    "|----+----+-----+-----+----+------+-----+---|\n",
    "| 17 | 73 | 417 | 346 | 73 | 1325 | 120 | 0 |\n",
    "|----+----+-----+-----+----+------+-----+---|\n",
    "      ^    ^\n",
    "      |    |\n",
    "     (73,  417)\n",
    "     (417,  73) <- sorted\n",
    "```\n"
   ]
  },
  {
   "cell_type": "markdown",
   "metadata": {},
   "source": [
    "Repeat:"
   ]
  },
  {
   "cell_type": "markdown",
   "metadata": {},
   "source": [
    "```\n",
    "|----+----+-----+-----+----+------+-----+---|\n",
    "| 17 | 73 | 417 | 346 | 73 | 1325 | 120 | 0 |\n",
    "|----+----+-----+-----+----+------+-----+---|\n",
    "           ^     ^\n",
    "           |     |\n",
    "          (417,  346)\n",
    "          (417,  346) <- sorted\n",
    "```\n"
   ]
  },
  {
   "cell_type": "markdown",
   "metadata": {},
   "source": [
    "Repeat (in this case no update is needed):"
   ]
  },
  {
   "cell_type": "markdown",
   "metadata": {},
   "source": [
    "```\n",
    "|----+----+-----+-----+----+------+-----+---|\n",
    "| 17 | 73 | 417 | 346 | 73 | 1325 | 120 | 0 |\n",
    "|----+----+-----+-----+----+------+-----+---|\n",
    "                 ^     ^\n",
    "                 |     |\n",
    "                (417,  346)\n",
    "                (417,  346) <- sorted\n",
    "```\n"
   ]
  },
  {
   "cell_type": "markdown",
   "metadata": {},
   "source": [
    "Notes:\n",
    "\n",
    "* For each of n input elements you will do a comparison, potentially a\n",
    "  replacement, and a sort\n",
    "\n",
    "* Time complexity is $O(n)$\n",
    "\n",
    "Question:\n",
    "\n",
    "* Does that mean that finding the two largest values will take the same amount\n",
    "  of time as finding the single largest value?\n",
    "\n",
    "### $m$ largest values\n",
    "\n",
    "What if I want to find the $m$ largest values in an unordered list of $n$\n",
    "elements?\n",
    "\n",
    "This is an example of a more complicated algorithm.  We have two components to\n",
    "consider:\n",
    "\n",
    "* the length of the list $n$\n",
    "\n",
    "* number number of largest values that we want $m$\n",
    "\n",
    "Thus, it may not be appropriate to characterize an algorithm in terms of one\n",
    "parameter $n$.\n",
    "\n",
    "* Time complexity for finding the $m$ largest values in an unordered list of $n$\n",
    "elements could be characterized as $O(n m \\log m)$ for a sorting algorithm that\n",
    "is $O(m \\log m)$\n",
    "\n",
    "Question:\n",
    "\n",
    "* For what values of $m$ and $n$ is it better just to sort the list?\n",
    "\n",
    "### Finding sub-strings\n",
    "\n",
    "Important procedure.  We are using it in Homework 1.\n",
    "\n",
    "Example:"
   ]
  },
  {
   "cell_type": "markdown",
   "metadata": {},
   "source": [
    "```\n",
    "TGTAGAATCACTTGAAAGGCGCGCAGTCTGGGGCGCTAGTCGTGGT\n",
    "          CTTGAAAGG\n",
    "          ^       ^\n",
    "          |       |\n",
    "```\n"
   ]
  },
  {
   "cell_type": "markdown",
   "metadata": {},
   "source": [
    "* String has length $m$, and sub-string has length $n$\n",
    "\n",
    "* Different algorithms:\n",
    "\n",
    "  * $O(mn)$ for a naive implementation\n",
    "\n",
    "  * $O(m)$ for typical algorithms\n",
    "\n",
    "  * $O(n)$ for a search that uses the Burrows-Wheeler transform\n",
    "\n",
    "## List operations in Python"
   ]
  },
  {
   "cell_type": "code",
   "execution_count": 5,
   "metadata": {},
   "outputs": [
    {
     "name": "stdout",
     "output_type": "stream",
     "text": [
      "[42]\n",
      "[7, 42]\n",
      "[7, 19, 42]\n"
     ]
    }
   ],
   "source": [
    "a = []\n",
    "a.append(42)\n",
    "print(a)\n",
    "a.insert(0, 7)\n",
    "print(a)\n",
    "a.insert(1, 19)\n",
    "print(a)"
   ]
  },
  {
   "cell_type": "markdown",
   "metadata": {},
   "source": [
    "Python lists use contiguous storage.  As we are inserting into the list, the\n",
    "memory layout will look something like:"
   ]
  },
  {
   "cell_type": "markdown",
   "metadata": {},
   "source": [
    "```\n",
    "a.append(42)\n",
    "\n",
    "|----+---+---+---|\n",
    "| 42 | ? | ? | ? |\n",
    "|----+---+---+---|\n",
    "\n",
    "a.insert(0, 7)\n",
    "\n",
    "|---+----+---+---|\n",
    "| 7 | 42 | ? | ? |\n",
    "|---+----+---+---|\n",
    "\n",
    "a.insert(1, 19)\n",
    "\n",
    "|---+----+----+---|\n",
    "| 7 | 19 | 42 | ? |\n",
    "|---+----+----+---|\n",
    "\n",
    "```\n"
   ]
  },
  {
   "cell_type": "markdown",
   "metadata": {},
   "source": [
    "## List vs Set in python\n",
    "\n",
    "Let's compare Python's `list` and `set` objects for a few operations:"
   ]
  },
  {
   "cell_type": "code",
   "execution_count": 6,
   "metadata": {},
   "outputs": [],
   "source": [
    "def load_set(filename):\n",
    "    names_set = set()\n",
    "    with open(filename,'r') as f:\n",
    "        for line in f:\n",
    "            names_set.add(line.split()[0])\n",
    "    return names_set\n",
    "\n",
    "def load_list(filename):\n",
    "    names_list = []\n",
    "    with open(filename,'r') as f:\n",
    "        for line in f:\n",
    "            names_list.append(line.split()[0])\n",
    "    return names_list"
   ]
  },
  {
   "cell_type": "code",
   "execution_count": 7,
   "metadata": {},
   "outputs": [],
   "source": [
    "names_list = load_list('../lecture-04/dist.female.first')\n",
    "names_set = load_set('../lecture-04/dist.female.first')"
   ]
  },
  {
   "cell_type": "markdown",
   "metadata": {},
   "source": [
    "Let's test:"
   ]
  },
  {
   "cell_type": "code",
   "execution_count": 8,
   "metadata": {},
   "outputs": [
    {
     "data": {
      "text/plain": [
       "True"
      ]
     },
     "execution_count": 8,
     "metadata": {},
     "output_type": "execute_result"
    }
   ],
   "source": [
    "'JANE' in names_list"
   ]
  },
  {
   "cell_type": "code",
   "execution_count": 9,
   "metadata": {},
   "outputs": [
    {
     "data": {
      "text/plain": [
       "False"
      ]
     },
     "execution_count": 9,
     "metadata": {},
     "output_type": "execute_result"
    }
   ],
   "source": [
    "'LELAND' in names_list"
   ]
  },
  {
   "cell_type": "code",
   "execution_count": 10,
   "metadata": {},
   "outputs": [
    {
     "data": {
      "text/plain": [
       "True"
      ]
     },
     "execution_count": 10,
     "metadata": {},
     "output_type": "execute_result"
    }
   ],
   "source": [
    "'JANE' in names_set"
   ]
  },
  {
   "cell_type": "code",
   "execution_count": 11,
   "metadata": {},
   "outputs": [
    {
     "data": {
      "text/plain": [
       "False"
      ]
     },
     "execution_count": 11,
     "metadata": {},
     "output_type": "execute_result"
    }
   ],
   "source": [
    "'LELAND' in names_set"
   ]
  },
  {
   "cell_type": "markdown",
   "metadata": {},
   "source": [
    "Which container is better for insertion and existence testing?\n",
    "\n",
    "Exercise: use IPython's `%timeit` magic command.\n",
    "\n",
    "## Documentation\n",
    "\n",
    "![time complexity](fig/time-complexity.png)\n",
    "\n",
    "See: <https://wiki.python.org/moin/TimeComplexity>\n",
    "\n",
    "### List operations\n",
    "\n",
    "![list](fig/list.png)\n",
    "\n",
    "### Set operations\n",
    "\n",
    "![set](fig/set.png)\n",
    "\n",
    "## Dictionary operations\n",
    "\n",
    "![dict](fig/dict.png)\n",
    "\n",
    "## Space complexity\n",
    "\n",
    "* What additional storage will I need during execution of the algorithm?\n",
    "\n",
    "* Doesn't include the input or output data\n",
    "\n",
    "* Really just refers to temporary data structures which have the life of the\n",
    "algorithm\n",
    "\n",
    "* Process for determining the space complexity is analogous to determining time\n",
    "complexity\n",
    "\n",
    "## Summary: complexity analysis\n",
    "\n",
    "* Good framework for comparing *algorithms*\n",
    "\n",
    "* Understanding individual algorithms will help you understand performance of an\n",
    "application made up of multiple algorithms\n",
    "\n",
    "* Also important for understanding data structures\n",
    "\n",
    "* Caveats:\n",
    "\n",
    "  * There is no standard definition of what constitutes an operation\n",
    "\n",
    "  * It's an asymptotic limit for large $n$\n",
    "\n",
    "  * Says nothing about the constants\n",
    "\n",
    "  * May make assumptions about dataset (random distribution, etc.)"
   ]
  }
 ],
 "metadata": {},
 "nbformat": 4,
 "nbformat_minor": 2
}
