{
 "cells": [
  {
   "cell_type": "markdown",
   "metadata": {},
   "source": [
    "# CME 211: Lecture 4: Functions and Complexity Analysis\n",
    "\n",
    "## Python functions\n",
    "\n",
    "* Code we have seen so far has been executed in linear fashion from top to\n",
    "  bottom, sometimes repeating one or more lines in a loop body\n",
    "\n",
    "* Functions allow us to:\n",
    "\n",
    "  * Replace duplicated code with one centralized implementation within a single\n",
    "    program\n",
    "\n",
    "  * Reuse code across different programs\n",
    "\n",
    "  * Easily use code developed by others\n",
    "\n",
    "  * Develop, test, debug code in isolation from other code\n",
    "\n",
    "* Analogous to mathematical functions\n",
    "\n",
    "## Defining a function in Python\n",
    "\n",
    "Let's start with an example:"
   ]
  },
  {
   "cell_type": "code",
   "execution_count": 1,
   "metadata": {},
   "outputs": [],
   "source": [
    "def print_hello(name):\n",
    "    print(\"Hello, {}\".format(name))"
   ]
  },
  {
   "cell_type": "markdown",
   "metadata": {},
   "source": [
    "If Python encounters a function name without parens `()`, it tells us that it\n",
    "is a function:"
   ]
  },
  {
   "cell_type": "code",
   "execution_count": 2,
   "metadata": {},
   "outputs": [
    {
     "data": {
      "text/plain": [
       "<function __main__.print_hello>"
      ]
     },
     "execution_count": 2,
     "metadata": {},
     "output_type": "execute_result"
    }
   ],
   "source": [
    "print_hello"
   ]
  },
  {
   "cell_type": "markdown",
   "metadata": {},
   "source": [
    "Call the function:"
   ]
  },
  {
   "cell_type": "code",
   "execution_count": 3,
   "metadata": {},
   "outputs": [
    {
     "name": "stdout",
     "output_type": "stream",
     "text": [
      "Hello, CME211\n"
     ]
    }
   ],
   "source": [
    "print_hello(\"CME211\")"
   ]
  },
  {
   "cell_type": "markdown",
   "metadata": {},
   "source": [
    "## Anatomy of a Python function"
   ]
  },
  {
   "cell_type": "code",
   "execution_count": 4,
   "metadata": {},
   "outputs": [],
   "source": [
    "def function_name(input_argument):\n",
    "    # function body\n",
    "    print(\"you guys rock\")"
   ]
  },
  {
   "cell_type": "markdown",
   "metadata": {},
   "source": [
    "1. start with `def` keyword\n",
    "\n",
    "2. give the function name\n",
    "\n",
    "3. followed by comma separated list of input arguments, surrounded by\n",
    "   parentheses\n",
    "\n",
    "  * just use `()` for no input arguments\n",
    "\n",
    "4. followed by a colon `:`\n",
    "\n",
    "5. followed by **indented** function body\n",
    "\n",
    "### Return a value\n",
    "\n",
    "Use the `return` keyword to return an object from a function:"
   ]
  },
  {
   "cell_type": "code",
   "execution_count": 5,
   "metadata": {},
   "outputs": [],
   "source": [
    "def summation(a, b):\n",
    "    total = 0\n",
    "    for n in range(a,b+1):\n",
    "        total += n\n",
    "    return total"
   ]
  },
  {
   "cell_type": "code",
   "execution_count": 6,
   "metadata": {},
   "outputs": [
    {
     "data": {
      "text/plain": [
       "5050"
      ]
     },
     "execution_count": 6,
     "metadata": {},
     "output_type": "execute_result"
    }
   ],
   "source": [
    "c = summation(1, 100)\n",
    "c"
   ]
  },
  {
   "cell_type": "markdown",
   "metadata": {},
   "source": [
    "### Return multiple values\n",
    "\n",
    "Separate multiple return values with a comma:"
   ]
  },
  {
   "cell_type": "code",
   "execution_count": 7,
   "metadata": {},
   "outputs": [],
   "source": [
    "def sum_and_prod(a,b):\n",
    "   total = 0\n",
    "   prod = 1\n",
    "   for n in range(a,b+1):\n",
    "       total += n\n",
    "       prod *= n\n",
    "   return total, prod"
   ]
  },
  {
   "cell_type": "markdown",
   "metadata": {},
   "source": [
    "Call the function:"
   ]
  },
  {
   "cell_type": "code",
   "execution_count": 8,
   "metadata": {},
   "outputs": [
    {
     "name": "stdout",
     "output_type": "stream",
     "text": [
      "a: (55, 3628800)\n",
      "type(a): <class 'tuple'>\n"
     ]
    }
   ],
   "source": [
    "a = sum_and_prod(1,10)\n",
    "print(\"a:\", a)\n",
    "print(\"type(a):\", type(a))"
   ]
  },
  {
   "cell_type": "markdown",
   "metadata": {},
   "source": [
    "The `return` keyword packs multiple outputs into a tuple.  You can use Python's\n",
    "tuple unpacking to nicely get the return values in calling code."
   ]
  },
  {
   "cell_type": "code",
   "execution_count": 9,
   "metadata": {},
   "outputs": [
    {
     "name": "stdout",
     "output_type": "stream",
     "text": [
      "a: 55\n",
      "b: 3628800\n"
     ]
    }
   ],
   "source": [
    "a, b = sum_and_prod(1,10)\n",
    "print(\"a:\", a)\n",
    "print(\"b:\", b)"
   ]
  },
  {
   "cell_type": "markdown",
   "metadata": {},
   "source": [
    "## Variable scope\n",
    "\n",
    "Let's look at an example to start discussing variable scope:"
   ]
  },
  {
   "cell_type": "code",
   "execution_count": 10,
   "metadata": {},
   "outputs": [
    {
     "data": {
      "text/plain": [
       "5050"
      ]
     },
     "execution_count": 10,
     "metadata": {},
     "output_type": "execute_result"
    }
   ],
   "source": [
    "total = 42\n",
    "def summation(a, b):\n",
    "    total = 0\n",
    "    for n in range(a, b+1):\n",
    "        total += n\n",
    "    return total\n",
    "\n",
    "a = summation(1, 100)\n",
    "a"
   ]
  },
  {
   "cell_type": "code",
   "execution_count": 11,
   "metadata": {},
   "outputs": [
    {
     "name": "stdout",
     "output_type": "stream",
     "text": [
      "total: 42\n"
     ]
    }
   ],
   "source": [
    "print(\"total:\", total)"
   ]
  },
  {
   "cell_type": "code",
   "execution_count": 12,
   "metadata": {},
   "outputs": [
    {
     "ename": "NameError",
     "evalue": "name 'n' is not defined",
     "output_type": "error",
     "traceback": [
      "\u001b[0;31m---------------------------------------------------------------------------\u001b[0m",
      "\u001b[0;31mNameError\u001b[0m                                 Traceback (most recent call last)",
      "\u001b[0;32m<ipython-input-12-1512a5fb07a8>\u001b[0m in \u001b[0;36m<module>\u001b[0;34m()\u001b[0m\n\u001b[0;32m----> 1\u001b[0;31m \u001b[0mprint\u001b[0m\u001b[0;34m(\u001b[0m\u001b[0;34m\"n:\"\u001b[0m\u001b[0;34m,\u001b[0m \u001b[0mn\u001b[0m\u001b[0;34m)\u001b[0m\u001b[0;34m\u001b[0m\u001b[0m\n\u001b[0m",
      "\u001b[0;31mNameError\u001b[0m: name 'n' is not defined"
     ]
    }
   ],
   "source": [
    "print(\"n:\", n)"
   ]
  },
  {
   "cell_type": "markdown",
   "metadata": {},
   "source": [
    "Function bodies have a local namespace.  In this example the `summation`\n",
    "function does not see the variable `total` from the top level scope.\n",
    "`summation` creates its own variable `total` which is different!  The top level\n",
    "scope also cannot see variables used inside of `summation`.\n",
    "\n",
    "Reference before assignment to a global scope variable will cause an error:"
   ]
  },
  {
   "cell_type": "code",
   "execution_count": 13,
   "metadata": {},
   "outputs": [
    {
     "ename": "UnboundLocalError",
     "evalue": "local variable 'total' referenced before assignment",
     "output_type": "error",
     "traceback": [
      "\u001b[0;31m---------------------------------------------------------------------------\u001b[0m",
      "\u001b[0;31mUnboundLocalError\u001b[0m                         Traceback (most recent call last)",
      "\u001b[0;32m<ipython-input-13-27a7d9a55793>\u001b[0m in \u001b[0;36m<module>\u001b[0;34m()\u001b[0m\n\u001b[1;32m      7\u001b[0m     \u001b[0;32mreturn\u001b[0m \u001b[0mtotal\u001b[0m\u001b[0;34m\u001b[0m\u001b[0m\n\u001b[1;32m      8\u001b[0m \u001b[0;34m\u001b[0m\u001b[0m\n\u001b[0;32m----> 9\u001b[0;31m \u001b[0ma\u001b[0m \u001b[0;34m=\u001b[0m \u001b[0msummation\u001b[0m\u001b[0;34m(\u001b[0m\u001b[0;36m1\u001b[0m\u001b[0;34m,\u001b[0m \u001b[0;36m100\u001b[0m\u001b[0;34m)\u001b[0m\u001b[0;34m\u001b[0m\u001b[0m\n\u001b[0m",
      "\u001b[0;32m<ipython-input-13-27a7d9a55793>\u001b[0m in \u001b[0;36msummation\u001b[0;34m(a, b)\u001b[0m\n\u001b[1;32m      2\u001b[0m \u001b[0;32mdef\u001b[0m \u001b[0msummation\u001b[0m\u001b[0;34m(\u001b[0m\u001b[0ma\u001b[0m\u001b[0;34m,\u001b[0m \u001b[0mb\u001b[0m\u001b[0;34m)\u001b[0m\u001b[0;34m:\u001b[0m\u001b[0;34m\u001b[0m\u001b[0m\n\u001b[1;32m      3\u001b[0m     \u001b[0;32mfor\u001b[0m \u001b[0mn\u001b[0m \u001b[0;32min\u001b[0m \u001b[0mrange\u001b[0m\u001b[0;34m(\u001b[0m\u001b[0ma\u001b[0m\u001b[0;34m,\u001b[0m \u001b[0mb\u001b[0m\u001b[0;34m+\u001b[0m\u001b[0;36m1\u001b[0m\u001b[0;34m)\u001b[0m\u001b[0;34m:\u001b[0m\u001b[0;34m\u001b[0m\u001b[0m\n\u001b[0;32m----> 4\u001b[0;31m         \u001b[0mtotal\u001b[0m \u001b[0;34m=\u001b[0m \u001b[0mtotal\u001b[0m \u001b[0;34m+\u001b[0m \u001b[0mn\u001b[0m\u001b[0;34m\u001b[0m\u001b[0m\n\u001b[0m\u001b[1;32m      5\u001b[0m         \u001b[0;31m#         ^\u001b[0m\u001b[0;34m\u001b[0m\u001b[0;34m\u001b[0m\u001b[0m\n\u001b[1;32m      6\u001b[0m         \u001b[0;31m#       reference before assignment\u001b[0m\u001b[0;34m\u001b[0m\u001b[0;34m\u001b[0m\u001b[0m\n",
      "\u001b[0;31mUnboundLocalError\u001b[0m: local variable 'total' referenced before assignment"
     ]
    }
   ],
   "source": [
    "total = 0\n",
    "def summation(a, b):\n",
    "    for n in range(a, b+1):\n",
    "        total = total + n\n",
    "        #         ^\n",
    "        #       reference before assignment\n",
    "    return total\n",
    "\n",
    "a = summation(1, 100)"
   ]
  },
  {
   "cell_type": "markdown",
   "metadata": {},
   "source": [
    "### Variable scope examples\n",
    "\n",
    "It is possible to use a variable from a higher scope.  This is generally\n",
    "considered bad practice:"
   ]
  },
  {
   "cell_type": "code",
   "execution_count": 14,
   "metadata": {},
   "outputs": [
    {
     "name": "stdout",
     "output_type": "stream",
     "text": [
      "['hi', 'bye']\n"
     ]
    }
   ],
   "source": [
    "a = ['hi', 'bye']\n",
    "def func():\n",
    "    print(a)\n",
    "\n",
    "func()"
   ]
  },
  {
   "cell_type": "markdown",
   "metadata": {},
   "source": [
    "Even worse practice is modifying a mutable object from a higher scope:"
   ]
  },
  {
   "cell_type": "code",
   "execution_count": 15,
   "metadata": {},
   "outputs": [
    {
     "name": "stdout",
     "output_type": "stream",
     "text": [
      "['hi', 'bye', 'hello']\n"
     ]
    }
   ],
   "source": [
    "a = ['hi', 'bye']\n",
    "def func():\n",
    "    a.append('hello')\n",
    "\n",
    "func()\n",
    "print(a)"
   ]
  },
  {
   "cell_type": "markdown",
   "metadata": {},
   "source": [
    "Python will not let you redirect an identifier at a global scope.  Here the\n",
    "function body has its own `a`:"
   ]
  },
  {
   "cell_type": "code",
   "execution_count": 16,
   "metadata": {},
   "outputs": [
    {
     "name": "stdout",
     "output_type": "stream",
     "text": [
      "['hi', 'bye']\n"
     ]
    }
   ],
   "source": [
    "a = ['hi', 'bye']\n",
    "def func():\n",
    "    a = 2\n",
    "\n",
    "func()\n",
    "print(a)"
   ]
  },
  {
   "cell_type": "markdown",
   "metadata": {},
   "source": [
    "### Accessing a global variable\n",
    "\n",
    "This is bad practice, do not do this.  We will take off points.  We show you in\n",
    "case you run into it."
   ]
  },
  {
   "cell_type": "code",
   "execution_count": 17,
   "metadata": {},
   "outputs": [
    {
     "name": "stdout",
     "output_type": "stream",
     "text": [
      "total: 5050\n"
     ]
    }
   ],
   "source": [
    "total = 0\n",
    "def summation(a,b):\n",
    "    global total\n",
    "    for n in range(a, b+1):\n",
    "        total += n\n",
    "\n",
    "a = summation(1,100)\n",
    "print(\"total:\",total)"
   ]
  },
  {
   "cell_type": "markdown",
   "metadata": {},
   "source": [
    "## Functions must be defined before they are used\n",
    "\n",
    "Functions must be defined before they are used!  See the file `order1.py`:"
   ]
  },
  {
   "cell_type": "code",
   "execution_count": 18,
   "metadata": {},
   "outputs": [
    {
     "name": "stdout",
     "output_type": "stream",
     "text": [
      "I am function defined before use.\n"
     ]
    },
    {
     "ename": "NameError",
     "evalue": "name 'after' is not defined",
     "output_type": "error",
     "traceback": [
      "\u001b[0;31m---------------------------------------------------------------------------\u001b[0m",
      "\u001b[0;31mNameError\u001b[0m                                 Traceback (most recent call last)",
      "\u001b[0;32m<ipython-input-18-157b58538684>\u001b[0m in \u001b[0;36m<module>\u001b[0;34m()\u001b[0m\n\u001b[1;32m      3\u001b[0m \u001b[0;34m\u001b[0m\u001b[0m\n\u001b[1;32m      4\u001b[0m \u001b[0mbefore\u001b[0m\u001b[0;34m(\u001b[0m\u001b[0;34m)\u001b[0m\u001b[0;34m\u001b[0m\u001b[0m\n\u001b[0;32m----> 5\u001b[0;31m \u001b[0mafter\u001b[0m\u001b[0;34m(\u001b[0m\u001b[0;34m)\u001b[0m\u001b[0;34m\u001b[0m\u001b[0m\n\u001b[0m\u001b[1;32m      6\u001b[0m \u001b[0;34m\u001b[0m\u001b[0m\n\u001b[1;32m      7\u001b[0m \u001b[0;32mdef\u001b[0m \u001b[0mafter\u001b[0m\u001b[0;34m(\u001b[0m\u001b[0;34m)\u001b[0m\u001b[0;34m:\u001b[0m\u001b[0;34m\u001b[0m\u001b[0m\n",
      "\u001b[0;31mNameError\u001b[0m: name 'after' is not defined"
     ]
    }
   ],
   "source": [
    "def before():\n",
    "    print(\"I am function defined before use.\")\n",
    "\n",
    "before()\n",
    "after()\n",
    "\n",
    "def after():\n",
    "    print(\"I am function defined after use.\")"
   ]
  },
  {
   "cell_type": "markdown",
   "metadata": {},
   "source": [
    "Output:"
   ]
  },
  {
   "cell_type": "markdown",
   "metadata": {},
   "source": [
    "```\n",
    "$ python3 order1.py\n",
    "I am function defined before use.\n",
    "Traceback (most recent call last):\n",
    "  File \"order.py\", line 5, in <module>\n",
    "    after()\n",
    "NameError: name 'after' is not defined\n",
    "$\n",
    "```\n"
   ]
  },
  {
   "cell_type": "markdown",
   "metadata": {},
   "source": [
    "A function may refer to another function defined later in the file.  The rule is\n",
    "that functions must be defined before they are actually invoked/called.\n",
    "\n",
    "See `order2.py`:"
   ]
  },
  {
   "cell_type": "code",
   "execution_count": 19,
   "metadata": {},
   "outputs": [
    {
     "name": "stdout",
     "output_type": "stream",
     "text": [
      "385\n"
     ]
    }
   ],
   "source": [
    "def sumofsquares(a, b):\n",
    "    total = 0\n",
    "    for n in range(a, b+1):\n",
    "        total += squared(n)\n",
    "    return total\n",
    "\n",
    "def squared(n):\n",
    "    return n*n\n",
    "\n",
    "print(sumofsquares(1,10))"
   ]
  },
  {
   "cell_type": "markdown",
   "metadata": {},
   "source": [
    "Output:"
   ]
  },
  {
   "cell_type": "markdown",
   "metadata": {},
   "source": [
    "```\n",
    "$ python3 order2.py\n",
    "385\n",
    "```\n"
   ]
  },
  {
   "cell_type": "markdown",
   "metadata": {},
   "source": [
    "## Passing convention\n",
    "\n",
    "Python uses pass by object reference.  Python functions can change mutable\n",
    "objects referred to by input variables"
   ]
  },
  {
   "cell_type": "code",
   "execution_count": 20,
   "metadata": {},
   "outputs": [
    {
     "name": "stdout",
     "output_type": "stream",
     "text": [
      "['feed dog']\n"
     ]
    }
   ],
   "source": [
    "def do_chores(a):\n",
    "    a.pop()\n",
    "\n",
    "b = ['feed dog', 'wash dishes']\n",
    "do_chores(b)\n",
    "print(b)"
   ]
  },
  {
   "cell_type": "markdown",
   "metadata": {},
   "source": [
    "`int`s, `float`s, and `str`ings are immutable objects and cannot be changed by a\n",
    "function:"
   ]
  },
  {
   "cell_type": "code",
   "execution_count": 21,
   "metadata": {},
   "outputs": [
    {
     "data": {
      "text/plain": [
       "2"
      ]
     },
     "execution_count": 21,
     "metadata": {},
     "output_type": "execute_result"
    }
   ],
   "source": [
    "def increment(a):\n",
    "    a = a + 1\n",
    "\n",
    "b = 2\n",
    "increment(b)\n",
    "b"
   ]
  },
  {
   "cell_type": "markdown",
   "metadata": {},
   "source": [
    "### Pass by object reference\n",
    "\n",
    "* Python uses what is sometimes called pass by object reference when calling\n",
    "  functions\n",
    "\n",
    "* If the reference is to a mutable object (e.g. lists, dictionaries, etc.), that\n",
    "  object might be modified upon return from the function\n",
    "\n",
    "* For references to immutable objects (e.g. numbers, strings), by definition the\n",
    "  original object being referenced cannot be modified\n",
    "\n",
    "## Default and keyword arguments\n",
    "\n",
    "We have seen that the behavior of some Python functions can be modified by\n",
    "passing keyword arguments.  Keyword arguments have default values.  For example,\n",
    "the `print` function has optional `end` and `sep` arguments:"
   ]
  },
  {
   "cell_type": "code",
   "execution_count": 22,
   "metadata": {},
   "outputs": [
    {
     "name": "stdout",
     "output_type": "stream",
     "text": [
      "first line, \n",
      "second line\n"
     ]
    }
   ],
   "source": [
    "print(\"first line, \")\n",
    "print(\"second line\")"
   ]
  },
  {
   "cell_type": "code",
   "execution_count": 23,
   "metadata": {},
   "outputs": [
    {
     "name": "stdout",
     "output_type": "stream",
     "text": [
      "first line, second line\n"
     ]
    }
   ],
   "source": [
    "print(\"first line, \", end=\"\")\n",
    "print(\"second line\")"
   ]
  },
  {
   "cell_type": "code",
   "execution_count": 24,
   "metadata": {},
   "outputs": [
    {
     "name": "stdout",
     "output_type": "stream",
     "text": [
      "1 2 3 4 5 6 7\n",
      "1, 2, 3, 4, 5, 6, 7\n"
     ]
    }
   ],
   "source": [
    "print(1,2,3,4,5,6,7)\n",
    "print(1,2,3,4,5,6,7, sep=\", \")"
   ]
  },
  {
   "cell_type": "markdown",
   "metadata": {},
   "source": [
    "It is simple to use this feature when defining functions:"
   ]
  },
  {
   "cell_type": "code",
   "execution_count": 25,
   "metadata": {},
   "outputs": [
    {
     "name": "stdout",
     "output_type": "stream",
     "text": [
      "   func(1) = 2\n",
      "func(1, 2) = 3\n"
     ]
    }
   ],
   "source": [
    "def func(x, a = 1):\n",
    "    return x + a\n",
    "\n",
    "print(\"   func(1) =\", func(1))\n",
    "print(\"func(1, 2) =\", func(1, 2))"
   ]
  },
  {
   "cell_type": "markdown",
   "metadata": {},
   "source": [
    "The default value is used if the argument is not specified when the function is\n",
    "called.\n",
    "\n",
    "### Multiple default arguments\n",
    "\n",
    "Consider the function prototype: `func(x, a=1, b=2)`.\n",
    "\n",
    "Suppose we want to use the default value for `a`, but change `b`:"
   ]
  },
  {
   "cell_type": "code",
   "execution_count": 26,
   "metadata": {},
   "outputs": [
    {
     "name": "stdout",
     "output_type": "stream",
     "text": [
      "     func(2) = 0\n",
      "  func(5, 2) = 4\n",
      "func(3, b=0) = 4\n"
     ]
    }
   ],
   "source": [
    "def func(x, a=1, b=3):\n",
    "    return x + a - b\n",
    "\n",
    "print(\"     func(2) =\", func(2))\n",
    "print(\"  func(5, 2) =\", func(5, 2))\n",
    "print(\"func(3, b=0) =\", func(3, b=0))"
   ]
  },
  {
   "cell_type": "markdown",
   "metadata": {},
   "source": [
    "Keyword arguments may be passed in any order:"
   ]
  },
  {
   "cell_type": "code",
   "execution_count": 27,
   "metadata": {},
   "outputs": [
    {
     "data": {
      "text/plain": [
       "12"
      ]
     },
     "execution_count": 27,
     "metadata": {},
     "output_type": "execute_result"
    }
   ],
   "source": [
    "func(10, b=5, a=7)"
   ]
  },
  {
   "cell_type": "markdown",
   "metadata": {},
   "source": [
    "See the [Python Tutorial section on defining functions][py-func-tut] for more\n",
    "info.\n",
    "\n",
    "[py-func-tut]: https://docs.python.org/3/tutorial/controlflow.html#more-on-defining-functions\n",
    "\n",
    "## Docstring\n",
    "\n",
    "It is important that others, including *you-in-3-months-time* are able\n",
    "to understand what your code does.\n",
    "\n",
    "This can be easily done using a so called \"docstring\", as follows:"
   ]
  },
  {
   "cell_type": "code",
   "execution_count": 28,
   "metadata": {},
   "outputs": [],
   "source": [
    "def nothing():\n",
    "    \"\"\" This function doesn’t do anything. \"\"\"\n",
    "    pass"
   ]
  },
  {
   "cell_type": "markdown",
   "metadata": {},
   "source": [
    "We can then read the docstring from the interpreter using:"
   ]
  },
  {
   "cell_type": "code",
   "execution_count": 29,
   "metadata": {},
   "outputs": [
    {
     "name": "stdout",
     "output_type": "stream",
     "text": [
      "Help on function nothing in module __main__:\n",
      "\n",
      "nothing()\n",
      "    This function doesn’t do anything.\n",
      "\n"
     ]
    }
   ],
   "source": [
    "help(nothing)"
   ]
  },
  {
   "cell_type": "markdown",
   "metadata": {},
   "source": [
    "Built-in Python functions also have documentation, see `help(print)`:"
   ]
  },
  {
   "cell_type": "code",
   "execution_count": 30,
   "metadata": {},
   "outputs": [
    {
     "name": "stdout",
     "output_type": "stream",
     "text": [
      "Help on built-in function print in module builtins:\n",
      "\n",
      "print(...)\n",
      "    print(value, ..., sep=' ', end='\\n', file=sys.stdout, flush=False)\n",
      "    \n",
      "    Prints the values to a stream, or to sys.stdout by default.\n",
      "    Optional keyword arguments:\n",
      "    file:  a file-like object (stream); defaults to the current sys.stdout.\n",
      "    sep:   string inserted between values, default a space.\n",
      "    end:   string appended after the last value, default a newline.\n",
      "    flush: whether to forcibly flush the stream.\n",
      "\n"
     ]
    }
   ],
   "source": [
    "help(print)"
   ]
  },
  {
   "cell_type": "markdown",
   "metadata": {},
   "source": [
    "## Functions as objects\n",
    "\n",
    "In Python everything is an object, this includes functions.  It is possible to\n",
    "pass functions to other functions:"
   ]
  },
  {
   "cell_type": "code",
   "execution_count": 31,
   "metadata": {},
   "outputs": [],
   "source": [
    "def simple_function():\n",
    "    print(\"hello from simple_function()\")\n",
    "\n",
    "def function_caller(f):\n",
    "    # just call the function f\n",
    "    f()"
   ]
  },
  {
   "cell_type": "markdown",
   "metadata": {},
   "source": [
    "Now, we can pass `simple_function` to `function_caller`:"
   ]
  },
  {
   "cell_type": "code",
   "execution_count": 32,
   "metadata": {},
   "outputs": [
    {
     "name": "stdout",
     "output_type": "stream",
     "text": [
      "hello from simple_function()\n"
     ]
    }
   ],
   "source": [
    "function_caller(simple_function)"
   ]
  },
  {
   "cell_type": "markdown",
   "metadata": {},
   "source": [
    "This is useful when combined with Python's [`map`][py-map] and\n",
    "[`filter`][py-filter] functions.\n",
    "\n",
    "[py-map]: https://docs.python.org/3/library/functions.html#map\n",
    "[py-filter]: https://docs.python.org/3/library/functions.html#filter\n",
    "\n",
    "### `map`\n",
    "\n",
    "The `map` function takes a mapping function and one or more iterable\n",
    "objects as input arguments. The `map` returns an\n",
    "[iterator](py-iter)\n",
    "that applies the input function to every item of the iterable object yielding the\n",
    "results. Take for example square function"
   ]
  },
  {
   "cell_type": "code",
   "execution_count": 33,
   "metadata": {},
   "outputs": [],
   "source": [
    "def square(x):\n",
    "    return x*x"
   ]
  },
  {
   "cell_type": "markdown",
   "metadata": {},
   "source": [
    "and a list as `map` inputs:"
   ]
  },
  {
   "cell_type": "code",
   "execution_count": 34,
   "metadata": {},
   "outputs": [
    {
     "data": {
      "text/plain": [
       "<map at 0x111023ac8>"
      ]
     },
     "execution_count": 34,
     "metadata": {},
     "output_type": "execute_result"
    }
   ],
   "source": [
    "map(square, [1,2,3,4,5,6])"
   ]
  },
  {
   "cell_type": "markdown",
   "metadata": {},
   "source": [
    "The return value is an iterator can be used in a `for` loop:"
   ]
  },
  {
   "cell_type": "code",
   "execution_count": 35,
   "metadata": {},
   "outputs": [
    {
     "name": "stdout",
     "output_type": "stream",
     "text": [
      "1, 4, 9, 16, 25, 36, \n"
     ]
    }
   ],
   "source": [
    "for s in map(square, [1,2,3,4,5,6]):\n",
    "    print(s,end=', ')\n",
    "print()"
   ]
  },
  {
   "cell_type": "markdown",
   "metadata": {},
   "source": [
    "The iterator does not create a new list, it simply allows you to calculate all\n",
    "mapped values. If we want to create a list with mapped values, we\n",
    "pass the iterator as the input argument of the list constructor:"
   ]
  },
  {
   "cell_type": "code",
   "execution_count": 36,
   "metadata": {},
   "outputs": [
    {
     "data": {
      "text/plain": [
       "[1, 4, 9, 16, 25, 36]"
      ]
     },
     "execution_count": 36,
     "metadata": {},
     "output_type": "execute_result"
    }
   ],
   "source": [
    "list(map(square,[1,2,3,4,5,6]))"
   ]
  },
  {
   "cell_type": "markdown",
   "metadata": {},
   "source": [
    "[py-iter]: https://stackoverflow.com/questions/9884132/what-exactly-are-iterator-iterable-and-iteration\n",
    "\n",
    "### `filter`\n",
    "\n",
    "The `filter` function returns an iterator over items in a container for which\n",
    "the input function returns `True`:"
   ]
  },
  {
   "cell_type": "code",
   "execution_count": 37,
   "metadata": {},
   "outputs": [],
   "source": [
    "def isodd(x):\n",
    "    return x % 2 != 0"
   ]
  },
  {
   "cell_type": "code",
   "execution_count": 38,
   "metadata": {},
   "outputs": [
    {
     "data": {
      "text/plain": [
       "[1, 3, 5, 7]"
      ]
     },
     "execution_count": 38,
     "metadata": {},
     "output_type": "execute_result"
    }
   ],
   "source": [
    "list(filter(isodd,[1,2,3,4,5,6,7]))"
   ]
  },
  {
   "cell_type": "markdown",
   "metadata": {},
   "source": [
    "Note: In Python 2.x, `map` and `filter` functions return containers with mapped\n",
    "and filtered data, respecively. In Python 3.x, it is programmers responsibility\n",
    "to decide when and if mapped/filtered data should be stored in memory.\n",
    "\n",
    "\n",
    "### Lambda functions\n",
    "\n",
    "A **lambda** function is simply a function without a name.  These are also\n",
    "called **anonymous** functions.\n",
    "\n",
    "They are used as an alternative way to define short functions:"
   ]
  },
  {
   "cell_type": "code",
   "execution_count": 39,
   "metadata": {},
   "outputs": [
    {
     "name": "stdout",
     "output_type": "stream",
     "text": [
      "cube(3) =  27\n"
     ]
    }
   ],
   "source": [
    "cube = lambda x: x*x*x\n",
    "print(\"cube(3) = \", cube(3))"
   ]
  },
  {
   "cell_type": "code",
   "execution_count": 40,
   "metadata": {},
   "outputs": [
    {
     "data": {
      "text/plain": [
       "[1, 8, 27, 64, 125, 216, 343, 512, 729]"
      ]
     },
     "execution_count": 40,
     "metadata": {},
     "output_type": "execute_result"
    }
   ],
   "source": [
    "list(map(lambda x: x*x*x, [1,2,3,4,5,6,7,8,9]))"
   ]
  },
  {
   "cell_type": "markdown",
   "metadata": {},
   "source": [
    "## Example of a bad function"
   ]
  },
  {
   "cell_type": "code",
   "execution_count": 41,
   "metadata": {},
   "outputs": [],
   "source": [
    "def add(a, b):\n",
    "    # I wrote this function because Nick\n",
    "    # is mean and is making us write three functions in a homework\n",
    "    return a + b"
   ]
  },
  {
   "cell_type": "markdown",
   "metadata": {},
   "source": [
    "## Recommended Reading\n",
    "\n",
    "From **Learning Python, Fifth Edition** by Mark Lutz\n",
    "\n",
    "* Chapter 6: The Dynamic Typing Interlude (i.e. references and objects)\n",
    "\n",
    "* Chapter 16: Function Basics\n",
    "\n",
    "* Chapter 17: Scopes\n",
    "\n",
    "* Chapter 18: Arguments"
   ]
  }
 ],
 "metadata": {},
 "nbformat": 4,
 "nbformat_minor": 2
}
